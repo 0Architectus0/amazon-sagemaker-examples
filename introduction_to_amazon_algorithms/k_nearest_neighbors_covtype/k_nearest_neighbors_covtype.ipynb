{
 "cells": [
  {
   "cell_type": "markdown",
   "metadata": {},
   "source": [
    "# Introduction\n",
    "\n",
    "k-Nearest-Neighbors (kNN) is a simple technique for classification. The idea behind\n",
    "it is that similar data points should have the same class, at least most of the time.\n",
    "This method is very intuitive and has proven itself in many domains including\n",
    "recommendation systems, anomaly detection, image/text classification and more.\n",
    "\n",
    "In what follows we present a detailed example of a multi-class classification objective. The dataset we use contains information collected by the US Geological Survey and the US Forest Service about wilderness areas in northern Colorado. The features are measurements like soil type, elevation, and distance to water, and the labels encode the type of trees - the forest cover type - for each location. The machine learning task is to predict the cover type in a given location using the features. Overall there are seven cover types.\n",
    "\n",
    "The notebook has two sections. In the first, we use Amazon SageMaker's python SDK in order to train a kNN classifier in its simplest setting. We explain the components common to all Amazon SageMaker's algorithms including uploading data to Amazon S3, training a model, and setting up an endpoint for online inference. In the second section we dive deeper into the details of Amazon SageMaker kNN. We explain the different knobs (hyper-parameters) associated with it, and demonstrate how each setting can lead to a somewhat different accuracy and latency at inference time.\n"
   ]
  },
  {
   "cell_type": "markdown",
   "metadata": {
    "collapsed": true
   },
   "source": [
    "# Part 1: Running kNN in 5 minutes\n",
    "\n",
    "## Dataset\n",
    "\n",
    "We're about to work with the UCI Machine Learning Repository Covertype  dataset  ([covtype](https://archive.ics.uci.edu/ml/datasets/covertype)) (copyright Jock A. Blackard and Colorado State University). It's a labeled dataset where each entry describes a geographic area, and the label is a type of forest cover. There are 7 possible labels and we aim to solve the mult-class classification problem using kNN.\n",
    "We begin by downloading the dataset and moving it to a temporary folder."
   ]
  },
  {
   "cell_type": "code",
   "execution_count": 1,
   "metadata": {
    "scrolled": true
   },
   "outputs": [
    {
     "name": "stderr",
     "output_type": "stream",
     "text": [
      "--2018-07-09 17:47:07--  https://archive.ics.uci.edu/ml/machine-learning-databases/covtype/covtype.data.gz\n",
      "Resolving archive.ics.uci.edu (archive.ics.uci.edu)... 128.195.10.249\n",
      "Connecting to archive.ics.uci.edu (archive.ics.uci.edu)|128.195.10.249|:443... connected.\n",
      "HTTP request sent, awaiting response... 200 OK\n",
      "Length: 11240707 (11M) [application/x-gzip]\n",
      "Saving to: ‘covtype.data.gz’\n",
      "\n",
      "     0K .......... .......... .......... .......... ..........  0%  464K 24s\n",
      "    50K .......... .......... .......... .......... ..........  0%  721K 19s\n",
      "   100K .......... .......... .......... .......... ..........  1% 1.41M 15s\n",
      "   150K .......... .......... .......... .......... ..........  1% 1.40M 13s\n",
      "   200K .......... .......... .......... .......... ..........  2% 1.39M 12s\n",
      "   250K .......... .......... .......... .......... ..........  2% 1.40M 11s\n",
      "   300K .......... .......... .......... .......... ..........  3% 1.41M 11s\n",
      "   350K .......... .......... .......... .......... ..........  3%  114M 9s\n",
      "   400K .......... .......... .......... .......... ..........  4% 1.40M 9s\n",
      "   450K .......... .......... .......... .......... ..........  4% 1.50M 9s\n",
      "   500K .......... .......... .......... .......... ..........  5% 20.0M 8s\n",
      "   550K .......... .......... .......... .......... ..........  5% 1.52M 8s\n",
      "   600K .......... .......... .......... .......... ..........  5% 22.9M 7s\n",
      "   650K .......... .......... .......... .......... ..........  6% 1.52M 7s\n",
      "   700K .......... .......... .......... .......... ..........  6% 26.9M 7s\n",
      "   750K .......... .......... .......... .......... ..........  7% 33.7M 6s\n",
      "   800K .......... .......... .......... .......... ..........  7% 1.50M 6s\n",
      "   850K .......... .......... .......... .......... ..........  8% 50.0M 6s\n",
      "   900K .......... .......... .......... .......... ..........  8% 1.52M 6s\n",
      "   950K .......... .......... .......... .......... ..........  9% 68.2M 6s\n",
      "  1000K .......... .......... .......... .......... ..........  9% 31.6M 5s\n",
      "  1050K .......... .......... .......... .......... .......... 10% 73.4M 5s\n",
      "  1100K .......... .......... .......... .......... .......... 10% 1.51M 5s\n",
      "  1150K .......... .......... .......... .......... .......... 10% 72.2M 5s\n",
      "  1200K .......... .......... .......... .......... .......... 11% 32.2M 5s\n",
      "  1250K .......... .......... .......... .......... .......... 11%  133M 4s\n",
      "  1300K .......... .......... .......... .......... .......... 12% 1.50M 4s\n",
      "  1350K .......... .......... .......... .......... .......... 12% 71.9M 4s\n",
      "  1400K .......... .......... .......... .......... .......... 13% 28.6M 4s\n",
      "  1450K .......... .......... .......... .......... .......... 13%  176M 4s\n",
      "  1500K .......... .......... .......... .......... .......... 14% 1.54M 4s\n",
      "  1550K .......... .......... .......... .......... .......... 14% 50.7M 4s\n",
      "  1600K .......... .......... .......... .......... .......... 15% 29.4M 4s\n",
      "  1650K .......... .......... .......... .......... .......... 15% 73.8M 4s\n",
      "  1700K .......... .......... .......... .......... .......... 15%  140M 4s\n",
      "  1750K .......... .......... .......... .......... .......... 16% 1.57M 4s\n",
      "  1800K .......... .......... .......... .......... .......... 16% 37.9M 3s\n",
      "  1850K .......... .......... .......... .......... .......... 17% 67.3M 3s\n",
      "  1900K .......... .......... .......... .......... .......... 17% 34.7M 3s\n",
      "  1950K .......... .......... .......... .......... .......... 18%  149M 3s\n",
      "  2000K .......... .......... .......... .......... .......... 18% 1.59M 3s\n",
      "  2050K .......... .......... .......... .......... .......... 19% 15.7M 3s\n",
      "  2100K .......... .......... .......... .......... .......... 19%  164M 3s\n",
      "  2150K .......... .......... .......... .......... .......... 20%  153M 3s\n",
      "  2200K .......... .......... .......... .......... .......... 20% 74.3M 3s\n",
      "  2250K .......... .......... .......... .......... .......... 20%  147M 3s\n",
      "  2300K .......... .......... .......... .......... .......... 21% 1.65M 3s\n",
      "  2350K .......... .......... .......... .......... .......... 21% 56.9M 3s\n",
      "  2400K .......... .......... .......... .......... .......... 22% 13.6M 3s\n",
      "  2450K .......... .......... .......... .......... .......... 22%  142M 3s\n",
      "  2500K .......... .......... .......... .......... .......... 23% 88.8M 3s\n",
      "  2550K .......... .......... .......... .......... .......... 23%  161M 2s\n",
      "  2600K .......... .......... .......... .......... .......... 24% 1.70M 3s\n",
      "  2650K .......... .......... .......... .......... .......... 24% 42.8M 2s\n",
      "  2700K .......... .......... .......... .......... .......... 25% 17.8M 2s\n",
      "  2750K .......... .......... .......... .......... .......... 25% 30.1M 2s\n",
      "  2800K .......... .......... .......... .......... .......... 25% 41.3M 2s\n",
      "  2850K .......... .......... .......... .......... .......... 26%  172M 2s\n",
      "  2900K .......... .......... .......... .......... .......... 26%  170M 2s\n",
      "  2950K .......... .......... .......... .......... .......... 27% 1.77M 2s\n",
      "  3000K .......... .......... .......... .......... .......... 27% 46.1M 2s\n",
      "  3050K .......... .......... .......... .......... .......... 28% 19.5M 2s\n",
      "  3100K .......... .......... .......... .......... .......... 28% 17.9M 2s\n",
      "  3150K .......... .......... .......... .......... .......... 29%  168M 2s\n",
      "  3200K .......... .......... .......... .......... .......... 29% 88.0M 2s\n",
      "  3250K .......... .......... .......... .......... .......... 30% 88.6M 2s\n",
      "  3300K .......... .......... .......... .......... .......... 30% 54.6M 2s\n",
      "  3350K .......... .......... .......... .......... .......... 30% 1.83M 2s\n",
      "  3400K .......... .......... .......... .......... .......... 31% 41.5M 2s\n",
      "  3450K .......... .......... .......... .......... .......... 31% 24.5M 2s\n",
      "  3500K .......... .......... .......... .......... .......... 32% 13.3M 2s\n",
      "  3550K .......... .......... .......... .......... .......... 32% 95.2M 2s\n",
      "  3600K .......... .......... .......... .......... .......... 33% 46.3M 2s\n",
      "  3650K .......... .......... .......... .......... .......... 33%  169M 2s\n",
      "  3700K .......... .......... .......... .......... .......... 34%  182M 2s\n",
      "  3750K .......... .......... .......... .......... .......... 34% 1.91M 2s\n",
      "  3800K .......... .......... .......... .......... .......... 35% 71.0M 2s\n",
      "  3850K .......... .......... .......... .......... .......... 35% 19.2M 2s\n",
      "  3900K .......... .......... .......... .......... .......... 35% 11.4M 2s\n",
      "  3950K .......... .......... .......... .......... .......... 36% 53.2M 2s\n",
      "  4000K .......... .......... .......... .......... .......... 36% 48.1M 2s\n",
      "  4050K .......... .......... .......... .......... .......... 37% 66.5M 2s\n",
      "  4100K .......... .......... .......... .......... .......... 37%  163M 2s\n",
      "  4150K .......... .......... .......... .......... .......... 38%  169M 1s\n",
      "  4200K .......... .......... .......... .......... .......... 38% 1.96M 1s\n",
      "  4250K .......... .......... .......... .......... .......... 39%  163M 1s\n",
      "  4300K .......... .......... .......... .......... .......... 39% 22.2M 1s\n",
      "  4350K .......... .......... .......... .......... .......... 40% 11.2M 1s\n",
      "  4400K .......... .......... .......... .......... .......... 40% 39.9M 1s\n",
      "  4450K .......... .......... .......... .......... .......... 40% 41.5M 1s\n",
      "  4500K .......... .......... .......... .......... .......... 41% 31.6M 1s\n",
      "  4550K .......... .......... .......... .......... .......... 41%  166M 1s\n",
      "  4600K .......... .......... .......... .......... .......... 42%  164M 1s\n",
      "  4650K .......... .......... .......... .......... .......... 42% 2.17M 1s\n",
      "  4700K .......... .......... .......... .......... .......... 43% 28.9M 1s\n",
      "  4750K .......... .......... .......... .......... .......... 43%  177M 1s\n",
      "  4800K .......... .......... .......... .......... .......... 44% 25.8M 1s\n",
      "  4850K .......... .......... .......... .......... .......... 44% 11.7M 1s\n",
      "  4900K .......... .......... .......... .......... .......... 45% 59.4M 1s\n",
      "  4950K .......... .......... .......... .......... .......... 45% 16.1M 1s\n",
      "  5000K .......... .......... .......... .......... .......... 46% 65.8M 1s\n",
      "  5050K .......... .......... .......... .......... .......... 46%  109M 1s\n",
      "  5100K .......... .......... .......... .......... .......... 46%  169M 1s\n",
      "  5150K .......... .......... .......... .......... .......... 47% 2.32M 1s\n",
      "  5200K .......... .......... .......... .......... .......... 47% 22.1M 1s\n",
      "  5250K .......... .......... .......... .......... .......... 48%  160M 1s\n",
      "  5300K .......... .......... .......... .......... .......... 48% 37.6M 1s\n",
      "  5350K .......... .......... .......... .......... .......... 49% 13.0M 1s\n",
      "  5400K .......... .......... .......... .......... .......... 49% 52.6M 1s\n",
      "  5450K .......... .......... .......... .......... .......... 50% 29.7M 1s\n",
      "  5500K .......... .......... .......... .......... .......... 50% 17.6M 1s\n",
      "  5550K .......... .......... .......... .......... .......... 51% 30.6M 1s\n",
      "  5600K .......... .......... .......... .......... .......... 51%  130M 1s\n",
      "  5650K .......... .......... .......... .......... .......... 51%  176M 1s\n",
      "  5700K .......... .......... .......... .......... .......... 52% 2.42M 1s\n",
      "  5750K .......... .......... .......... .......... .......... 52% 32.3M 1s\n",
      "  5800K .......... .......... .......... .......... .......... 53% 41.4M 1s\n",
      "  5850K .......... .......... .......... .......... .......... 53%  157M 1s\n",
      "  5900K .......... .......... .......... .......... .......... 54% 12.7M 1s\n",
      "  5950K .......... .......... .......... .......... .......... 54% 32.7M 1s\n",
      "  6000K .......... .......... .......... .......... .......... 55%  126M 1s\n",
      "  6050K .......... .......... .......... .......... .......... 55% 15.5M 1s\n",
      "  6100K .......... .......... .......... .......... .......... 56% 25.8M 1s\n",
      "  6150K .......... .......... .......... .......... .......... 56% 33.7M 1s\n",
      "  6200K .......... .......... .......... .......... .......... 56%  159M 1s\n",
      "  6250K .......... .......... .......... .......... .......... 57%  171M 1s\n",
      "  6300K .......... .......... .......... .......... .......... 57% 2.53M 1s\n",
      "  6350K .......... .......... .......... .......... .......... 58% 46.9M 1s\n",
      "  6400K .......... .......... .......... .......... .......... 58% 30.2M 1s\n",
      "  6450K .......... .......... .......... .......... .......... 59% 87.0M 1s\n",
      "  6500K .......... .......... .......... .......... .......... 59% 14.8M 1s\n",
      "  6550K .......... .......... .......... .......... .......... 60% 35.6M 1s\n",
      "  6600K .......... .......... .......... .......... .......... 60% 54.0M 1s\n",
      "  6650K .......... .......... .......... .......... .......... 61%  121M 1s\n",
      "  6700K .......... .......... .......... .......... .......... 61% 17.2M 1s\n",
      "  6750K .......... .......... .......... .......... .......... 61% 21.5M 1s\n",
      "  6800K .......... .......... .......... .......... .......... 62% 51.2M 1s\n",
      "  6850K .......... .......... .......... .......... .......... 62%  109M 1s\n",
      "  6900K .......... .......... .......... .......... .......... 63% 2.68M 1s\n",
      "  6950K .......... .......... .......... .......... .......... 63% 39.2M 1s\n",
      "  7000K .......... .......... .......... .......... .......... 64% 25.9M 1s\n",
      "  7050K .......... .......... .......... .......... .......... 64% 61.7M 1s\n",
      "  7100K .......... .......... .......... .......... .......... 65% 85.2M 1s\n",
      "  7150K .......... .......... .......... .......... .......... 65% 17.6M 1s\n",
      "  7200K .......... .......... .......... .......... .......... 66% 27.1M 1s\n",
      "  7250K .......... .......... .......... .......... .......... 66% 36.5M 1s\n",
      "  7300K .......... .......... .......... .......... .......... 66%  168M 1s\n",
      "  7350K .......... .......... .......... .......... .......... 67% 26.3M 1s\n",
      "  7400K .......... .......... .......... .......... .......... 67% 20.9M 1s\n",
      "  7450K .......... .......... .......... .......... .......... 68% 21.6M 1s\n",
      "  7500K .......... .......... .......... .......... .......... 68%  169M 1s\n",
      "  7550K .......... .......... .......... .......... .......... 69%  166M 1s\n",
      "  7600K .......... .......... .......... .......... .......... 69% 2.79M 0s\n",
      "  7650K .......... .......... .......... .......... .......... 70% 62.5M 0s\n",
      "  7700K .......... .......... .......... .......... .......... 70% 23.6M 0s\n",
      "  7750K .......... .......... .......... .......... .......... 71% 50.8M 0s\n",
      "  7800K .......... .......... .......... .......... .......... 71%  107M 0s\n",
      "  7850K .......... .......... .......... .......... .......... 71% 26.5M 0s\n",
      "  7900K .......... .......... .......... .......... .......... 72% 32.3M 0s\n",
      "  7950K .......... .......... .......... .......... .......... 72% 28.0M 0s\n",
      "  8000K .......... .......... .......... .......... .......... 73% 58.1M 0s\n",
      "  8050K .......... .......... .......... .......... .......... 73% 37.9M 0s\n",
      "  8100K .......... .......... .......... .......... .......... 74% 60.9M 0s\n",
      "  8150K .......... .......... .......... .......... .......... 74% 23.7M 0s\n",
      "  8200K .......... .......... .......... .......... .......... 75% 18.2M 0s\n",
      "  8250K .......... .......... .......... .......... .......... 75% 98.6M 0s\n",
      "  8300K .......... .......... .......... .......... .......... 76%  148M 0s\n",
      "  8350K .......... .......... .......... .......... .......... 76% 3.05M 0s\n",
      "  8400K .......... .......... .......... .......... .......... 76% 28.4M 0s\n",
      "  8450K .......... .......... .......... .......... .......... 77% 28.4M 0s\n",
      "  8500K .......... .......... .......... .......... .......... 77% 24.8M 0s\n",
      "  8550K .......... .......... .......... .......... .......... 78%  165M 0s\n",
      "  8600K .......... .......... .......... .......... .......... 78%  161M 0s\n",
      "  8650K .......... .......... .......... .......... .......... 79% 23.0M 0s\n",
      "  8700K .......... .......... .......... .......... .......... 79% 36.3M 0s\n",
      "  8750K .......... .......... .......... .......... .......... 80% 25.4M 0s\n",
      "  8800K .......... .......... .......... .......... .......... 80% 69.4M 0s\n",
      "  8850K .......... .......... .......... .......... .......... 81% 71.9M 0s\n",
      "  8900K .......... .......... .......... .......... .......... 81% 30.3M 0s\n",
      "  8950K .......... .......... .......... .......... .......... 81% 18.0M 0s\n",
      "  9000K .......... .......... .......... .......... .......... 82% 25.8M 0s\n",
      "  9050K .......... .......... .......... .......... .......... 82%  161M 0s\n",
      "  9100K .......... .......... .......... .......... .......... 83%  154M 0s\n",
      "  9150K .......... .......... .......... .......... .......... 83% 3.08M 0s\n",
      "  9200K .......... .......... .......... .......... .......... 84% 41.0M 0s\n",
      "  9250K .......... .......... .......... .......... .......... 84% 31.5M 0s\n",
      "  9300K .......... .......... .......... .......... .......... 85% 22.9M 0s\n",
      "  9350K .......... .......... .......... .......... .......... 85%  106M 0s\n",
      "  9400K .......... .......... .......... .......... .......... 86% 69.1M 0s\n",
      "  9450K .......... .......... .......... .......... .......... 86% 35.9M 0s\n",
      "  9500K .......... .......... .......... .......... .......... 86% 32.1M 0s\n",
      "  9550K .......... .......... .......... .......... .......... 87% 27.9M 0s\n",
      "  9600K .......... .......... .......... .......... .......... 87% 55.8M 0s\n",
      "  9650K .......... .......... .......... .......... .......... 88% 51.3M 0s\n",
      "  9700K .......... .......... .......... .......... .......... 88% 48.8M 0s\n",
      "  9750K .......... .......... .......... .......... .......... 89% 17.0M 0s\n",
      "  9800K .......... .......... .......... .......... .......... 89% 20.7M 0s\n",
      "  9850K .......... .......... .......... .......... .......... 90%  165M 0s\n",
      "  9900K .......... .......... .......... .......... .......... 90%  167M 0s\n",
      "  9950K .......... .......... .......... .......... .......... 91% 3.23M 0s\n",
      " 10000K .......... .......... .......... .......... .......... 91% 39.4M 0s\n",
      " 10050K .......... .......... .......... .......... .......... 92% 45.9M 0s\n",
      " 10100K .......... .......... .......... .......... .......... 92% 18.4M 0s\n",
      " 10150K .......... .......... .......... .......... .......... 92% 84.7M 0s\n",
      " 10200K .......... .......... .......... .......... .......... 93% 75.3M 0s\n",
      " 10250K .......... .......... .......... .......... .......... 93%  135M 0s\n",
      " 10300K .......... .......... .......... .......... .......... 94% 36.0M 0s\n",
      " 10350K .......... .......... .......... .......... .......... 94% 20.4M 0s\n",
      " 10400K .......... .......... .......... .......... .......... 95% 31.1M 0s\n",
      " 10450K .......... .......... .......... .......... .......... 95% 62.7M 0s\n",
      " 10500K .......... .......... .......... .......... .......... 96%  169M 0s\n",
      " 10550K .......... .......... .......... .......... .......... 96% 45.9M 0s\n",
      " 10600K .......... .......... .......... .......... .......... 97% 18.8M 0s\n",
      " 10650K .......... .......... .......... .......... .......... 97% 18.3M 0s\n",
      " 10700K .......... .......... .......... .......... .......... 97%  129M 0s\n",
      " 10750K .......... .......... .......... .......... .......... 98%  108M 0s\n",
      " 10800K .......... .......... .......... .......... .......... 98% 3.33M 0s\n",
      " 10850K .......... .......... .......... .......... .......... 99% 24.2M 0s\n",
      " 10900K .......... .......... .......... .......... .......... 99%  167M 0s\n",
      " 10950K .......... .......... .......                         100%  185M=1.3s\n",
      "\n",
      "2018-07-09 17:47:08 (8.32 MB/s) - ‘covtype.data.gz’ saved [11240707/11240707]\n",
      "\n"
     ]
    }
   ],
   "source": [
    "%%bash\n",
    "\n",
    "wget 'https://archive.ics.uci.edu/ml/machine-learning-databases/covtype/covtype.data.gz'\n",
    "mkdir -p /tmp/covtype/raw\n",
    "mv covtype.data.gz /tmp/covtype/raw/covtype.data.gz \n"
   ]
  },
  {
   "cell_type": "markdown",
   "metadata": {},
   "source": [
    "## Pre-Processing the Data\n",
    "Now that we have the raw data, let's process it. \n",
    "We'll first load the data into numpy arrays, and randomly split it into train and test with a 90/10 split."
   ]
  },
  {
   "cell_type": "code",
   "execution_count": 2,
   "metadata": {
    "nbpresent": {
     "id": "a58fdf0d-32fb-4690-add3-433cc721773d"
    }
   },
   "outputs": [
    {
     "name": "stdout",
     "output_type": "stream",
     "text": [
      "Reading raw data from /tmp/covtype/raw/covtype.data.gz\n"
     ]
    }
   ],
   "source": [
    "import numpy as np\n",
    "import os\n",
    "\n",
    "data_dir = \"/tmp/covtype/\"\n",
    "processed_subdir = \"standardized\"\n",
    "raw_data_file = os.path.join(data_dir, \"raw\", \"covtype.data.gz\")\n",
    "train_features_file = os.path.join(data_dir, processed_subdir, \"train/csv/features.csv\")\n",
    "train_labels_file = os.path.join(data_dir, processed_subdir, \"train/csv/labels.csv\")\n",
    "test_features_file = os.path.join(data_dir, processed_subdir, \"test/csv/features.csv\")\n",
    "test_labels_file = os.path.join(data_dir, processed_subdir, \"test/csv/labels.csv\")\n",
    "\n",
    "# read raw data\n",
    "print(\"Reading raw data from {}\".format(raw_data_file))\n",
    "raw = np.loadtxt(raw_data_file, delimiter=',')\n",
    "\n",
    "# split into train/test with a 90/10 split\n",
    "np.random.seed(0)\n",
    "np.random.shuffle(raw)\n",
    "train_size = int(0.9 * raw.shape[0])\n",
    "train_features = raw[:train_size, :-1]\n",
    "train_labels = raw[:train_size, -1]\n",
    "test_features = raw[train_size:, :-1]\n",
    "test_labels = raw[train_size:, -1]"
   ]
  },
  {
   "cell_type": "markdown",
   "metadata": {},
   "source": [
    "## Upload to Amazon S3\n",
    "Now, since typically the dataset will be large and located in Amazon S3, let's write the data to Amazon S3 in recordio-protobuf format. We first create an io buffer wrapping the data, next we upload it to Amazon S3. Notice that the choice of bucket and prefix should change for different users and different datasets"
   ]
  },
  {
   "cell_type": "code",
   "execution_count": 3,
   "metadata": {},
   "outputs": [
    {
     "name": "stdout",
     "output_type": "stream",
     "text": [
      "train_features shape =  (522910, 54)\n",
      "train_labels shape =  (522910,)\n"
     ]
    },
    {
     "data": {
      "text/plain": [
       "0"
      ]
     },
     "execution_count": 3,
     "metadata": {},
     "output_type": "execute_result"
    }
   ],
   "source": [
    "import io\n",
    "import sagemaker.amazon.common as smac\n",
    "\n",
    "print('train_features shape = ', train_features.shape)\n",
    "print('train_labels shape = ', train_labels.shape)\n",
    "\n",
    "buf = io.BytesIO()\n",
    "smac.write_numpy_to_dense_tensor(buf, train_features, train_labels)\n",
    "buf.seek(0)"
   ]
  },
  {
   "cell_type": "code",
   "execution_count": 4,
   "metadata": {},
   "outputs": [
    {
     "name": "stdout",
     "output_type": "stream",
     "text": [
      "uploaded training data location: s3://kmeans-webscale-ease-integration-us-west-2/knn-blog-2018-04-17/train/recordio-pb-data\n"
     ]
    }
   ],
   "source": [
    "import boto3\n",
    "import os\n",
    "\n",
    "bucket = sagemaker.Session().default_bucket() # modify to your bucket name\n",
    "prefix = 'knn-blog-2018-04-17'\n",
    "key = 'recordio-pb-data'\n",
    "\n",
    "boto3.resource('s3').Bucket(bucket).Object(os.path.join(prefix, 'train', key)).upload_fileobj(buf)\n",
    "s3_train_data = 's3://{}/{}/train/{}'.format(bucket, prefix, key)\n",
    "print('uploaded training data location: {}'.format(s3_train_data))\n"
   ]
  },
  {
   "cell_type": "markdown",
   "metadata": {},
   "source": [
    "It is also possible to provide test data. This way we can get an evaluation of the performance of the model from the training logs. In order to use this capability let's upload the test data to Amazon S3 as well"
   ]
  },
  {
   "cell_type": "code",
   "execution_count": 5,
   "metadata": {},
   "outputs": [
    {
     "name": "stdout",
     "output_type": "stream",
     "text": [
      "test_features shape =  (58102, 54)\n",
      "test_labels shape =  (58102,)\n",
      "uploaded test data location: s3://kmeans-webscale-ease-integration-us-west-2/knn-blog-2018-04-17/test/recordio-pb-data\n"
     ]
    }
   ],
   "source": [
    "print('test_features shape = ', test_features.shape)\n",
    "print('test_labels shape = ', test_labels.shape)\n",
    "\n",
    "buf = io.BytesIO()\n",
    "smac.write_numpy_to_dense_tensor(buf, test_features, test_labels)\n",
    "buf.seek(0)\n",
    "\n",
    "boto3.resource('s3').Bucket(bucket).Object(os.path.join(prefix, 'test', key)).upload_fileobj(buf)\n",
    "s3_test_data = 's3://{}/{}/test/{}'.format(bucket, prefix, key)\n",
    "print('uploaded test data location: {}'.format(s3_test_data))\n"
   ]
  },
  {
   "cell_type": "markdown",
   "metadata": {},
   "source": [
    "## Training\n",
    "\n",
    "We take a moment to explain at a high level, how Machine Learning training and prediction works in Amazon SageMaker. First, we need to train a model. This is a process that given a labeled dataset and hyper-parameters guiding the training process,  outputs a model. Once the training is done, we set up what is called an **endpoint**. An endpoint is a web service that given a request containing an unlabeled data point, or mini-batch of data points, returns a prediction(s).\n",
    "\n",
    "In Amazon SageMaker the training is done via an object called an **estimator**. When setting up the estimator we specify the location (in Amazon S3) of the training data, the path (again in Amazon S3) to the output directory where the model will be serialized, generic hyper-parameters such as the machine type to use during the training process, and kNN-specific hyper-parameters such as the index type, etc. Once the estimator is initialized, we can call its **fit** method in order to do the actual training.\n",
    "\n",
    "Now that we are ready for training, we start with a convenience function that starts a training job."
   ]
  },
  {
   "cell_type": "code",
   "execution_count": 6,
   "metadata": {
    "collapsed": true
   },
   "outputs": [],
   "source": [
    "import matplotlib.pyplot as plt\n",
    "\n",
    "import sagemaker\n",
    "from sagemaker import get_execution_role\n",
    "from sagemaker.predictor import csv_serializer, json_deserializer\n",
    "\n",
    "\n",
    "def trained_estimator_from_hyperparams(s3_train_data, hyperparams, output_path, s3_test_data=None):\n",
    "    \"\"\"\n",
    "    Create an Estimator from the given hyperparams, fit to training data, \n",
    "    and return a deployed predictor\n",
    "    \n",
    "    \"\"\"\n",
    "    # specify algorithm containers. These contain the code for the training job\n",
    "    containers = {\n",
    "        'us-west-2': '174872318107.dkr.ecr.us-west-2.amazonaws.com/knn:1',\n",
    "        'us-east-1': '382416733822.dkr.ecr.us-east-1.amazonaws.com/knn:1',\n",
    "        'us-east-2': '404615174143.dkr.ecr.us-east-2.amazonaws.com/knn:1',\n",
    "        'eu-west-1': '438346466558.dkr.ecr.eu-west-1.amazonaws.com/knn:1',\n",
    "        'ap-northeast-1': '351501993468.dkr.ecr.ap-northeast-1.amazonaws.com/knn:1',\n",
    "        'ap-northeast-2': '835164637446.dkr.ecr.ap-northeast-2.amazonaws.com/knn:1',\n",
    "        'ap-southeast-2': '712309505854.dkr.ecr.ap-southeast-2.amazonaws.com/knn:1'\n",
    "    }\n",
    "    # set up the estimator\n",
    "    knn = sagemaker.estimator.Estimator(containers[boto3.Session().region_name],\n",
    "        get_execution_role(),\n",
    "        train_instance_count=1,\n",
    "        train_instance_type='ml.m5.2xlarge',\n",
    "        output_path=output_path,\n",
    "        sagemaker_session=sagemaker.Session())\n",
    "    knn.set_hyperparameters(**hyperparams)\n",
    "    \n",
    "    # train a model. fit_input contains the locations of the train and test data\n",
    "    fit_input = {'train': s3_train_data}\n",
    "    if s3_test_data is not None:\n",
    "        fit_input['test'] = s3_test_data\n",
    "    knn.fit(fit_input)\n",
    "    return knn"
   ]
  },
  {
   "cell_type": "markdown",
   "metadata": {},
   "source": [
    "Now, we run the actual training job. For now, we stick to default parameters."
   ]
  },
  {
   "cell_type": "code",
   "execution_count": 7,
   "metadata": {
    "scrolled": false
   },
   "outputs": [
    {
     "name": "stderr",
     "output_type": "stream",
     "text": [
      "INFO:sagemaker:Creating training-job with name: knn-2018-07-09-17-47-58-440\n"
     ]
    },
    {
     "name": "stdout",
     "output_type": "stream",
     "text": [
      "......................\n",
      "\u001b[31mArguments: train\u001b[0m\n",
      "\u001b[31m[07/09/2018 17:51:29 INFO 139784352773952] Reading default configuration from /opt/amazon/lib/python2.7/site-packages/algorithm/resources/default-conf.json: {u'index_metric': u'L2', u'_tuning_objective_metric': u'', u'_num_gpus': u'auto', u'_log_level': u'info', u'faiss_index_ivf_nlists': u'auto', u'epochs': u'1', u'index_type': u'faiss.Flat', u'_faiss_index_nprobe': u'5', u'_kvstore': u'dist_async', u'_num_kv_servers': u'1', u'mini_batch_size': u'5000'}\u001b[0m\n",
      "\u001b[31m[07/09/2018 17:51:29 INFO 139784352773952] Reading provided configuration from /opt/ml/input/config/hyperparameters.json: {u'sample_size': u'200000', u'feature_dim': u'54', u'k': u'10', u'predictor_type': u'classifier'}\u001b[0m\n",
      "\u001b[31m[07/09/2018 17:51:29 INFO 139784352773952] Final configuration: {u'index_metric': u'L2', u'predictor_type': u'classifier', u'_tuning_objective_metric': u'', u'_num_gpus': u'auto', u'_log_level': u'info', u'feature_dim': u'54', u'faiss_index_ivf_nlists': u'auto', u'sample_size': u'200000', u'epochs': u'1', u'index_type': u'faiss.Flat', u'_faiss_index_nprobe': u'5', u'_kvstore': u'dist_async', u'_num_kv_servers': u'1', u'mini_batch_size': u'5000', u'k': u'10'}\u001b[0m\n",
      "\u001b[31m[07/09/2018 17:51:29 WARNING 139784352773952] Loggers have already been setup.\u001b[0m\n",
      "\u001b[31m[07/09/2018 17:51:29 INFO 139784352773952] Launching parameter server for role scheduler\u001b[0m\n",
      "\u001b[31m[07/09/2018 17:51:29 INFO 139784352773952] {'LANG': 'en_US.utf8', 'DMLC_INTERFACE': 'ethwe', 'SHLVL': '1', 'PROTOCOL_BUFFERS_PYTHON_IMPLEMENTATION_VERSION': '2', 'HOSTNAME': 'aws', 'AWS_REGION': 'us-west-2', 'AWS_CONTAINER_CREDENTIALS_RELATIVE_URI': '/v2/credentials/764e000b-afc9-43d0-8f0b-5beb22a09a85', 'OMP_NUM_THREADS': '4', 'PWD': '/', 'PROTOCOL_BUFFERS_PYTHON_IMPLEMENTATION': 'cpp', 'TRAINING_JOB_NAME': 'knn-2018-07-09-17-47-58-440', 'ENVROOT': '/opt/amazon', 'PATH': '/opt/amazon/bin:/usr/local/nvidia/bin:/usr/local/sbin:/usr/local/bin:/usr/sbin:/usr/bin:/sbin:/bin:/opt/amazon/bin:/opt/amazon/bin', 'SAGEMAKER_HTTP_PORT': '8080', 'HOME': '/root', 'PYTHONUNBUFFERED': 'TRUE', 'CANONICAL_ENVROOT': '/opt/amazon', 'SAGEMAKER_DATA_PATH': '/opt/ml', 'LD_LIBRARY_PATH': '/opt/amazon/lib:/usr/local/nvidia/lib64:/opt/amazon/lib/stubs'}\u001b[0m\n",
      "\u001b[31m[07/09/2018 17:51:29 INFO 139784352773952] envs={'PROTOCOL_BUFFERS_PYTHON_IMPLEMENTATION_VERSION': '2', 'DMLC_NUM_WORKER': '1', 'PROTOCOL_BUFFERS_PYTHON_IMPLEMENTATION': 'cpp', 'ENVROOT': '/opt/amazon', 'HOME': '/root', 'SAGEMAKER_HTTP_PORT': '8080', 'PATH': '/opt/amazon/bin:/usr/local/nvidia/bin:/usr/local/sbin:/usr/local/bin:/usr/sbin:/usr/bin:/sbin:/bin:/opt/amazon/bin:/opt/amazon/bin', 'PYTHONUNBUFFERED': 'TRUE', 'CANONICAL_ENVROOT': '/opt/amazon', 'SAGEMAKER_DATA_PATH': '/opt/ml', 'LD_LIBRARY_PATH': '/opt/amazon/lib:/usr/local/nvidia/lib64:/opt/amazon/lib/stubs', 'LANG': 'en_US.utf8', 'DMLC_INTERFACE': 'ethwe', 'SHLVL': '1', 'DMLC_PS_ROOT_URI': '10.32.0.4', 'HOSTNAME': 'aws', 'AWS_REGION': 'us-west-2', 'AWS_CONTAINER_CREDENTIALS_RELATIVE_URI': '/v2/credentials/764e000b-afc9-43d0-8f0b-5beb22a09a85', 'DMLC_ROLE': 'scheduler', 'OMP_NUM_THREADS': '4', 'PWD': '/', 'DMLC_NUM_SERVER': '1', 'TRAINING_JOB_NAME': 'knn-2018-07-09-17-47-58-440', 'DMLC_PS_ROOT_PORT': '9000'}\u001b[0m\n",
      "\u001b[31m[07/09/2018 17:51:29 INFO 139784352773952] Launching parameter server for role server\u001b[0m\n",
      "\u001b[31m[07/09/2018 17:51:29 INFO 139784352773952] {'LANG': 'en_US.utf8', 'DMLC_INTERFACE': 'ethwe', 'SHLVL': '1', 'PROTOCOL_BUFFERS_PYTHON_IMPLEMENTATION_VERSION': '2', 'HOSTNAME': 'aws', 'AWS_REGION': 'us-west-2', 'AWS_CONTAINER_CREDENTIALS_RELATIVE_URI': '/v2/credentials/764e000b-afc9-43d0-8f0b-5beb22a09a85', 'OMP_NUM_THREADS': '4', 'PWD': '/', 'PROTOCOL_BUFFERS_PYTHON_IMPLEMENTATION': 'cpp', 'TRAINING_JOB_NAME': 'knn-2018-07-09-17-47-58-440', 'ENVROOT': '/opt/amazon', 'PATH': '/opt/amazon/bin:/usr/local/nvidia/bin:/usr/local/sbin:/usr/local/bin:/usr/sbin:/usr/bin:/sbin:/bin:/opt/amazon/bin:/opt/amazon/bin', 'SAGEMAKER_HTTP_PORT': '8080', 'HOME': '/root', 'PYTHONUNBUFFERED': 'TRUE', 'CANONICAL_ENVROOT': '/opt/amazon', 'SAGEMAKER_DATA_PATH': '/opt/ml', 'LD_LIBRARY_PATH': '/opt/amazon/lib:/usr/local/nvidia/lib64:/opt/amazon/lib/stubs'}\u001b[0m\n",
      "\u001b[31m[07/09/2018 17:51:29 INFO 139784352773952] envs={'PROTOCOL_BUFFERS_PYTHON_IMPLEMENTATION_VERSION': '2', 'DMLC_NUM_WORKER': '1', 'PROTOCOL_BUFFERS_PYTHON_IMPLEMENTATION': 'cpp', 'ENVROOT': '/opt/amazon', 'HOME': '/root', 'SAGEMAKER_HTTP_PORT': '8080', 'PATH': '/opt/amazon/bin:/usr/local/nvidia/bin:/usr/local/sbin:/usr/local/bin:/usr/sbin:/usr/bin:/sbin:/bin:/opt/amazon/bin:/opt/amazon/bin', 'PYTHONUNBUFFERED': 'TRUE', 'CANONICAL_ENVROOT': '/opt/amazon', 'SAGEMAKER_DATA_PATH': '/opt/ml', 'LD_LIBRARY_PATH': '/opt/amazon/lib:/usr/local/nvidia/lib64:/opt/amazon/lib/stubs', 'LANG': 'en_US.utf8', 'DMLC_INTERFACE': 'ethwe', 'SHLVL': '1', 'DMLC_PS_ROOT_URI': '10.32.0.4', 'HOSTNAME': 'aws', 'AWS_REGION': 'us-west-2', 'AWS_CONTAINER_CREDENTIALS_RELATIVE_URI': '/v2/credentials/764e000b-afc9-43d0-8f0b-5beb22a09a85', 'DMLC_ROLE': 'server', 'OMP_NUM_THREADS': '4', 'PWD': '/', 'DMLC_NUM_SERVER': '1', 'TRAINING_JOB_NAME': 'knn-2018-07-09-17-47-58-440', 'DMLC_PS_ROOT_PORT': '9000'}\u001b[0m\n",
      "\u001b[31m[07/09/2018 17:51:29 INFO 139784352773952] Environment: {'PROTOCOL_BUFFERS_PYTHON_IMPLEMENTATION_VERSION': '2', 'DMLC_PS_ROOT_PORT': '9000', 'DMLC_NUM_WORKER': '1', 'SAGEMAKER_HTTP_PORT': '8080', 'HOME': '/root', 'PYTHONUNBUFFERED': 'TRUE', 'CANONICAL_ENVROOT': '/opt/amazon', 'LD_LIBRARY_PATH': '/opt/amazon/lib:/usr/local/nvidia/lib64:/opt/amazon/lib/stubs', 'LANG': 'en_US.utf8', 'DMLC_INTERFACE': 'ethwe', 'SHLVL': '1', 'DMLC_PS_ROOT_URI': '10.32.0.4', 'AWS_REGION': 'us-west-2', 'TRAINING_JOB_NAME': 'knn-2018-07-09-17-47-58-440', 'PATH': '/opt/amazon/bin:/usr/local/nvidia/bin:/usr/local/sbin:/usr/local/bin:/usr/sbin:/usr/bin:/sbin:/bin:/opt/amazon/bin:/opt/amazon/bin', 'PROTOCOL_BUFFERS_PYTHON_IMPLEMENTATION': 'cpp', 'ENVROOT': '/opt/amazon', 'SAGEMAKER_DATA_PATH': '/opt/ml', 'OMP_NUM_THREADS': '4', 'HOSTNAME': 'aws', 'AWS_CONTAINER_CREDENTIALS_RELATIVE_URI': '/v2/credentials/764e000b-afc9-43d0-8f0b-5beb22a09a85', 'DMLC_ROLE': 'worker', 'PWD': '/', 'DMLC_NUM_SERVER': '1'}\u001b[0m\n",
      "\u001b[31m[07/09/2018 17:51:29 INFO 139784352773952] Using default worker.\u001b[0m\n",
      "\u001b[31m[07/09/2018 17:51:30 INFO 139784352773952] nvidia-smi took: 0.0251259803772 secs to identify 0 gpus\u001b[0m\n",
      "\u001b[31m[07/09/2018 17:51:30 INFO 139784352773952] Create Store: dist_async\u001b[0m\n",
      "\u001b[31m[07/09/2018 17:51:30 ERROR 139784352773952] nvidia-smi: failed to run (127): /bin/sh: nvidia-smi: command not found\u001b[0m\n",
      "\u001b[31m[07/09/2018 17:51:30 INFO 139784352773952] Using per-worker sample size = 200000 (Available virtual memory = 31100329984 bytes, GPU free memory = 0 bytes, number of workers = 1). If an out-of-memory error occurs, choose a larger instance type, use dimension reduction, decrease sample_size, and/or decrease mini_batch_size.\u001b[0m\n",
      "\u001b[31m#metrics {\"Metrics\": {\"Max Batches Seen Between Resets\": {\"count\": 1, \"max\": 0, \"sum\": 0.0, \"min\": 0}, \"Number of Batches Since Last Reset\": {\"count\": 1, \"max\": 0, \"sum\": 0.0, \"min\": 0}, \"Number of Records Since Last Reset\": {\"count\": 1, \"max\": 0, \"sum\": 0.0, \"min\": 0}, \"Total Batches Seen\": {\"count\": 1, \"max\": 0, \"sum\": 0.0, \"min\": 0}, \"Total Records Seen\": {\"count\": 1, \"max\": 0, \"sum\": 0.0, \"min\": 0}, \"Max Records Seen Between Resets\": {\"count\": 1, \"max\": 0, \"sum\": 0.0, \"min\": 0}, \"Reset Count\": {\"count\": 1, \"max\": 0, \"sum\": 0.0, \"min\": 0}}, \"EndTime\": 1531158690.893224, \"Dimensions\": {\"Host\": \"algo-1\", \"Meta\": \"init_train_data_iter\", \"Operation\": \"training\", \"Algorithm\": \"AWS/KNN\"}, \"StartTime\": 1531158690.893175}\n",
      "\u001b[0m\n",
      "\u001b[31m[07/09/2018 17:51:32 INFO 139784352773952] push reservoir to kv... 1 num_workers 0 rank\u001b[0m\n",
      "\u001b[31m[07/09/2018 17:51:32 INFO 139784352773952] ...done (200000)\u001b[0m\n",
      "\u001b[31m[07/09/2018 17:51:32 INFO 139784352773952] #progress_metric: host=algo-1, completed 100 % of epochs\u001b[0m\n",
      "\u001b[31m#metrics {\"Metrics\": {\"Max Batches Seen Between Resets\": {\"count\": 1, \"max\": 105, \"sum\": 105.0, \"min\": 105}, \"Number of Batches Since Last Reset\": {\"count\": 1, \"max\": 105, \"sum\": 105.0, \"min\": 105}, \"Number of Records Since Last Reset\": {\"count\": 1, \"max\": 522910, \"sum\": 522910.0, \"min\": 522910}, \"Total Batches Seen\": {\"count\": 1, \"max\": 105, \"sum\": 105.0, \"min\": 105}, \"Total Records Seen\": {\"count\": 1, \"max\": 522910, \"sum\": 522910.0, \"min\": 522910}, \"Max Records Seen Between Resets\": {\"count\": 1, \"max\": 522910, \"sum\": 522910.0, \"min\": 522910}, \"Reset Count\": {\"count\": 1, \"max\": 1, \"sum\": 1.0, \"min\": 1}}, \"EndTime\": 1531158692.249822, \"Dimensions\": {\"Host\": \"algo-1\", \"Meta\": \"training_data_iter\", \"Operation\": \"training\", \"Algorithm\": \"AWS/KNN\", \"epoch\": 0}, \"StartTime\": 1531158690.893508}\n",
      "\u001b[0m\n",
      "\u001b[31m[07/09/2018 17:51:32 INFO 139784352773952] #throughput_metric: host=algo-1, train throughput=385507.698337 records/second\u001b[0m\n",
      "\u001b[31m[07/09/2018 17:51:32 INFO 139784352773952] pulled row count... worker 0 rows 200000\u001b[0m\n",
      "\u001b[31m[07/09/2018 17:51:32 INFO 139784352773952] pulled... worker 0 data (200000, 54) labels (200000, 1) nans 0\u001b[0m\n",
      "\u001b[31m[07/09/2018 17:51:32 INFO 139784352773952] calling index.train...\u001b[0m\n",
      "\u001b[31m[07/09/2018 17:51:32 INFO 139784352773952] ...done calling index.train\u001b[0m\n",
      "\u001b[31m[07/09/2018 17:51:32 INFO 139784352773952] calling index.add...\u001b[0m\n",
      "\u001b[31m[07/09/2018 17:51:32 INFO 139784352773952] ...done calling index.add\u001b[0m\n",
      "\u001b[31m#metrics {\"Metrics\": {\"epochs\": {\"count\": 1, \"max\": 1, \"sum\": 1.0, \"min\": 1}, \"model.serialize.time\": {\"count\": 1, \"max\": 23.463964462280273, \"sum\": 23.463964462280273, \"min\": 23.463964462280273}, \"finalize.time\": {\"count\": 1, \"max\": 219.23398971557617, \"sum\": 219.23398971557617, \"min\": 219.23398971557617}, \"initialize.time\": {\"count\": 1, \"max\": 841.796875, \"sum\": 841.796875, \"min\": 841.796875}, \"update.time\": {\"count\": 1, \"max\": 1356.0819625854492, \"sum\": 1356.0819625854492, \"min\": 1356.0819625854492}}, \"EndTime\": 1531158692.492834, \"Dimensions\": {\"Host\": \"algo-1\", \"Operation\": \"training\", \"Algorithm\": \"AWS/KNN\"}, \"StartTime\": 1531158689.964029}\n",
      "\u001b[0m\n"
     ]
    },
    {
     "name": "stdout",
     "output_type": "stream",
     "text": [
      "\u001b[31m#metrics {\"Metrics\": {\"Max Batches Seen Between Resets\": {\"count\": 1, \"max\": 12, \"sum\": 12.0, \"min\": 12}, \"Number of Batches Since Last Reset\": {\"count\": 1, \"max\": 12, \"sum\": 12.0, \"min\": 12}, \"Number of Records Since Last Reset\": {\"count\": 1, \"max\": 58102, \"sum\": 58102.0, \"min\": 58102}, \"Total Batches Seen\": {\"count\": 1, \"max\": 12, \"sum\": 12.0, \"min\": 12}, \"Total Records Seen\": {\"count\": 1, \"max\": 58102, \"sum\": 58102.0, \"min\": 58102}, \"Max Records Seen Between Resets\": {\"count\": 1, \"max\": 58102, \"sum\": 58102.0, \"min\": 58102}, \"Reset Count\": {\"count\": 1, \"max\": 0, \"sum\": 0.0, \"min\": 0}}, \"EndTime\": 1531158699.493856, \"Dimensions\": {\"Host\": \"algo-1\", \"Meta\": \"test_data_iter\", \"Operation\": \"training\", \"Algorithm\": \"AWS/KNN\"}, \"StartTime\": 1531158692.493353}\n",
      "\u001b[0m\n",
      "\u001b[31m[07/09/2018 17:51:39 INFO 139784352773952] #test_score (algo-1) : ('accuracy', 0.92213693160304289)\u001b[0m\n",
      "\u001b[31m[07/09/2018 17:51:39 INFO 139784352773952] #quality_metric: host=algo-1, test accuracy <score>=0.922136931603\u001b[0m\n",
      "\u001b[31m#metrics {\"Metrics\": {\"totaltime\": {\"count\": 1, \"max\": 10217.83709526062, \"sum\": 10217.83709526062, \"min\": 10217.83709526062}, \"setuptime\": {\"count\": 1, \"max\": 523.6001014709473, \"sum\": 523.6001014709473, \"min\": 523.6001014709473}}, \"EndTime\": 1531158699.499067, \"Dimensions\": {\"Host\": \"algo-1\", \"Operation\": \"training\", \"Algorithm\": \"AWS/KNN\"}, \"StartTime\": 1531158692.492907}\n",
      "\u001b[0m\n",
      "===== Job Complete =====\n",
      "Billable seconds: 130\n"
     ]
    }
   ],
   "source": [
    "hyperparams = {\n",
    "    'feature_dim': 54,\n",
    "    'k': 10,\n",
    "    'sample_size': 200000,\n",
    "    'predictor_type': 'classifier' \n",
    "}\n",
    "output_path = 's3://' + bucket + '/' + prefix + '/default_example/output'\n",
    "knn_estimator = trained_estimator_from_hyperparams(s3_train_data, hyperparams, output_path, \n",
    "                                                   s3_test_data=s3_test_data)"
   ]
  },
  {
   "cell_type": "markdown",
   "metadata": {},
   "source": [
    "Notice that we mentioned a test set in the training job. When a test set is provided the training job doesn't just produce a model but also applies it to the test set and reports the accuracy. In the logs you can view the accuracy of the model on the test set."
   ]
  },
  {
   "cell_type": "markdown",
   "metadata": {},
   "source": [
    "## Setting up the endpoint\n",
    "\n",
    "Now that we have a trained model, we are ready to run inference. The **knn_estimator** object above contains all the information we need for hosting the model. Below we provide a convenience function that given an estimator, sets up and endpoint that hosts the model. Other than the estimator object, we provide it with a name (string) for the estimator, and an **instance_type**. The **instance_type** is the machine type that will host the model. It is not restricted in any way by the parameter settings of the training job."
   ]
  },
  {
   "cell_type": "code",
   "execution_count": 8,
   "metadata": {
    "collapsed": true
   },
   "outputs": [],
   "source": [
    "def predictor_from_estimator(knn_estimator, estimator_name, instance_type, endpoint_name=None): \n",
    "    knn_predictor = knn_estimator.deploy(initial_instance_count=1, instance_type=instance_type,\n",
    "                                        endpoint_name=endpoint_name)\n",
    "    knn_predictor.content_type = 'text/csv'\n",
    "    knn_predictor.serializer = csv_serializer\n",
    "    knn_predictor.deserializer = json_deserializer\n",
    "    return knn_predictor"
   ]
  },
  {
   "cell_type": "code",
   "execution_count": 9,
   "metadata": {},
   "outputs": [
    {
     "name": "stderr",
     "output_type": "stream",
     "text": [
      "INFO:sagemaker:Creating model with name: knn-2018-07-09-17-52-12-175\n"
     ]
    },
    {
     "name": "stdout",
     "output_type": "stream",
     "text": [
      "setting up the endpoint..\n"
     ]
    },
    {
     "name": "stderr",
     "output_type": "stream",
     "text": [
      "INFO:sagemaker:Creating endpoint with name knn-ml-m4-xlarge-1531158732-115415\n"
     ]
    },
    {
     "name": "stdout",
     "output_type": "stream",
     "text": [
      "---------------------------------------------------------------------!"
     ]
    }
   ],
   "source": [
    "import time\n",
    "\n",
    "instance_type = 'ml.m4.xlarge'\n",
    "model_name = 'knn_%s'% instance_type\n",
    "endpoint_name = 'knn-ml-m4-xlarge-%s'% (str(time.time()).replace('.','-'))\n",
    "print('setting up the endpoint..')\n",
    "predictor = predictor_from_estimator(knn_estimator, model_name, instance_type, endpoint_name=endpoint_name)"
   ]
  },
  {
   "cell_type": "markdown",
   "metadata": {},
   "source": [
    "## Inference\n",
    "\n",
    "Now that we have our predictor, let's use it on our test dataset. The following code runs on the test dataset, computes the accuracy and the average latency. It splits up the data into 100 batches, each of size roughly 500. Then, each batch is given to the inference service to obtain predictions. Once we have all predictions, we compute their accuracy given the true labels of the test set.\n"
   ]
  },
  {
   "cell_type": "code",
   "execution_count": 10,
   "metadata": {},
   "outputs": [
    {
     "name": "stdout",
     "output_type": "stream",
     "text": [
      "data split into 100 batches, of size 582.\n",
      "time required for predicting 58102 data point: 26.42 seconds\n",
      "accuracy of model: 92.2%\n"
     ]
    }
   ],
   "source": [
    "\n",
    "batches = np.array_split(test_features, 100)\n",
    "print('data split into 100 batches, of size %d.' % batches[0].shape[0])\n",
    "\n",
    "# obtain an np array with the predictions for the entire test set\n",
    "start_time = time.time()\n",
    "predictions = []\n",
    "for batch in batches:\n",
    "    result = predictor.predict(batch)\n",
    "    cur_predictions = np.array([result['predictions'][i]['predicted_label'] for i in range(len(result['predictions']))])\n",
    "    predictions.append(cur_predictions)\n",
    "predictions = np.concatenate(predictions)\n",
    "run_time = time.time() - start_time\n",
    "\n",
    "test_size = test_labels.shape[0]\n",
    "num_correct = sum(predictions == test_labels)\n",
    "accuracy = num_correct / float(test_size)\n",
    "print('time required for predicting %d data point: %.2f seconds' % (test_size, run_time))\n",
    "print('accuracy of model: %.1f%%' % (accuracy * 100) )"
   ]
  },
  {
   "cell_type": "markdown",
   "metadata": {},
   "source": [
    "## Deleting the endpoint\n",
    "\n",
    "We're now done with the example except a final clean-up act. By setting up the endpoint we started a machine in the cloud and as long as it's not deleted the machine is still up and we are paying for it. Once the endpoint is no longer necessary, we delete it. The following code does exactly that."
   ]
  },
  {
   "cell_type": "code",
   "execution_count": 11,
   "metadata": {},
   "outputs": [
    {
     "name": "stdout",
     "output_type": "stream",
     "text": [
      "Deleted knn-ml-m4-xlarge-1531158732-115415\n"
     ]
    }
   ],
   "source": [
    "def delete_endpoint(predictor):\n",
    "    try:\n",
    "        boto3.client('sagemaker').delete_endpoint(EndpointName=predictor.endpoint)\n",
    "        print('Deleted {}'.format(predictor.endpoint))\n",
    "    except:\n",
    "        print('Already deleted: {}'.format(predictor.endpoint))\n",
    "\n",
    "delete_endpoint(predictor)\n",
    "            "
   ]
  },
  {
   "cell_type": "markdown",
   "metadata": {},
   "source": [
    "## Conclusion\n",
    "\n",
    "We've seen how to both train and host an inference endpoint for kNN. With absolutely zero tuning we obtain an accuracy of 92.2% on the covtype dataset. As a point of reference for grasping the prediction power of the kNN model, a linear model will achieve roughly 72.8% accuracy. There are several advanced issues that we did not discuss. In the next section we will deep-dive into issues such as run-time / latency, and tuning the model while taking into account both the accuracy and its run-time efficiency."
   ]
  },
  {
   "cell_type": "markdown",
   "metadata": {},
   "source": [
    "# Part 2: Deep dive, Tuning kNN \n",
    "\n",
    "Now that we managed to run a simple example we move to a more advanced one. We keep the objective of classifying the covtype data set but now see how to explore the different options of the kNN algorithm. In what follows we will review different solvers for the kNN problem, different instance types for hosting the model, and a verbose prediction option that allows tuning the k value of the model after training"
   ]
  },
  {
   "cell_type": "markdown",
   "metadata": {},
   "source": [
    "## Train and Predict in Amazon SageMaker\n",
    "\n",
    "Below we copy, for convenience the function we set for training an estimator. The function has an optional value of the location of a test set. If one is given, the training job will apply the model on a test set and report the accuracy in the logs. This way, it is possible to obtain the quality of a model without setting up an endpoint and applying it to a test set. Though the function accepts hyper-parameters for the training job, we mention two hyper-parameters that we fixed inside the function.\n",
    "* **train_instance_count**: This is the number of machines used for the training process. For large datasets we may want to use multiple machines. In our case the entire dataset is rather small (~100MB) so we use only a single machine.\n",
    "* **train_instance_type**: This is the machine type used for training. We use the recommended type for training of 'ml.m5.2xlarge'. In cases where we have a large test set, it may be preferable to use a GPU machine or a CPU compute optimized machine such 'ml.c5.2xlarge' as the compute resource required for running inference on the test set may be considerable.\n"
   ]
  },
  {
   "cell_type": "code",
   "execution_count": 12,
   "metadata": {
    "collapsed": true
   },
   "outputs": [],
   "source": [
    "import matplotlib.pyplot as plt\n",
    "\n",
    "import sagemaker\n",
    "from sagemaker import get_execution_role\n",
    "from sagemaker.predictor import csv_serializer, json_deserializer\n",
    "\n",
    "def trained_estimator_from_hyperparams(s3_train_data, hyperparams, output_path, s3_test_data=None):\n",
    "    \"\"\"\n",
    "    Create an Estimator from the given hyperparams, fit to training data, \n",
    "    and return a deployed predictor\n",
    "    \n",
    "    \"\"\"\n",
    "    # specify algorithm containers. These contain the code for the training job\n",
    "    containers = {\n",
    "        'us-west-2': '174872318107.dkr.ecr.us-west-2.amazonaws.com/knn:1',\n",
    "        'us-east-1': '382416733822.dkr.ecr.us-east-1.amazonaws.com/knn:1',\n",
    "        'us-east-2': '404615174143.dkr.ecr.us-east-2.amazonaws.com/knn:1',\n",
    "        'eu-west-1': '438346466558.dkr.ecr.eu-west-1.amazonaws.com/knn:1',\n",
    "        'ap-northeast-1': '351501993468.dkr.ecr.ap-northeast-1.amazonaws.com/knn:1',\n",
    "        'ap-northeast-2': '835164637446.dkr.ecr.ap-northeast-2.amazonaws.com/knn:1',\n",
    "        'ap-southeast-2': '712309505854.dkr.ecr.ap-southeast-2.amazonaws.com/knn:1'\n",
    "    }\n",
    "    # set up the estimator\n",
    "    knn = sagemaker.estimator.Estimator(containers[boto3.Session().region_name],\n",
    "        get_execution_role(),\n",
    "        train_instance_count=1,\n",
    "        train_instance_type='ml.m5.2xlarge',\n",
    "        output_path=output_path,\n",
    "        sagemaker_session=sagemaker.Session())\n",
    "    knn.set_hyperparameters(**hyperparams)\n",
    "    \n",
    "    # train a model. fit_input contains the locations of the train and test data\n",
    "    fit_input = {'train': s3_train_data}\n",
    "    if s3_test_data is not None:\n",
    "        fit_input['test'] = s3_test_data\n",
    "    knn.fit(fit_input)\n",
    "    return knn"
   ]
  },
  {
   "cell_type": "markdown",
   "metadata": {},
   "source": [
    "The function above returns the estimator object after running the **fit** method. The object contains all the information needed to set up an endpoint. The function below gets as input a fitted estimator and uses it to set up an endpoint. An important parameter this function receives is **instance_type**. The endpoint can be set on any machine type, regardless of the one used in training. \n",
    "\n",
    "In kNN, inference can be somewhat slow as it involves computing the distance from the given feature vector to all data points. For that reason, one might want to set up a compute optimized endpoint either on CPU (c5.xlarge) or GPU (p2.xlarge). In what follows we will set endpoints for both machine types and compare their performances."
   ]
  },
  {
   "cell_type": "code",
   "execution_count": 13,
   "metadata": {
    "collapsed": true
   },
   "outputs": [],
   "source": [
    "def predictor_from_hyperparams(knn_estimator, estimator_name, instance_type, endpoint_name=None): \n",
    "    knn_predictor = knn_estimator.deploy(initial_instance_count=1, instance_type=instance_type,\n",
    "                                        endpoint_name=endpoint_name)\n",
    "    knn_predictor.content_type = 'text/csv'\n",
    "    knn_predictor.serializer = csv_serializer\n",
    "    knn_predictor.deserializer = json_deserializer\n",
    "    return knn_predictor"
   ]
  },
  {
   "cell_type": "markdown",
   "metadata": {},
   "source": [
    "## Launching the Training Jobs\n",
    "\n",
    "We're now ready to launch the training jobs. We'll train two different models, based on two different [FAISS indexes](TODO: point to our hyperparameter documentation). One will have a **IndexFlatL2** index, meaning it will find the nearest neighbors with a brute force approach. The other will use an **IndexIVFPQ** index that both uses a cell-probe method to avoid computing all the distances, and a product quantization method that improves the run-time of each distance calculation. For both classifiers, we use the L2 distance. It's also possible to use cosine distance but we do not explore that option here. Intuitively, the first index is accurate but may suffer from larger latencies / slower throughput. The second index is faster but may give less accurate responses, resulting in a lower accuracy/F1 score. \n",
    "\n",
    "We stop to mention an important parameter for Amazon SageMaker kNN, the **sample_size**. This parameter determines how many points from the data set should be used for building the model. Using all the data points is tempting and definitely can't hurt the quality of the outputs but is often either infeasible or simply too costly. Moreover, it can often be unnecessary in the sense that you may get the same accuracy with 200K points as you would with 2M points. In that case, there is simply no need to build a model with 2M points. In this example we use a sample of 200K points out of the potential ~450K in the training set."
   ]
  },
  {
   "cell_type": "code",
   "execution_count": 14,
   "metadata": {
    "scrolled": true
   },
   "outputs": [
    {
     "name": "stderr",
     "output_type": "stream",
     "text": [
      "INFO:sagemaker:Creating training-job with name: knn-2018-07-09-17-58-28-047\n"
     ]
    },
    {
     "name": "stdout",
     "output_type": "stream",
     "text": [
      "..................\n",
      "\u001b[31mArguments: train\u001b[0m\n",
      "\u001b[31m[07/09/2018 18:01:20 INFO 139898618935104] Reading default configuration from /opt/amazon/lib/python2.7/site-packages/algorithm/resources/default-conf.json: {u'index_metric': u'L2', u'_tuning_objective_metric': u'', u'_num_gpus': u'auto', u'_log_level': u'info', u'faiss_index_ivf_nlists': u'auto', u'epochs': u'1', u'index_type': u'faiss.Flat', u'_faiss_index_nprobe': u'5', u'_kvstore': u'dist_async', u'_num_kv_servers': u'1', u'mini_batch_size': u'5000'}\u001b[0m\n",
      "\u001b[31m[07/09/2018 18:01:20 INFO 139898618935104] Reading provided configuration from /opt/ml/input/config/hyperparameters.json: {u'sample_size': u'200000', u'feature_dim': u'54', u'k': u'100', u'predictor_type': u'classifier'}\u001b[0m\n",
      "\u001b[31m[07/09/2018 18:01:20 INFO 139898618935104] Final configuration: {u'index_metric': u'L2', u'predictor_type': u'classifier', u'_tuning_objective_metric': u'', u'_num_gpus': u'auto', u'_log_level': u'info', u'feature_dim': u'54', u'faiss_index_ivf_nlists': u'auto', u'sample_size': u'200000', u'epochs': u'1', u'index_type': u'faiss.Flat', u'_faiss_index_nprobe': u'5', u'_kvstore': u'dist_async', u'_num_kv_servers': u'1', u'mini_batch_size': u'5000', u'k': u'100'}\u001b[0m\n",
      "\u001b[31m[07/09/2018 18:01:20 WARNING 139898618935104] Loggers have already been setup.\u001b[0m\n",
      "\u001b[31m[07/09/2018 18:01:21 INFO 139898618935104] Launching parameter server for role scheduler\u001b[0m\n",
      "\u001b[31m[07/09/2018 18:01:21 INFO 139898618935104] {'LANG': 'en_US.utf8', 'DMLC_INTERFACE': 'ethwe', 'SHLVL': '1', 'PROTOCOL_BUFFERS_PYTHON_IMPLEMENTATION_VERSION': '2', 'HOSTNAME': 'aws', 'AWS_REGION': 'us-west-2', 'AWS_CONTAINER_CREDENTIALS_RELATIVE_URI': '/v2/credentials/00390153-67bd-40f6-88a9-7c712d91927c', 'OMP_NUM_THREADS': '4', 'PWD': '/', 'PROTOCOL_BUFFERS_PYTHON_IMPLEMENTATION': 'cpp', 'TRAINING_JOB_NAME': 'knn-2018-07-09-17-58-28-047', 'ENVROOT': '/opt/amazon', 'PATH': '/opt/amazon/bin:/usr/local/nvidia/bin:/usr/local/sbin:/usr/local/bin:/usr/sbin:/usr/bin:/sbin:/bin:/opt/amazon/bin:/opt/amazon/bin', 'SAGEMAKER_HTTP_PORT': '8080', 'HOME': '/root', 'PYTHONUNBUFFERED': 'TRUE', 'CANONICAL_ENVROOT': '/opt/amazon', 'SAGEMAKER_DATA_PATH': '/opt/ml', 'LD_LIBRARY_PATH': '/opt/amazon/lib:/usr/local/nvidia/lib64:/opt/amazon/lib/stubs'}\u001b[0m\n",
      "\u001b[31m[07/09/2018 18:01:21 INFO 139898618935104] envs={'PROTOCOL_BUFFERS_PYTHON_IMPLEMENTATION_VERSION': '2', 'DMLC_NUM_WORKER': '1', 'PROTOCOL_BUFFERS_PYTHON_IMPLEMENTATION': 'cpp', 'ENVROOT': '/opt/amazon', 'HOME': '/root', 'SAGEMAKER_HTTP_PORT': '8080', 'PATH': '/opt/amazon/bin:/usr/local/nvidia/bin:/usr/local/sbin:/usr/local/bin:/usr/sbin:/usr/bin:/sbin:/bin:/opt/amazon/bin:/opt/amazon/bin', 'PYTHONUNBUFFERED': 'TRUE', 'CANONICAL_ENVROOT': '/opt/amazon', 'SAGEMAKER_DATA_PATH': '/opt/ml', 'LD_LIBRARY_PATH': '/opt/amazon/lib:/usr/local/nvidia/lib64:/opt/amazon/lib/stubs', 'LANG': 'en_US.utf8', 'DMLC_INTERFACE': 'ethwe', 'SHLVL': '1', 'DMLC_PS_ROOT_URI': '10.32.0.4', 'HOSTNAME': 'aws', 'AWS_REGION': 'us-west-2', 'AWS_CONTAINER_CREDENTIALS_RELATIVE_URI': '/v2/credentials/00390153-67bd-40f6-88a9-7c712d91927c', 'DMLC_ROLE': 'scheduler', 'OMP_NUM_THREADS': '4', 'PWD': '/', 'DMLC_NUM_SERVER': '1', 'TRAINING_JOB_NAME': 'knn-2018-07-09-17-58-28-047', 'DMLC_PS_ROOT_PORT': '9000'}\u001b[0m\n",
      "\u001b[31m[07/09/2018 18:01:21 INFO 139898618935104] Launching parameter server for role server\u001b[0m\n",
      "\u001b[31m[07/09/2018 18:01:21 INFO 139898618935104] {'LANG': 'en_US.utf8', 'DMLC_INTERFACE': 'ethwe', 'SHLVL': '1', 'PROTOCOL_BUFFERS_PYTHON_IMPLEMENTATION_VERSION': '2', 'HOSTNAME': 'aws', 'AWS_REGION': 'us-west-2', 'AWS_CONTAINER_CREDENTIALS_RELATIVE_URI': '/v2/credentials/00390153-67bd-40f6-88a9-7c712d91927c', 'OMP_NUM_THREADS': '4', 'PWD': '/', 'PROTOCOL_BUFFERS_PYTHON_IMPLEMENTATION': 'cpp', 'TRAINING_JOB_NAME': 'knn-2018-07-09-17-58-28-047', 'ENVROOT': '/opt/amazon', 'PATH': '/opt/amazon/bin:/usr/local/nvidia/bin:/usr/local/sbin:/usr/local/bin:/usr/sbin:/usr/bin:/sbin:/bin:/opt/amazon/bin:/opt/amazon/bin', 'SAGEMAKER_HTTP_PORT': '8080', 'HOME': '/root', 'PYTHONUNBUFFERED': 'TRUE', 'CANONICAL_ENVROOT': '/opt/amazon', 'SAGEMAKER_DATA_PATH': '/opt/ml', 'LD_LIBRARY_PATH': '/opt/amazon/lib:/usr/local/nvidia/lib64:/opt/amazon/lib/stubs'}\u001b[0m\n",
      "\u001b[31m[07/09/2018 18:01:21 INFO 139898618935104] envs={'PROTOCOL_BUFFERS_PYTHON_IMPLEMENTATION_VERSION': '2', 'DMLC_NUM_WORKER': '1', 'PROTOCOL_BUFFERS_PYTHON_IMPLEMENTATION': 'cpp', 'ENVROOT': '/opt/amazon', 'HOME': '/root', 'SAGEMAKER_HTTP_PORT': '8080', 'PATH': '/opt/amazon/bin:/usr/local/nvidia/bin:/usr/local/sbin:/usr/local/bin:/usr/sbin:/usr/bin:/sbin:/bin:/opt/amazon/bin:/opt/amazon/bin', 'PYTHONUNBUFFERED': 'TRUE', 'CANONICAL_ENVROOT': '/opt/amazon', 'SAGEMAKER_DATA_PATH': '/opt/ml', 'LD_LIBRARY_PATH': '/opt/amazon/lib:/usr/local/nvidia/lib64:/opt/amazon/lib/stubs', 'LANG': 'en_US.utf8', 'DMLC_INTERFACE': 'ethwe', 'SHLVL': '1', 'DMLC_PS_ROOT_URI': '10.32.0.4', 'HOSTNAME': 'aws', 'AWS_REGION': 'us-west-2', 'AWS_CONTAINER_CREDENTIALS_RELATIVE_URI': '/v2/credentials/00390153-67bd-40f6-88a9-7c712d91927c', 'DMLC_ROLE': 'server', 'OMP_NUM_THREADS': '4', 'PWD': '/', 'DMLC_NUM_SERVER': '1', 'TRAINING_JOB_NAME': 'knn-2018-07-09-17-58-28-047', 'DMLC_PS_ROOT_PORT': '9000'}\u001b[0m\n",
      "\u001b[31m[07/09/2018 18:01:21 INFO 139898618935104] Environment: {'PROTOCOL_BUFFERS_PYTHON_IMPLEMENTATION_VERSION': '2', 'DMLC_PS_ROOT_PORT': '9000', 'DMLC_NUM_WORKER': '1', 'SAGEMAKER_HTTP_PORT': '8080', 'HOME': '/root', 'PYTHONUNBUFFERED': 'TRUE', 'CANONICAL_ENVROOT': '/opt/amazon', 'LD_LIBRARY_PATH': '/opt/amazon/lib:/usr/local/nvidia/lib64:/opt/amazon/lib/stubs', 'LANG': 'en_US.utf8', 'DMLC_INTERFACE': 'ethwe', 'SHLVL': '1', 'DMLC_PS_ROOT_URI': '10.32.0.4', 'AWS_REGION': 'us-west-2', 'TRAINING_JOB_NAME': 'knn-2018-07-09-17-58-28-047', 'PATH': '/opt/amazon/bin:/usr/local/nvidia/bin:/usr/local/sbin:/usr/local/bin:/usr/sbin:/usr/bin:/sbin:/bin:/opt/amazon/bin:/opt/amazon/bin', 'PROTOCOL_BUFFERS_PYTHON_IMPLEMENTATION': 'cpp', 'ENVROOT': '/opt/amazon', 'SAGEMAKER_DATA_PATH': '/opt/ml', 'OMP_NUM_THREADS': '4', 'HOSTNAME': 'aws', 'AWS_CONTAINER_CREDENTIALS_RELATIVE_URI': '/v2/credentials/00390153-67bd-40f6-88a9-7c712d91927c', 'DMLC_ROLE': 'worker', 'PWD': '/', 'DMLC_NUM_SERVER': '1'}\u001b[0m\n",
      "\u001b[31m[07/09/2018 18:01:21 INFO 139898618935104] Using default worker.\u001b[0m\n",
      "\u001b[31m[07/09/2018 18:01:21 INFO 139898618935104] nvidia-smi took: 0.0251319408417 secs to identify 0 gpus\u001b[0m\n",
      "\u001b[31m[07/09/2018 18:01:21 INFO 139898618935104] Create Store: dist_async\u001b[0m\n",
      "\u001b[31m[07/09/2018 18:01:22 ERROR 139898618935104] nvidia-smi: failed to run (127): /bin/sh: nvidia-smi: command not found\u001b[0m\n",
      "\u001b[31m[07/09/2018 18:01:22 INFO 139898618935104] Using per-worker sample size = 200000 (Available virtual memory = 31105245184 bytes, GPU free memory = 0 bytes, number of workers = 1). If an out-of-memory error occurs, choose a larger instance type, use dimension reduction, decrease sample_size, and/or decrease mini_batch_size.\u001b[0m\n",
      "\u001b[31m#metrics {\"Metrics\": {\"Max Batches Seen Between Resets\": {\"count\": 1, \"max\": 0, \"sum\": 0.0, \"min\": 0}, \"Number of Batches Since Last Reset\": {\"count\": 1, \"max\": 0, \"sum\": 0.0, \"min\": 0}, \"Number of Records Since Last Reset\": {\"count\": 1, \"max\": 0, \"sum\": 0.0, \"min\": 0}, \"Total Batches Seen\": {\"count\": 1, \"max\": 0, \"sum\": 0.0, \"min\": 0}, \"Total Records Seen\": {\"count\": 1, \"max\": 0, \"sum\": 0.0, \"min\": 0}, \"Max Records Seen Between Resets\": {\"count\": 1, \"max\": 0, \"sum\": 0.0, \"min\": 0}, \"Reset Count\": {\"count\": 1, \"max\": 0, \"sum\": 0.0, \"min\": 0}}, \"EndTime\": 1531159282.555288, \"Dimensions\": {\"Host\": \"algo-1\", \"Meta\": \"init_train_data_iter\", \"Operation\": \"training\", \"Algorithm\": \"AWS/KNN\"}, \"StartTime\": 1531159282.555248}\n",
      "\u001b[0m\n",
      "\u001b[31m[07/09/2018 18:01:23 INFO 139898618935104] push reservoir to kv... 1 num_workers 0 rank\u001b[0m\n",
      "\u001b[31m[07/09/2018 18:01:23 INFO 139898618935104] ...done (200000)\u001b[0m\n",
      "\u001b[31m[07/09/2018 18:01:23 INFO 139898618935104] #progress_metric: host=algo-1, completed 100 % of epochs\u001b[0m\n",
      "\u001b[31m#metrics {\"Metrics\": {\"Max Batches Seen Between Resets\": {\"count\": 1, \"max\": 105, \"sum\": 105.0, \"min\": 105}, \"Number of Batches Since Last Reset\": {\"count\": 1, \"max\": 105, \"sum\": 105.0, \"min\": 105}, \"Number of Records Since Last Reset\": {\"count\": 1, \"max\": 522910, \"sum\": 522910.0, \"min\": 522910}, \"Total Batches Seen\": {\"count\": 1, \"max\": 105, \"sum\": 105.0, \"min\": 105}, \"Total Records Seen\": {\"count\": 1, \"max\": 522910, \"sum\": 522910.0, \"min\": 522910}, \"Max Records Seen Between Resets\": {\"count\": 1, \"max\": 522910, \"sum\": 522910.0, \"min\": 522910}, \"Reset Count\": {\"count\": 1, \"max\": 1, \"sum\": 1.0, \"min\": 1}}, \"EndTime\": 1531159283.946837, \"Dimensions\": {\"Host\": \"algo-1\", \"Meta\": \"training_data_iter\", \"Operation\": \"training\", \"Algorithm\": \"AWS/KNN\", \"epoch\": 0}, \"StartTime\": 1531159282.555569}\n",
      "\u001b[0m\n",
      "\u001b[31m[07/09/2018 18:01:23 INFO 139898618935104] #throughput_metric: host=algo-1, train throughput=375814.410555 records/second\u001b[0m\n",
      "\u001b[31m[07/09/2018 18:01:23 INFO 139898618935104] pulled row count... worker 0 rows 200000\u001b[0m\n",
      "\u001b[31m[07/09/2018 18:01:24 INFO 139898618935104] pulled... worker 0 data (200000, 54) labels (200000, 1) nans 0\u001b[0m\n",
      "\u001b[31m[07/09/2018 18:01:24 INFO 139898618935104] calling index.train...\u001b[0m\n",
      "\u001b[31m[07/09/2018 18:01:24 INFO 139898618935104] ...done calling index.train\u001b[0m\n",
      "\u001b[31m[07/09/2018 18:01:24 INFO 139898618935104] calling index.add...\u001b[0m\n",
      "\u001b[31m[07/09/2018 18:01:24 INFO 139898618935104] ...done calling index.add\u001b[0m\n",
      "\u001b[31m#metrics {\"Metrics\": {\"epochs\": {\"count\": 1, \"max\": 1, \"sum\": 1.0, \"min\": 1}, \"model.serialize.time\": {\"count\": 1, \"max\": 23.55504035949707, \"sum\": 23.55504035949707, \"min\": 23.55504035949707}, \"finalize.time\": {\"count\": 1, \"max\": 229.82096672058105, \"sum\": 229.82096672058105, \"min\": 229.82096672058105}, \"initialize.time\": {\"count\": 1, \"max\": 884.8521709442139, \"sum\": 884.8521709442139, \"min\": 884.8521709442139}, \"update.time\": {\"count\": 1, \"max\": 1390.9459114074707, \"sum\": 1390.9459114074707, \"min\": 1390.9459114074707}}, \"EndTime\": 1531159284.200646, \"Dimensions\": {\"Host\": \"algo-1\", \"Operation\": \"training\", \"Algorithm\": \"AWS/KNN\"}, \"StartTime\": 1531159281.608872}\n",
      "\u001b[0m\n",
      "\u001b[31m#metrics {\"Metrics\": {\"Max Batches Seen Between Resets\": {\"count\": 1, \"max\": 12, \"sum\": 12.0, \"min\": 12}, \"Number of Batches Since Last Reset\": {\"count\": 1, \"max\": 12, \"sum\": 12.0, \"min\": 12}, \"Number of Records Since Last Reset\": {\"count\": 1, \"max\": 58102, \"sum\": 58102.0, \"min\": 58102}, \"Total Batches Seen\": {\"count\": 1, \"max\": 12, \"sum\": 12.0, \"min\": 12}, \"Total Records Seen\": {\"count\": 1, \"max\": 58102, \"sum\": 58102.0, \"min\": 58102}, \"Max Records Seen Between Resets\": {\"count\": 1, \"max\": 58102, \"sum\": 58102.0, \"min\": 58102}, \"Reset Count\": {\"count\": 1, \"max\": 0, \"sum\": 0.0, \"min\": 0}}, \"EndTime\": 1531159292.232466, \"Dimensions\": {\"Host\": \"algo-1\", \"Meta\": \"test_data_iter\", \"Operation\": \"training\", \"Algorithm\": \"AWS/KNN\"}, \"StartTime\": 1531159284.201155}\n",
      "\u001b[0m\n",
      "\u001b[31m[07/09/2018 18:01:32 INFO 139898618935104] #test_score (algo-1) : ('accuracy', 0.8120202402671165)\u001b[0m\n",
      "\u001b[31m[07/09/2018 18:01:32 INFO 139898618935104] #quality_metric: host=algo-1, test accuracy <score>=0.812020240267\u001b[0m\n",
      "\u001b[31m#metrics {\"Metrics\": {\"totaltime\": {\"count\": 1, \"max\": 11321.726083755493, \"sum\": 11321.726083755493, \"min\": 11321.726083755493}, \"setuptime\": {\"count\": 1, \"max\": 520.6170082092285, \"sum\": 520.6170082092285, \"min\": 520.6170082092285}}, \"EndTime\": 1531159292.23749, \"Dimensions\": {\"Host\": \"algo-1\", \"Operation\": \"training\", \"Algorithm\": \"AWS/KNN\"}, \"StartTime\": 1531159284.200718}\n",
      "\u001b[0m\n"
     ]
    },
    {
     "name": "stdout",
     "output_type": "stream",
     "text": [
      "===== Job Complete =====\n",
      "Billable seconds: 122\n"
     ]
    }
   ],
   "source": [
    "hyperparams_flat_l2 = {\n",
    "    'feature_dim': 54,\n",
    "    'k': 100,\n",
    "    'sample_size': 200000,\n",
    "    'predictor_type': 'classifier' \n",
    "    # NOTE: The default distance is L2 and index is Flat, so we don't list them here\n",
    "}\n",
    "output_path_flat_l2 = 's3://' + bucket + '/' + prefix + '/flat_l2/output'\n",
    "knn_estimator_flat_l2 = trained_estimator_from_hyperparams(s3_train_data, hyperparams_flat_l2, output_path_flat_l2, \n",
    "                                                           s3_test_data=s3_test_data)"
   ]
  },
  {
   "cell_type": "code",
   "execution_count": 15,
   "metadata": {},
   "outputs": [
    {
     "name": "stderr",
     "output_type": "stream",
     "text": [
      "INFO:sagemaker:Creating training-job with name: knn-2018-07-09-18-02-10-406\n"
     ]
    },
    {
     "name": "stdout",
     "output_type": "stream",
     "text": [
      ".....................\n",
      "\u001b[31mArguments: train\u001b[0m\n",
      "\u001b[31m[07/09/2018 18:05:31 INFO 139867653326656] Reading default configuration from /opt/amazon/lib/python2.7/site-packages/algorithm/resources/default-conf.json: {u'index_metric': u'L2', u'_tuning_objective_metric': u'', u'_num_gpus': u'auto', u'_log_level': u'info', u'faiss_index_ivf_nlists': u'auto', u'epochs': u'1', u'index_type': u'faiss.Flat', u'_faiss_index_nprobe': u'5', u'_kvstore': u'dist_async', u'_num_kv_servers': u'1', u'mini_batch_size': u'5000'}\u001b[0m\n",
      "\u001b[31m[07/09/2018 18:05:31 INFO 139867653326656] Reading provided configuration from /opt/ml/input/config/hyperparameters.json: {u'sample_size': u'500000', u'feature_dim': u'54', u'k': u'100', u'predictor_type': u'classifier'}\u001b[0m\n",
      "\u001b[31m[07/09/2018 18:05:31 INFO 139867653326656] Final configuration: {u'index_metric': u'L2', u'predictor_type': u'classifier', u'_tuning_objective_metric': u'', u'_num_gpus': u'auto', u'_log_level': u'info', u'feature_dim': u'54', u'faiss_index_ivf_nlists': u'auto', u'sample_size': u'500000', u'epochs': u'1', u'index_type': u'faiss.Flat', u'_faiss_index_nprobe': u'5', u'_kvstore': u'dist_async', u'_num_kv_servers': u'1', u'mini_batch_size': u'5000', u'k': u'100'}\u001b[0m\n",
      "\u001b[31m[07/09/2018 18:05:31 WARNING 139867653326656] Loggers have already been setup.\u001b[0m\n",
      "\u001b[31m[07/09/2018 18:05:32 INFO 139867653326656] Launching parameter server for role scheduler\u001b[0m\n",
      "\u001b[31m[07/09/2018 18:05:32 INFO 139867653326656] {'LANG': 'en_US.utf8', 'DMLC_INTERFACE': 'ethwe', 'SHLVL': '1', 'PROTOCOL_BUFFERS_PYTHON_IMPLEMENTATION_VERSION': '2', 'HOSTNAME': 'aws', 'AWS_REGION': 'us-west-2', 'AWS_CONTAINER_CREDENTIALS_RELATIVE_URI': '/v2/credentials/9c799e44-636a-48b5-a1ff-25e777ee001c', 'OMP_NUM_THREADS': '4', 'PWD': '/', 'PROTOCOL_BUFFERS_PYTHON_IMPLEMENTATION': 'cpp', 'TRAINING_JOB_NAME': 'knn-2018-07-09-18-02-10-406', 'ENVROOT': '/opt/amazon', 'PATH': '/opt/amazon/bin:/usr/local/nvidia/bin:/usr/local/sbin:/usr/local/bin:/usr/sbin:/usr/bin:/sbin:/bin:/opt/amazon/bin:/opt/amazon/bin', 'SAGEMAKER_HTTP_PORT': '8080', 'HOME': '/root', 'PYTHONUNBUFFERED': 'TRUE', 'CANONICAL_ENVROOT': '/opt/amazon', 'SAGEMAKER_DATA_PATH': '/opt/ml', 'LD_LIBRARY_PATH': '/opt/amazon/lib:/usr/local/nvidia/lib64:/opt/amazon/lib/stubs'}\u001b[0m\n",
      "\u001b[31m[07/09/2018 18:05:32 INFO 139867653326656] envs={'PROTOCOL_BUFFERS_PYTHON_IMPLEMENTATION_VERSION': '2', 'DMLC_NUM_WORKER': '1', 'PROTOCOL_BUFFERS_PYTHON_IMPLEMENTATION': 'cpp', 'ENVROOT': '/opt/amazon', 'HOME': '/root', 'SAGEMAKER_HTTP_PORT': '8080', 'PATH': '/opt/amazon/bin:/usr/local/nvidia/bin:/usr/local/sbin:/usr/local/bin:/usr/sbin:/usr/bin:/sbin:/bin:/opt/amazon/bin:/opt/amazon/bin', 'PYTHONUNBUFFERED': 'TRUE', 'CANONICAL_ENVROOT': '/opt/amazon', 'SAGEMAKER_DATA_PATH': '/opt/ml', 'LD_LIBRARY_PATH': '/opt/amazon/lib:/usr/local/nvidia/lib64:/opt/amazon/lib/stubs', 'LANG': 'en_US.utf8', 'DMLC_INTERFACE': 'ethwe', 'SHLVL': '1', 'DMLC_PS_ROOT_URI': '10.32.0.4', 'HOSTNAME': 'aws', 'AWS_REGION': 'us-west-2', 'AWS_CONTAINER_CREDENTIALS_RELATIVE_URI': '/v2/credentials/9c799e44-636a-48b5-a1ff-25e777ee001c', 'DMLC_ROLE': 'scheduler', 'OMP_NUM_THREADS': '4', 'PWD': '/', 'DMLC_NUM_SERVER': '1', 'TRAINING_JOB_NAME': 'knn-2018-07-09-18-02-10-406', 'DMLC_PS_ROOT_PORT': '9000'}\u001b[0m\n",
      "\u001b[31m[07/09/2018 18:05:32 INFO 139867653326656] Launching parameter server for role server\u001b[0m\n",
      "\u001b[31m[07/09/2018 18:05:32 INFO 139867653326656] {'LANG': 'en_US.utf8', 'DMLC_INTERFACE': 'ethwe', 'SHLVL': '1', 'PROTOCOL_BUFFERS_PYTHON_IMPLEMENTATION_VERSION': '2', 'HOSTNAME': 'aws', 'AWS_REGION': 'us-west-2', 'AWS_CONTAINER_CREDENTIALS_RELATIVE_URI': '/v2/credentials/9c799e44-636a-48b5-a1ff-25e777ee001c', 'OMP_NUM_THREADS': '4', 'PWD': '/', 'PROTOCOL_BUFFERS_PYTHON_IMPLEMENTATION': 'cpp', 'TRAINING_JOB_NAME': 'knn-2018-07-09-18-02-10-406', 'ENVROOT': '/opt/amazon', 'PATH': '/opt/amazon/bin:/usr/local/nvidia/bin:/usr/local/sbin:/usr/local/bin:/usr/sbin:/usr/bin:/sbin:/bin:/opt/amazon/bin:/opt/amazon/bin', 'SAGEMAKER_HTTP_PORT': '8080', 'HOME': '/root', 'PYTHONUNBUFFERED': 'TRUE', 'CANONICAL_ENVROOT': '/opt/amazon', 'SAGEMAKER_DATA_PATH': '/opt/ml', 'LD_LIBRARY_PATH': '/opt/amazon/lib:/usr/local/nvidia/lib64:/opt/amazon/lib/stubs'}\u001b[0m\n",
      "\u001b[31m[07/09/2018 18:05:32 INFO 139867653326656] envs={'PROTOCOL_BUFFERS_PYTHON_IMPLEMENTATION_VERSION': '2', 'DMLC_NUM_WORKER': '1', 'PROTOCOL_BUFFERS_PYTHON_IMPLEMENTATION': 'cpp', 'ENVROOT': '/opt/amazon', 'HOME': '/root', 'SAGEMAKER_HTTP_PORT': '8080', 'PATH': '/opt/amazon/bin:/usr/local/nvidia/bin:/usr/local/sbin:/usr/local/bin:/usr/sbin:/usr/bin:/sbin:/bin:/opt/amazon/bin:/opt/amazon/bin', 'PYTHONUNBUFFERED': 'TRUE', 'CANONICAL_ENVROOT': '/opt/amazon', 'SAGEMAKER_DATA_PATH': '/opt/ml', 'LD_LIBRARY_PATH': '/opt/amazon/lib:/usr/local/nvidia/lib64:/opt/amazon/lib/stubs', 'LANG': 'en_US.utf8', 'DMLC_INTERFACE': 'ethwe', 'SHLVL': '1', 'DMLC_PS_ROOT_URI': '10.32.0.4', 'HOSTNAME': 'aws', 'AWS_REGION': 'us-west-2', 'AWS_CONTAINER_CREDENTIALS_RELATIVE_URI': '/v2/credentials/9c799e44-636a-48b5-a1ff-25e777ee001c', 'DMLC_ROLE': 'server', 'OMP_NUM_THREADS': '4', 'PWD': '/', 'DMLC_NUM_SERVER': '1', 'TRAINING_JOB_NAME': 'knn-2018-07-09-18-02-10-406', 'DMLC_PS_ROOT_PORT': '9000'}\u001b[0m\n",
      "\u001b[31m[07/09/2018 18:05:32 INFO 139867653326656] Environment: {'PROTOCOL_BUFFERS_PYTHON_IMPLEMENTATION_VERSION': '2', 'DMLC_PS_ROOT_PORT': '9000', 'DMLC_NUM_WORKER': '1', 'SAGEMAKER_HTTP_PORT': '8080', 'HOME': '/root', 'PYTHONUNBUFFERED': 'TRUE', 'CANONICAL_ENVROOT': '/opt/amazon', 'LD_LIBRARY_PATH': '/opt/amazon/lib:/usr/local/nvidia/lib64:/opt/amazon/lib/stubs', 'LANG': 'en_US.utf8', 'DMLC_INTERFACE': 'ethwe', 'SHLVL': '1', 'DMLC_PS_ROOT_URI': '10.32.0.4', 'AWS_REGION': 'us-west-2', 'TRAINING_JOB_NAME': 'knn-2018-07-09-18-02-10-406', 'PATH': '/opt/amazon/bin:/usr/local/nvidia/bin:/usr/local/sbin:/usr/local/bin:/usr/sbin:/usr/bin:/sbin:/bin:/opt/amazon/bin:/opt/amazon/bin', 'PROTOCOL_BUFFERS_PYTHON_IMPLEMENTATION': 'cpp', 'ENVROOT': '/opt/amazon', 'SAGEMAKER_DATA_PATH': '/opt/ml', 'OMP_NUM_THREADS': '4', 'HOSTNAME': 'aws', 'AWS_CONTAINER_CREDENTIALS_RELATIVE_URI': '/v2/credentials/9c799e44-636a-48b5-a1ff-25e777ee001c', 'DMLC_ROLE': 'worker', 'PWD': '/', 'DMLC_NUM_SERVER': '1'}\u001b[0m\n",
      "\u001b[31m[07/09/2018 18:05:32 INFO 139867653326656] Using default worker.\u001b[0m\n",
      "\u001b[31m[07/09/2018 18:05:32 INFO 139867653326656] nvidia-smi took: 0.025130033493 secs to identify 0 gpus\u001b[0m\n",
      "\u001b[31m[07/09/2018 18:05:32 INFO 139867653326656] Create Store: dist_async\u001b[0m\n",
      "\u001b[31m[07/09/2018 18:05:33 ERROR 139867653326656] nvidia-smi: failed to run (127): /bin/sh: nvidia-smi: command not found\u001b[0m\n",
      "\u001b[31m[07/09/2018 18:05:33 INFO 139867653326656] Using per-worker sample size = 500000 (Available virtual memory = 31109853184 bytes, GPU free memory = 0 bytes, number of workers = 1). If an out-of-memory error occurs, choose a larger instance type, use dimension reduction, decrease sample_size, and/or decrease mini_batch_size.\u001b[0m\n",
      "\u001b[31m#metrics {\"Metrics\": {\"Max Batches Seen Between Resets\": {\"count\": 1, \"max\": 0, \"sum\": 0.0, \"min\": 0}, \"Number of Batches Since Last Reset\": {\"count\": 1, \"max\": 0, \"sum\": 0.0, \"min\": 0}, \"Number of Records Since Last Reset\": {\"count\": 1, \"max\": 0, \"sum\": 0.0, \"min\": 0}, \"Total Batches Seen\": {\"count\": 1, \"max\": 0, \"sum\": 0.0, \"min\": 0}, \"Total Records Seen\": {\"count\": 1, \"max\": 0, \"sum\": 0.0, \"min\": 0}, \"Max Records Seen Between Resets\": {\"count\": 1, \"max\": 0, \"sum\": 0.0, \"min\": 0}, \"Reset Count\": {\"count\": 1, \"max\": 0, \"sum\": 0.0, \"min\": 0}}, \"EndTime\": 1531159533.611568, \"Dimensions\": {\"Host\": \"algo-1\", \"Meta\": \"init_train_data_iter\", \"Operation\": \"training\", \"Algorithm\": \"AWS/KNN\"}, \"StartTime\": 1531159533.61152}\n",
      "\u001b[0m\n",
      "\u001b[31m[07/09/2018 18:05:34 INFO 139867653326656] push reservoir to kv... 1 num_workers 0 rank\u001b[0m\n",
      "\u001b[31m[07/09/2018 18:05:35 INFO 139867653326656] ...done (500000)\u001b[0m\n",
      "\u001b[31m[07/09/2018 18:05:35 INFO 139867653326656] #progress_metric: host=algo-1, completed 100 % of epochs\u001b[0m\n",
      "\u001b[31m#metrics {\"Metrics\": {\"Max Batches Seen Between Resets\": {\"count\": 1, \"max\": 105, \"sum\": 105.0, \"min\": 105}, \"Number of Batches Since Last Reset\": {\"count\": 1, \"max\": 105, \"sum\": 105.0, \"min\": 105}, \"Number of Records Since Last Reset\": {\"count\": 1, \"max\": 522910, \"sum\": 522910.0, \"min\": 522910}, \"Total Batches Seen\": {\"count\": 1, \"max\": 105, \"sum\": 105.0, \"min\": 105}, \"Total Records Seen\": {\"count\": 1, \"max\": 522910, \"sum\": 522910.0, \"min\": 522910}, \"Max Records Seen Between Resets\": {\"count\": 1, \"max\": 522910, \"sum\": 522910.0, \"min\": 522910}, \"Reset Count\": {\"count\": 1, \"max\": 1, \"sum\": 1.0, \"min\": 1}}, \"EndTime\": 1531159535.084327, \"Dimensions\": {\"Host\": \"algo-1\", \"Meta\": \"training_data_iter\", \"Operation\": \"training\", \"Algorithm\": \"AWS/KNN\", \"epoch\": 0}, \"StartTime\": 1531159533.611861}\n",
      "\u001b[0m\n",
      "\u001b[31m[07/09/2018 18:05:35 INFO 139867653326656] #throughput_metric: host=algo-1, train throughput=355099.073403 records/second\u001b[0m\n",
      "\u001b[31m[07/09/2018 18:05:35 INFO 139867653326656] pulled row count... worker 0 rows 500000\u001b[0m\n",
      "\u001b[31m[07/09/2018 18:05:35 INFO 139867653326656] pulled... worker 0 data (500000, 54) labels (500000, 1) nans 0\u001b[0m\n",
      "\u001b[31m[07/09/2018 18:05:35 INFO 139867653326656] calling index.train...\u001b[0m\n",
      "\u001b[31m[07/09/2018 18:05:35 INFO 139867653326656] ...done calling index.train\u001b[0m\n",
      "\u001b[31m[07/09/2018 18:05:35 INFO 139867653326656] calling index.add...\u001b[0m\n",
      "\u001b[31m[07/09/2018 18:05:35 INFO 139867653326656] ...done calling index.add\u001b[0m\n",
      "\u001b[31m#metrics {\"Metrics\": {\"epochs\": {\"count\": 1, \"max\": 1, \"sum\": 1.0, \"min\": 1}, \"model.serialize.time\": {\"count\": 1, \"max\": 57.03115463256836, \"sum\": 57.03115463256836, \"min\": 57.03115463256836}, \"finalize.time\": {\"count\": 1, \"max\": 560.8029365539551, \"sum\": 560.8029365539551, \"min\": 560.8029365539551}, \"initialize.time\": {\"count\": 1, \"max\": 995.6800937652588, \"sum\": 995.6800937652588, \"min\": 995.6800937652588}, \"update.time\": {\"count\": 1, \"max\": 1472.1848964691162, \"sum\": 1472.1848964691162, \"min\": 1472.1848964691162}}, \"EndTime\": 1531159535.702491, \"Dimensions\": {\"Host\": \"algo-1\", \"Operation\": \"training\", \"Algorithm\": \"AWS/KNN\"}, \"StartTime\": 1531159532.518277}\n",
      "\u001b[0m\n"
     ]
    },
    {
     "name": "stdout",
     "output_type": "stream",
     "text": [
      "\u001b[31m#metrics {\"Metrics\": {\"Max Batches Seen Between Resets\": {\"count\": 1, \"max\": 12, \"sum\": 12.0, \"min\": 12}, \"Number of Batches Since Last Reset\": {\"count\": 1, \"max\": 12, \"sum\": 12.0, \"min\": 12}, \"Number of Records Since Last Reset\": {\"count\": 1, \"max\": 58102, \"sum\": 58102.0, \"min\": 58102}, \"Total Batches Seen\": {\"count\": 1, \"max\": 12, \"sum\": 12.0, \"min\": 12}, \"Total Records Seen\": {\"count\": 1, \"max\": 58102, \"sum\": 58102.0, \"min\": 58102}, \"Max Records Seen Between Resets\": {\"count\": 1, \"max\": 58102, \"sum\": 58102.0, \"min\": 58102}, \"Reset Count\": {\"count\": 1, \"max\": 0, \"sum\": 0.0, \"min\": 0}}, \"EndTime\": 1531159553.59892, \"Dimensions\": {\"Host\": \"algo-1\", \"Meta\": \"test_data_iter\", \"Operation\": \"training\", \"Algorithm\": \"AWS/KNN\"}, \"StartTime\": 1531159535.702995}\n",
      "\u001b[0m\n",
      "\u001b[31m[07/09/2018 18:05:53 INFO 139867653326656] #test_score (algo-1) : ('accuracy', 0.8716395304808785)\u001b[0m\n",
      "\u001b[31m[07/09/2018 18:05:53 INFO 139867653326656] #quality_metric: host=algo-1, test accuracy <score>=0.871639530481\u001b[0m\n",
      "\u001b[31m#metrics {\"Metrics\": {\"totaltime\": {\"count\": 1, \"max\": 21783.046007156372, \"sum\": 21783.046007156372, \"min\": 21783.046007156372}, \"setuptime\": {\"count\": 1, \"max\": 521.899938583374, \"sum\": 521.899938583374, \"min\": 521.899938583374}}, \"EndTime\": 1531159553.606368, \"Dimensions\": {\"Host\": \"algo-1\", \"Operation\": \"training\", \"Algorithm\": \"AWS/KNN\"}, \"StartTime\": 1531159535.70257}\n",
      "\u001b[0m\n",
      "===== Job Complete =====\n",
      "Billable seconds: 135\n"
     ]
    }
   ],
   "source": [
    "hyperparams_flat_l2_large = {\n",
    "    'feature_dim': 54,\n",
    "    'k': 100,\n",
    "    'sample_size': 500000,\n",
    "    'predictor_type': 'classifier' \n",
    "}\n",
    "output_path_flat_l2_large = 's3://' + bucket + '/' + prefix + '/flat_l2_large/output'\n",
    "knn_estimator_flat_l2_large = trained_estimator_from_hyperparams(s3_train_data, hyperparams_flat_l2_large, \n",
    "                                                                 output_path_flat_l2_large, s3_test_data=s3_test_data)"
   ]
  },
  {
   "cell_type": "code",
   "execution_count": 16,
   "metadata": {
    "scrolled": true
   },
   "outputs": [
    {
     "name": "stderr",
     "output_type": "stream",
     "text": [
      "INFO:sagemaker:Creating training-job with name: knn-2018-07-09-18-06-23-758\n"
     ]
    },
    {
     "name": "stdout",
     "output_type": "stream",
     "text": [
      ".....................\n",
      "\u001b[31mArguments: train\u001b[0m\n",
      "\u001b[31m[07/09/2018 18:09:43 INFO 140414884898624] Reading default configuration from /opt/amazon/lib/python2.7/site-packages/algorithm/resources/default-conf.json: {u'index_metric': u'L2', u'_tuning_objective_metric': u'', u'_num_gpus': u'auto', u'_log_level': u'info', u'faiss_index_ivf_nlists': u'auto', u'epochs': u'1', u'index_type': u'faiss.Flat', u'_faiss_index_nprobe': u'5', u'_kvstore': u'dist_async', u'_num_kv_servers': u'1', u'mini_batch_size': u'5000'}\u001b[0m\n",
      "\u001b[31m[07/09/2018 18:09:43 INFO 140414884898624] Reading provided configuration from /opt/ml/input/config/hyperparameters.json: {u'faiss_index_pq_m': u'8', u'predictor_type': u'classifier', u'index_type': u'faiss.IVFPQ', u'k': u'100', u'sample_size': u'200000', u'feature_dim': u'54', u'index_metric': u'L2', u'faiss_index_ivf_nlists': u'500'}\u001b[0m\n",
      "\u001b[31m[07/09/2018 18:09:43 INFO 140414884898624] Final configuration: {u'index_metric': u'L2', u'predictor_type': u'classifier', u'_tuning_objective_metric': u'', u'_num_gpus': u'auto', u'_log_level': u'info', u'feature_dim': u'54', u'faiss_index_ivf_nlists': u'500', u'sample_size': u'200000', u'epochs': u'1', u'index_type': u'faiss.IVFPQ', u'_faiss_index_nprobe': u'5', u'faiss_index_pq_m': u'8', u'_kvstore': u'dist_async', u'_num_kv_servers': u'1', u'mini_batch_size': u'5000', u'k': u'100'}\u001b[0m\n",
      "\u001b[31m[07/09/2018 18:09:43 WARNING 140414884898624] Loggers have already been setup.\u001b[0m\n",
      "\u001b[31m[07/09/2018 18:09:44 INFO 140414884898624] Launching parameter server for role scheduler\u001b[0m\n",
      "\u001b[31m[07/09/2018 18:09:44 INFO 140414884898624] {'LANG': 'en_US.utf8', 'DMLC_INTERFACE': 'ethwe', 'SHLVL': '1', 'PROTOCOL_BUFFERS_PYTHON_IMPLEMENTATION_VERSION': '2', 'HOSTNAME': 'aws', 'AWS_REGION': 'us-west-2', 'AWS_CONTAINER_CREDENTIALS_RELATIVE_URI': '/v2/credentials/b0d85154-797e-4a20-a61e-7278f4b1ed5e', 'OMP_NUM_THREADS': '4', 'PWD': '/', 'PROTOCOL_BUFFERS_PYTHON_IMPLEMENTATION': 'cpp', 'TRAINING_JOB_NAME': 'knn-2018-07-09-18-06-23-758', 'ENVROOT': '/opt/amazon', 'PATH': '/opt/amazon/bin:/usr/local/nvidia/bin:/usr/local/sbin:/usr/local/bin:/usr/sbin:/usr/bin:/sbin:/bin:/opt/amazon/bin:/opt/amazon/bin', 'SAGEMAKER_HTTP_PORT': '8080', 'HOME': '/root', 'PYTHONUNBUFFERED': 'TRUE', 'CANONICAL_ENVROOT': '/opt/amazon', 'SAGEMAKER_DATA_PATH': '/opt/ml', 'LD_LIBRARY_PATH': '/opt/amazon/lib:/usr/local/nvidia/lib64:/opt/amazon/lib/stubs'}\u001b[0m\n",
      "\u001b[31m[07/09/2018 18:09:44 INFO 140414884898624] envs={'PROTOCOL_BUFFERS_PYTHON_IMPLEMENTATION_VERSION': '2', 'DMLC_NUM_WORKER': '1', 'PROTOCOL_BUFFERS_PYTHON_IMPLEMENTATION': 'cpp', 'ENVROOT': '/opt/amazon', 'HOME': '/root', 'SAGEMAKER_HTTP_PORT': '8080', 'PATH': '/opt/amazon/bin:/usr/local/nvidia/bin:/usr/local/sbin:/usr/local/bin:/usr/sbin:/usr/bin:/sbin:/bin:/opt/amazon/bin:/opt/amazon/bin', 'PYTHONUNBUFFERED': 'TRUE', 'CANONICAL_ENVROOT': '/opt/amazon', 'SAGEMAKER_DATA_PATH': '/opt/ml', 'LD_LIBRARY_PATH': '/opt/amazon/lib:/usr/local/nvidia/lib64:/opt/amazon/lib/stubs', 'LANG': 'en_US.utf8', 'DMLC_INTERFACE': 'ethwe', 'SHLVL': '1', 'DMLC_PS_ROOT_URI': '10.32.0.4', 'HOSTNAME': 'aws', 'AWS_REGION': 'us-west-2', 'AWS_CONTAINER_CREDENTIALS_RELATIVE_URI': '/v2/credentials/b0d85154-797e-4a20-a61e-7278f4b1ed5e', 'DMLC_ROLE': 'scheduler', 'OMP_NUM_THREADS': '4', 'PWD': '/', 'DMLC_NUM_SERVER': '1', 'TRAINING_JOB_NAME': 'knn-2018-07-09-18-06-23-758', 'DMLC_PS_ROOT_PORT': '9000'}\u001b[0m\n",
      "\u001b[31m[07/09/2018 18:09:44 INFO 140414884898624] Launching parameter server for role server\u001b[0m\n",
      "\u001b[31m[07/09/2018 18:09:44 INFO 140414884898624] {'LANG': 'en_US.utf8', 'DMLC_INTERFACE': 'ethwe', 'SHLVL': '1', 'PROTOCOL_BUFFERS_PYTHON_IMPLEMENTATION_VERSION': '2', 'HOSTNAME': 'aws', 'AWS_REGION': 'us-west-2', 'AWS_CONTAINER_CREDENTIALS_RELATIVE_URI': '/v2/credentials/b0d85154-797e-4a20-a61e-7278f4b1ed5e', 'OMP_NUM_THREADS': '4', 'PWD': '/', 'PROTOCOL_BUFFERS_PYTHON_IMPLEMENTATION': 'cpp', 'TRAINING_JOB_NAME': 'knn-2018-07-09-18-06-23-758', 'ENVROOT': '/opt/amazon', 'PATH': '/opt/amazon/bin:/usr/local/nvidia/bin:/usr/local/sbin:/usr/local/bin:/usr/sbin:/usr/bin:/sbin:/bin:/opt/amazon/bin:/opt/amazon/bin', 'SAGEMAKER_HTTP_PORT': '8080', 'HOME': '/root', 'PYTHONUNBUFFERED': 'TRUE', 'CANONICAL_ENVROOT': '/opt/amazon', 'SAGEMAKER_DATA_PATH': '/opt/ml', 'LD_LIBRARY_PATH': '/opt/amazon/lib:/usr/local/nvidia/lib64:/opt/amazon/lib/stubs'}\u001b[0m\n",
      "\u001b[31m[07/09/2018 18:09:44 INFO 140414884898624] envs={'PROTOCOL_BUFFERS_PYTHON_IMPLEMENTATION_VERSION': '2', 'DMLC_NUM_WORKER': '1', 'PROTOCOL_BUFFERS_PYTHON_IMPLEMENTATION': 'cpp', 'ENVROOT': '/opt/amazon', 'HOME': '/root', 'SAGEMAKER_HTTP_PORT': '8080', 'PATH': '/opt/amazon/bin:/usr/local/nvidia/bin:/usr/local/sbin:/usr/local/bin:/usr/sbin:/usr/bin:/sbin:/bin:/opt/amazon/bin:/opt/amazon/bin', 'PYTHONUNBUFFERED': 'TRUE', 'CANONICAL_ENVROOT': '/opt/amazon', 'SAGEMAKER_DATA_PATH': '/opt/ml', 'LD_LIBRARY_PATH': '/opt/amazon/lib:/usr/local/nvidia/lib64:/opt/amazon/lib/stubs', 'LANG': 'en_US.utf8', 'DMLC_INTERFACE': 'ethwe', 'SHLVL': '1', 'DMLC_PS_ROOT_URI': '10.32.0.4', 'HOSTNAME': 'aws', 'AWS_REGION': 'us-west-2', 'AWS_CONTAINER_CREDENTIALS_RELATIVE_URI': '/v2/credentials/b0d85154-797e-4a20-a61e-7278f4b1ed5e', 'DMLC_ROLE': 'server', 'OMP_NUM_THREADS': '4', 'PWD': '/', 'DMLC_NUM_SERVER': '1', 'TRAINING_JOB_NAME': 'knn-2018-07-09-18-06-23-758', 'DMLC_PS_ROOT_PORT': '9000'}\u001b[0m\n",
      "\u001b[31m[07/09/2018 18:09:44 INFO 140414884898624] Environment: {'PROTOCOL_BUFFERS_PYTHON_IMPLEMENTATION_VERSION': '2', 'DMLC_PS_ROOT_PORT': '9000', 'DMLC_NUM_WORKER': '1', 'SAGEMAKER_HTTP_PORT': '8080', 'HOME': '/root', 'PYTHONUNBUFFERED': 'TRUE', 'CANONICAL_ENVROOT': '/opt/amazon', 'LD_LIBRARY_PATH': '/opt/amazon/lib:/usr/local/nvidia/lib64:/opt/amazon/lib/stubs', 'LANG': 'en_US.utf8', 'DMLC_INTERFACE': 'ethwe', 'SHLVL': '1', 'DMLC_PS_ROOT_URI': '10.32.0.4', 'AWS_REGION': 'us-west-2', 'TRAINING_JOB_NAME': 'knn-2018-07-09-18-06-23-758', 'PATH': '/opt/amazon/bin:/usr/local/nvidia/bin:/usr/local/sbin:/usr/local/bin:/usr/sbin:/usr/bin:/sbin:/bin:/opt/amazon/bin:/opt/amazon/bin', 'PROTOCOL_BUFFERS_PYTHON_IMPLEMENTATION': 'cpp', 'ENVROOT': '/opt/amazon', 'SAGEMAKER_DATA_PATH': '/opt/ml', 'OMP_NUM_THREADS': '4', 'HOSTNAME': 'aws', 'AWS_CONTAINER_CREDENTIALS_RELATIVE_URI': '/v2/credentials/b0d85154-797e-4a20-a61e-7278f4b1ed5e', 'DMLC_ROLE': 'worker', 'PWD': '/', 'DMLC_NUM_SERVER': '1'}\u001b[0m\n",
      "\u001b[31m[07/09/2018 18:09:44 INFO 140414884898624] Using default worker.\u001b[0m\n",
      "\u001b[31m[07/09/2018 18:09:44 INFO 140414884898624] nvidia-smi took: 0.0251400470734 secs to identify 0 gpus\u001b[0m\n",
      "\u001b[31m[07/09/2018 18:09:44 INFO 140414884898624] Create Store: dist_async\u001b[0m\n",
      "\u001b[31m[07/09/2018 18:09:45 ERROR 140414884898624] nvidia-smi: failed to run (127): /bin/sh: nvidia-smi: command not found\u001b[0m\n",
      "\u001b[31m[07/09/2018 18:09:45 INFO 140414884898624] Using per-worker sample size = 200000 (Available virtual memory = 31111004160 bytes, GPU free memory = 0 bytes, number of workers = 1). If an out-of-memory error occurs, choose a larger instance type, use dimension reduction, decrease sample_size, and/or decrease mini_batch_size.\u001b[0m\n",
      "\u001b[31m#metrics {\"Metrics\": {\"Max Batches Seen Between Resets\": {\"count\": 1, \"max\": 0, \"sum\": 0.0, \"min\": 0}, \"Number of Batches Since Last Reset\": {\"count\": 1, \"max\": 0, \"sum\": 0.0, \"min\": 0}, \"Number of Records Since Last Reset\": {\"count\": 1, \"max\": 0, \"sum\": 0.0, \"min\": 0}, \"Total Batches Seen\": {\"count\": 1, \"max\": 0, \"sum\": 0.0, \"min\": 0}, \"Total Records Seen\": {\"count\": 1, \"max\": 0, \"sum\": 0.0, \"min\": 0}, \"Max Records Seen Between Resets\": {\"count\": 1, \"max\": 0, \"sum\": 0.0, \"min\": 0}, \"Reset Count\": {\"count\": 1, \"max\": 0, \"sum\": 0.0, \"min\": 0}}, \"EndTime\": 1531159785.449541, \"Dimensions\": {\"Host\": \"algo-1\", \"Meta\": \"init_train_data_iter\", \"Operation\": \"training\", \"Algorithm\": \"AWS/KNN\"}, \"StartTime\": 1531159785.44949}\n",
      "\u001b[0m\n",
      "\u001b[31m[07/09/2018 18:09:46 INFO 140414884898624] push reservoir to kv... 1 num_workers 0 rank\u001b[0m\n",
      "\u001b[31m[07/09/2018 18:09:46 INFO 140414884898624] ...done (200000)\u001b[0m\n",
      "\u001b[31m[07/09/2018 18:09:46 INFO 140414884898624] #progress_metric: host=algo-1, completed 100 % of epochs\u001b[0m\n",
      "\u001b[31m#metrics {\"Metrics\": {\"Max Batches Seen Between Resets\": {\"count\": 1, \"max\": 105, \"sum\": 105.0, \"min\": 105}, \"Number of Batches Since Last Reset\": {\"count\": 1, \"max\": 105, \"sum\": 105.0, \"min\": 105}, \"Number of Records Since Last Reset\": {\"count\": 1, \"max\": 522910, \"sum\": 522910.0, \"min\": 522910}, \"Total Batches Seen\": {\"count\": 1, \"max\": 105, \"sum\": 105.0, \"min\": 105}, \"Total Records Seen\": {\"count\": 1, \"max\": 522910, \"sum\": 522910.0, \"min\": 522910}, \"Max Records Seen Between Resets\": {\"count\": 1, \"max\": 522910, \"sum\": 522910.0, \"min\": 522910}, \"Reset Count\": {\"count\": 1, \"max\": 1, \"sum\": 1.0, \"min\": 1}}, \"EndTime\": 1531159786.955083, \"Dimensions\": {\"Host\": \"algo-1\", \"Meta\": \"training_data_iter\", \"Operation\": \"training\", \"Algorithm\": \"AWS/KNN\", \"epoch\": 0}, \"StartTime\": 1531159785.449833}\n",
      "\u001b[0m\n",
      "\u001b[31m[07/09/2018 18:09:46 INFO 140414884898624] #throughput_metric: host=algo-1, train throughput=347364.504816 records/second\u001b[0m\n",
      "\u001b[31m[07/09/2018 18:09:46 INFO 140414884898624] pulled row count... worker 0 rows 200000\u001b[0m\n",
      "\u001b[31m[07/09/2018 18:09:47 INFO 140414884898624] pulled... worker 0 data (200000, 56) labels (200000, 1) nans 0\u001b[0m\n",
      "\u001b[31m[07/09/2018 18:09:47 INFO 140414884898624] calling index.train...\u001b[0m\n"
     ]
    },
    {
     "name": "stdout",
     "output_type": "stream",
     "text": [
      "\u001b[31m[07/09/2018 18:09:56 INFO 140414884898624] ...done calling index.train\u001b[0m\n",
      "\u001b[31m[07/09/2018 18:09:56 INFO 140414884898624] calling index.add...\u001b[0m\n",
      "\u001b[31m[07/09/2018 18:09:58 INFO 140414884898624] ...done calling index.add\u001b[0m\n",
      "\u001b[31m#metrics {\"Metrics\": {\"epochs\": {\"count\": 1, \"max\": 1, \"sum\": 1.0, \"min\": 1}, \"model.serialize.time\": {\"count\": 1, \"max\": 3.771066665649414, \"sum\": 3.771066665649414, \"min\": 3.771066665649414}, \"finalize.time\": {\"count\": 1, \"max\": 11855.690002441406, \"sum\": 11855.690002441406, \"min\": 11855.690002441406}, \"initialize.time\": {\"count\": 1, \"max\": 953.3169269561768, \"sum\": 953.3169269561768, \"min\": 953.3169269561768}, \"update.time\": {\"count\": 1, \"max\": 1504.9960613250732, \"sum\": 1504.9960613250732, \"min\": 1504.9960613250732}}, \"EndTime\": 1531159798.814916, \"Dimensions\": {\"Host\": \"algo-1\", \"Operation\": \"training\", \"Algorithm\": \"AWS/KNN\"}, \"StartTime\": 1531159784.441513}\n",
      "\u001b[0m\n",
      "\u001b[31m#metrics {\"Metrics\": {\"Max Batches Seen Between Resets\": {\"count\": 1, \"max\": 12, \"sum\": 12.0, \"min\": 12}, \"Number of Batches Since Last Reset\": {\"count\": 1, \"max\": 12, \"sum\": 12.0, \"min\": 12}, \"Number of Records Since Last Reset\": {\"count\": 1, \"max\": 58102, \"sum\": 58102.0, \"min\": 58102}, \"Total Batches Seen\": {\"count\": 1, \"max\": 12, \"sum\": 12.0, \"min\": 12}, \"Total Records Seen\": {\"count\": 1, \"max\": 58102, \"sum\": 58102.0, \"min\": 58102}, \"Max Records Seen Between Resets\": {\"count\": 1, \"max\": 58102, \"sum\": 58102.0, \"min\": 58102}, \"Reset Count\": {\"count\": 1, \"max\": 0, \"sum\": 0.0, \"min\": 0}}, \"EndTime\": 1531159800.754643, \"Dimensions\": {\"Host\": \"algo-1\", \"Meta\": \"test_data_iter\", \"Operation\": \"training\", \"Algorithm\": \"AWS/KNN\"}, \"StartTime\": 1531159798.815415}\n",
      "\u001b[0m\n",
      "\u001b[31m[07/09/2018 18:10:00 INFO 140414884898624] #test_score (algo-1) : ('accuracy', 0.80446456232143471)\u001b[0m\n",
      "\u001b[31m[07/09/2018 18:10:00 INFO 140414884898624] #quality_metric: host=algo-1, test accuracy <score>=0.804464562321\u001b[0m\n",
      "\u001b[31m#metrics {\"Metrics\": {\"totaltime\": {\"count\": 1, \"max\": 17004.83512878418, \"sum\": 17004.83512878418, \"min\": 17004.83512878418}, \"setuptime\": {\"count\": 1, \"max\": 528.5038948059082, \"sum\": 528.5038948059082, \"min\": 528.5038948059082}}, \"EndTime\": 1531159800.758699, \"Dimensions\": {\"Host\": \"algo-1\", \"Operation\": \"training\", \"Algorithm\": \"AWS/KNN\"}, \"StartTime\": 1531159798.81499}\n",
      "\u001b[0m\n",
      "===== Job Complete =====\n",
      "Billable seconds: 124\n"
     ]
    }
   ],
   "source": [
    "hyperparams_ivfpq_l2 = {\n",
    "    'feature_dim': 54,\n",
    "    'k': 100,\n",
    "    'sample_size': 200000,\n",
    "    'predictor_type': 'classifier',\n",
    "    'index_type': 'faiss.IVFPQ',\n",
    "    'index_metric': 'L2',\n",
    "    'faiss_index_ivf_nlists': 500, \n",
    "    'faiss_index_pq_m': '8'\n",
    "    # number of distinct quantizers. In our case dim=54, so every quantizer will code up to 7 numbers.\n",
    "    # Each block of (up to) 7 numbers will be coded into a single byte.\n",
    "}\n",
    "output_path_ivfpq_l2 = 's3://' + bucket + '/' + prefix + '/ivfpq_l2/output'\n",
    "knn_estimator_ivfpq_l2 = trained_estimator_from_hyperparams(s3_train_data, hyperparams_ivfpq_l2, output_path_ivfpq_l2, \n",
    "                                                           s3_test_data=s3_test_data)"
   ]
  },
  {
   "cell_type": "code",
   "execution_count": 17,
   "metadata": {},
   "outputs": [
    {
     "name": "stderr",
     "output_type": "stream",
     "text": [
      "INFO:sagemaker:Creating training-job with name: knn-2018-07-09-18-10-36-493\n"
     ]
    },
    {
     "name": "stdout",
     "output_type": "stream",
     "text": [
      "...................\n",
      "\u001b[31mArguments: train\u001b[0m\n",
      "\u001b[31m[07/09/2018 18:13:34 INFO 140455068137280] Reading default configuration from /opt/amazon/lib/python2.7/site-packages/algorithm/resources/default-conf.json: {u'index_metric': u'L2', u'_tuning_objective_metric': u'', u'_num_gpus': u'auto', u'_log_level': u'info', u'faiss_index_ivf_nlists': u'auto', u'epochs': u'1', u'index_type': u'faiss.Flat', u'_faiss_index_nprobe': u'5', u'_kvstore': u'dist_async', u'_num_kv_servers': u'1', u'mini_batch_size': u'5000'}\u001b[0m\n",
      "\u001b[31m[07/09/2018 18:13:34 INFO 140455068137280] Reading provided configuration from /opt/ml/input/config/hyperparameters.json: {u'faiss_index_pq_m': u'8', u'predictor_type': u'classifier', u'index_type': u'faiss.IVFPQ', u'k': u'100', u'sample_size': u'500000', u'feature_dim': u'54', u'index_metric': u'L2', u'faiss_index_ivf_nlists': u'700'}\u001b[0m\n",
      "\u001b[31m[07/09/2018 18:13:34 INFO 140455068137280] Final configuration: {u'index_metric': u'L2', u'predictor_type': u'classifier', u'_tuning_objective_metric': u'', u'_num_gpus': u'auto', u'_log_level': u'info', u'feature_dim': u'54', u'faiss_index_ivf_nlists': u'700', u'sample_size': u'500000', u'epochs': u'1', u'index_type': u'faiss.IVFPQ', u'_faiss_index_nprobe': u'5', u'faiss_index_pq_m': u'8', u'_kvstore': u'dist_async', u'_num_kv_servers': u'1', u'mini_batch_size': u'5000', u'k': u'100'}\u001b[0m\n",
      "\u001b[31m[07/09/2018 18:13:34 WARNING 140455068137280] Loggers have already been setup.\u001b[0m\n",
      "\u001b[31m[07/09/2018 18:13:35 INFO 140455068137280] Launching parameter server for role scheduler\u001b[0m\n",
      "\u001b[31m[07/09/2018 18:13:35 INFO 140455068137280] {'LANG': 'en_US.utf8', 'DMLC_INTERFACE': 'ethwe', 'SHLVL': '1', 'PROTOCOL_BUFFERS_PYTHON_IMPLEMENTATION_VERSION': '2', 'HOSTNAME': 'aws', 'AWS_REGION': 'us-west-2', 'AWS_CONTAINER_CREDENTIALS_RELATIVE_URI': '/v2/credentials/9558aed2-fc6a-4949-ab51-779d1a36158c', 'OMP_NUM_THREADS': '4', 'PWD': '/', 'PROTOCOL_BUFFERS_PYTHON_IMPLEMENTATION': 'cpp', 'TRAINING_JOB_NAME': 'knn-2018-07-09-18-10-36-493', 'ENVROOT': '/opt/amazon', 'PATH': '/opt/amazon/bin:/usr/local/nvidia/bin:/usr/local/sbin:/usr/local/bin:/usr/sbin:/usr/bin:/sbin:/bin:/opt/amazon/bin:/opt/amazon/bin', 'SAGEMAKER_HTTP_PORT': '8080', 'HOME': '/root', 'PYTHONUNBUFFERED': 'TRUE', 'CANONICAL_ENVROOT': '/opt/amazon', 'SAGEMAKER_DATA_PATH': '/opt/ml', 'LD_LIBRARY_PATH': '/opt/amazon/lib:/usr/local/nvidia/lib64:/opt/amazon/lib/stubs'}\u001b[0m\n",
      "\u001b[31m[07/09/2018 18:13:35 INFO 140455068137280] envs={'PROTOCOL_BUFFERS_PYTHON_IMPLEMENTATION_VERSION': '2', 'DMLC_NUM_WORKER': '1', 'PROTOCOL_BUFFERS_PYTHON_IMPLEMENTATION': 'cpp', 'ENVROOT': '/opt/amazon', 'HOME': '/root', 'SAGEMAKER_HTTP_PORT': '8080', 'PATH': '/opt/amazon/bin:/usr/local/nvidia/bin:/usr/local/sbin:/usr/local/bin:/usr/sbin:/usr/bin:/sbin:/bin:/opt/amazon/bin:/opt/amazon/bin', 'PYTHONUNBUFFERED': 'TRUE', 'CANONICAL_ENVROOT': '/opt/amazon', 'SAGEMAKER_DATA_PATH': '/opt/ml', 'LD_LIBRARY_PATH': '/opt/amazon/lib:/usr/local/nvidia/lib64:/opt/amazon/lib/stubs', 'LANG': 'en_US.utf8', 'DMLC_INTERFACE': 'ethwe', 'SHLVL': '1', 'DMLC_PS_ROOT_URI': '10.32.0.4', 'HOSTNAME': 'aws', 'AWS_REGION': 'us-west-2', 'AWS_CONTAINER_CREDENTIALS_RELATIVE_URI': '/v2/credentials/9558aed2-fc6a-4949-ab51-779d1a36158c', 'DMLC_ROLE': 'scheduler', 'OMP_NUM_THREADS': '4', 'PWD': '/', 'DMLC_NUM_SERVER': '1', 'TRAINING_JOB_NAME': 'knn-2018-07-09-18-10-36-493', 'DMLC_PS_ROOT_PORT': '9000'}\u001b[0m\n",
      "\u001b[31m[07/09/2018 18:13:35 INFO 140455068137280] Launching parameter server for role server\u001b[0m\n",
      "\u001b[31m[07/09/2018 18:13:35 INFO 140455068137280] {'LANG': 'en_US.utf8', 'DMLC_INTERFACE': 'ethwe', 'SHLVL': '1', 'PROTOCOL_BUFFERS_PYTHON_IMPLEMENTATION_VERSION': '2', 'HOSTNAME': 'aws', 'AWS_REGION': 'us-west-2', 'AWS_CONTAINER_CREDENTIALS_RELATIVE_URI': '/v2/credentials/9558aed2-fc6a-4949-ab51-779d1a36158c', 'OMP_NUM_THREADS': '4', 'PWD': '/', 'PROTOCOL_BUFFERS_PYTHON_IMPLEMENTATION': 'cpp', 'TRAINING_JOB_NAME': 'knn-2018-07-09-18-10-36-493', 'ENVROOT': '/opt/amazon', 'PATH': '/opt/amazon/bin:/usr/local/nvidia/bin:/usr/local/sbin:/usr/local/bin:/usr/sbin:/usr/bin:/sbin:/bin:/opt/amazon/bin:/opt/amazon/bin', 'SAGEMAKER_HTTP_PORT': '8080', 'HOME': '/root', 'PYTHONUNBUFFERED': 'TRUE', 'CANONICAL_ENVROOT': '/opt/amazon', 'SAGEMAKER_DATA_PATH': '/opt/ml', 'LD_LIBRARY_PATH': '/opt/amazon/lib:/usr/local/nvidia/lib64:/opt/amazon/lib/stubs'}\u001b[0m\n",
      "\u001b[31m[07/09/2018 18:13:35 INFO 140455068137280] envs={'PROTOCOL_BUFFERS_PYTHON_IMPLEMENTATION_VERSION': '2', 'DMLC_NUM_WORKER': '1', 'PROTOCOL_BUFFERS_PYTHON_IMPLEMENTATION': 'cpp', 'ENVROOT': '/opt/amazon', 'HOME': '/root', 'SAGEMAKER_HTTP_PORT': '8080', 'PATH': '/opt/amazon/bin:/usr/local/nvidia/bin:/usr/local/sbin:/usr/local/bin:/usr/sbin:/usr/bin:/sbin:/bin:/opt/amazon/bin:/opt/amazon/bin', 'PYTHONUNBUFFERED': 'TRUE', 'CANONICAL_ENVROOT': '/opt/amazon', 'SAGEMAKER_DATA_PATH': '/opt/ml', 'LD_LIBRARY_PATH': '/opt/amazon/lib:/usr/local/nvidia/lib64:/opt/amazon/lib/stubs', 'LANG': 'en_US.utf8', 'DMLC_INTERFACE': 'ethwe', 'SHLVL': '1', 'DMLC_PS_ROOT_URI': '10.32.0.4', 'HOSTNAME': 'aws', 'AWS_REGION': 'us-west-2', 'AWS_CONTAINER_CREDENTIALS_RELATIVE_URI': '/v2/credentials/9558aed2-fc6a-4949-ab51-779d1a36158c', 'DMLC_ROLE': 'server', 'OMP_NUM_THREADS': '4', 'PWD': '/', 'DMLC_NUM_SERVER': '1', 'TRAINING_JOB_NAME': 'knn-2018-07-09-18-10-36-493', 'DMLC_PS_ROOT_PORT': '9000'}\u001b[0m\n",
      "\u001b[31m[07/09/2018 18:13:35 INFO 140455068137280] Environment: {'PROTOCOL_BUFFERS_PYTHON_IMPLEMENTATION_VERSION': '2', 'DMLC_PS_ROOT_PORT': '9000', 'DMLC_NUM_WORKER': '1', 'SAGEMAKER_HTTP_PORT': '8080', 'HOME': '/root', 'PYTHONUNBUFFERED': 'TRUE', 'CANONICAL_ENVROOT': '/opt/amazon', 'LD_LIBRARY_PATH': '/opt/amazon/lib:/usr/local/nvidia/lib64:/opt/amazon/lib/stubs', 'LANG': 'en_US.utf8', 'DMLC_INTERFACE': 'ethwe', 'SHLVL': '1', 'DMLC_PS_ROOT_URI': '10.32.0.4', 'AWS_REGION': 'us-west-2', 'TRAINING_JOB_NAME': 'knn-2018-07-09-18-10-36-493', 'PATH': '/opt/amazon/bin:/usr/local/nvidia/bin:/usr/local/sbin:/usr/local/bin:/usr/sbin:/usr/bin:/sbin:/bin:/opt/amazon/bin:/opt/amazon/bin', 'PROTOCOL_BUFFERS_PYTHON_IMPLEMENTATION': 'cpp', 'ENVROOT': '/opt/amazon', 'SAGEMAKER_DATA_PATH': '/opt/ml', 'OMP_NUM_THREADS': '4', 'HOSTNAME': 'aws', 'AWS_CONTAINER_CREDENTIALS_RELATIVE_URI': '/v2/credentials/9558aed2-fc6a-4949-ab51-779d1a36158c', 'DMLC_ROLE': 'worker', 'PWD': '/', 'DMLC_NUM_SERVER': '1'}\u001b[0m\n",
      "\u001b[31m[07/09/2018 18:13:35 INFO 140455068137280] Using default worker.\u001b[0m\n",
      "\u001b[31m[07/09/2018 18:13:35 INFO 140455068137280] nvidia-smi took: 0.0251679420471 secs to identify 0 gpus\u001b[0m\n",
      "\u001b[31m[07/09/2018 18:13:35 INFO 140455068137280] Create Store: dist_async\u001b[0m\n",
      "\u001b[31m[07/09/2018 18:13:36 ERROR 140455068137280] nvidia-smi: failed to run (127): /bin/sh: nvidia-smi: command not found\u001b[0m\n",
      "\u001b[31m[07/09/2018 18:13:36 INFO 140455068137280] Using per-worker sample size = 500000 (Available virtual memory = 31113785344 bytes, GPU free memory = 0 bytes, number of workers = 1). If an out-of-memory error occurs, choose a larger instance type, use dimension reduction, decrease sample_size, and/or decrease mini_batch_size.\u001b[0m\n",
      "\u001b[31m#metrics {\"Metrics\": {\"Max Batches Seen Between Resets\": {\"count\": 1, \"max\": 0, \"sum\": 0.0, \"min\": 0}, \"Number of Batches Since Last Reset\": {\"count\": 1, \"max\": 0, \"sum\": 0.0, \"min\": 0}, \"Number of Records Since Last Reset\": {\"count\": 1, \"max\": 0, \"sum\": 0.0, \"min\": 0}, \"Total Batches Seen\": {\"count\": 1, \"max\": 0, \"sum\": 0.0, \"min\": 0}, \"Total Records Seen\": {\"count\": 1, \"max\": 0, \"sum\": 0.0, \"min\": 0}, \"Max Records Seen Between Resets\": {\"count\": 1, \"max\": 0, \"sum\": 0.0, \"min\": 0}, \"Reset Count\": {\"count\": 1, \"max\": 0, \"sum\": 0.0, \"min\": 0}}, \"EndTime\": 1531160016.797473, \"Dimensions\": {\"Host\": \"algo-1\", \"Meta\": \"init_train_data_iter\", \"Operation\": \"training\", \"Algorithm\": \"AWS/KNN\"}, \"StartTime\": 1531160016.797433}\n",
      "\u001b[0m\n",
      "\u001b[31m[07/09/2018 18:13:37 INFO 140455068137280] push reservoir to kv... 1 num_workers 0 rank\u001b[0m\n",
      "\u001b[31m[07/09/2018 18:13:38 INFO 140455068137280] ...done (500000)\u001b[0m\n",
      "\u001b[31m[07/09/2018 18:13:38 INFO 140455068137280] #progress_metric: host=algo-1, completed 100 % of epochs\u001b[0m\n",
      "\u001b[31m#metrics {\"Metrics\": {\"Max Batches Seen Between Resets\": {\"count\": 1, \"max\": 105, \"sum\": 105.0, \"min\": 105}, \"Number of Batches Since Last Reset\": {\"count\": 1, \"max\": 105, \"sum\": 105.0, \"min\": 105}, \"Number of Records Since Last Reset\": {\"count\": 1, \"max\": 522910, \"sum\": 522910.0, \"min\": 522910}, \"Total Batches Seen\": {\"count\": 1, \"max\": 105, \"sum\": 105.0, \"min\": 105}, \"Total Records Seen\": {\"count\": 1, \"max\": 522910, \"sum\": 522910.0, \"min\": 522910}, \"Max Records Seen Between Resets\": {\"count\": 1, \"max\": 522910, \"sum\": 522910.0, \"min\": 522910}, \"Reset Count\": {\"count\": 1, \"max\": 1, \"sum\": 1.0, \"min\": 1}}, \"EndTime\": 1531160018.343407, \"Dimensions\": {\"Host\": \"algo-1\", \"Meta\": \"training_data_iter\", \"Operation\": \"training\", \"Algorithm\": \"AWS/KNN\", \"epoch\": 0}, \"StartTime\": 1531160016.797744}\n",
      "\u001b[0m\n",
      "\u001b[31m[07/09/2018 18:13:38 INFO 140455068137280] #throughput_metric: host=algo-1, train throughput=338280.059955 records/second\u001b[0m\n",
      "\u001b[31m[07/09/2018 18:13:38 INFO 140455068137280] pulled row count... worker 0 rows 500000\u001b[0m\n",
      "\u001b[31m[07/09/2018 18:13:38 INFO 140455068137280] pulled... worker 0 data (500000, 56) labels (500000, 1) nans 0\u001b[0m\n",
      "\u001b[31m[07/09/2018 18:13:38 INFO 140455068137280] calling index.train...\u001b[0m\n"
     ]
    },
    {
     "name": "stdout",
     "output_type": "stream",
     "text": [
      "\u001b[31m[07/09/2018 18:13:49 INFO 140455068137280] ...done calling index.train\u001b[0m\n",
      "\u001b[31m[07/09/2018 18:13:49 INFO 140455068137280] calling index.add...\u001b[0m\n",
      "\u001b[31m[07/09/2018 18:13:55 INFO 140455068137280] ...done calling index.add\u001b[0m\n",
      "\u001b[31m#metrics {\"Metrics\": {\"epochs\": {\"count\": 1, \"max\": 1, \"sum\": 1.0, \"min\": 1}, \"model.serialize.time\": {\"count\": 1, \"max\": 8.354902267456055, \"sum\": 8.354902267456055, \"min\": 8.354902267456055}, \"finalize.time\": {\"count\": 1, \"max\": 17388.959884643555, \"sum\": 17388.959884643555, \"min\": 17388.959884643555}, \"initialize.time\": {\"count\": 1, \"max\": 1088.6261463165283, \"sum\": 1088.6261463165283, \"min\": 1088.6261463165283}, \"update.time\": {\"count\": 1, \"max\": 1545.360803604126, \"sum\": 1545.360803604126, \"min\": 1545.360803604126}}, \"EndTime\": 1531160035.741073, \"Dimensions\": {\"Host\": \"algo-1\", \"Operation\": \"training\", \"Algorithm\": \"AWS/KNN\"}, \"StartTime\": 1531160015.644074}\n",
      "\u001b[0m\n",
      "\u001b[31m#metrics {\"Metrics\": {\"Max Batches Seen Between Resets\": {\"count\": 1, \"max\": 12, \"sum\": 12.0, \"min\": 12}, \"Number of Batches Since Last Reset\": {\"count\": 1, \"max\": 12, \"sum\": 12.0, \"min\": 12}, \"Number of Records Since Last Reset\": {\"count\": 1, \"max\": 58102, \"sum\": 58102.0, \"min\": 58102}, \"Total Batches Seen\": {\"count\": 1, \"max\": 12, \"sum\": 12.0, \"min\": 12}, \"Total Records Seen\": {\"count\": 1, \"max\": 58102, \"sum\": 58102.0, \"min\": 58102}, \"Max Records Seen Between Resets\": {\"count\": 1, \"max\": 58102, \"sum\": 58102.0, \"min\": 58102}, \"Reset Count\": {\"count\": 1, \"max\": 0, \"sum\": 0.0, \"min\": 0}}, \"EndTime\": 1531160038.033158, \"Dimensions\": {\"Host\": \"algo-1\", \"Meta\": \"test_data_iter\", \"Operation\": \"training\", \"Algorithm\": \"AWS/KNN\"}, \"StartTime\": 1531160035.74159}\n",
      "\u001b[0m\n",
      "\u001b[31m[07/09/2018 18:13:58 INFO 140455068137280] #test_score (algo-1) : ('accuracy', 0.86318887473753059)\u001b[0m\n",
      "\u001b[31m[07/09/2018 18:13:58 INFO 140455068137280] #quality_metric: host=algo-1, test accuracy <score>=0.863188874738\u001b[0m\n",
      "\u001b[31m#metrics {\"Metrics\": {\"totaltime\": {\"count\": 1, \"max\": 23070.0900554657, \"sum\": 23070.0900554657, \"min\": 23070.0900554657}, \"setuptime\": {\"count\": 1, \"max\": 519.0210342407227, \"sum\": 519.0210342407227, \"min\": 519.0210342407227}}, \"EndTime\": 1531160038.036917, \"Dimensions\": {\"Host\": \"algo-1\", \"Operation\": \"training\", \"Algorithm\": \"AWS/KNN\"}, \"StartTime\": 1531160035.741146}\n",
      "\u001b[0m\n",
      "===== Job Complete =====\n",
      "Billable seconds: 128\n"
     ]
    }
   ],
   "source": [
    "hyperparams_ivfpq_l2_large = {\n",
    "    'feature_dim': 54,\n",
    "    'k': 100,\n",
    "    'sample_size': 500000,\n",
    "    'predictor_type': 'classifier',\n",
    "    'index_type': 'faiss.IVFPQ',\n",
    "    'index_metric': 'L2',\n",
    "    'faiss_index_ivf_nlists': 700, \n",
    "    'faiss_index_pq_m': '8'\n",
    "}\n",
    "output_path_ivfpq_l2_large = 's3://' + bucket + '/' + prefix + '/ivfpq_l2_large/output'\n",
    "knn_estimator_ivfpq_l2_large = trained_estimator_from_hyperparams(s3_train_data, hyperparams_ivfpq_l2_large, \n",
    "                                                                  output_path_ivfpq_l2_large, s3_test_data=s3_test_data)"
   ]
  },
  {
   "cell_type": "markdown",
   "metadata": {},
   "source": [
    "## Evaluation\n",
    "\n",
    "Before we set up the endpoints we take a moment to discuss ways of using them. The typical way of using an endpoint is the following: We feed it an input point and recieve a prediction. For kNN we additionally support another verbose API allowing for a more detailed response. With that API, instead of recieving only a prediction we recieve an ordered list of the labels corresponding to the nearest neighbors, along with their distances. \n",
    "\n",
    "A manual inspection of this list allows us to perform multiple tasks:\n",
    "* Tune k: By taking a majority vote over a prefix of the list we obtain the prediction for multiple values of k\n",
    "* Ranking / multi-label: Sometimes, we do not wish to predict a single class rather output a ranking of possible classes. An example for this would be image tagging where the labels are tags and the input vectors represent images.\n",
    "\n",
    "In what follows we focus on tuning k with this API. We begin with an **evaluate** function that measures both the output quality and latency of an endpoint. The code below contains this function along with auxiliary functions used by it. For reporting the quality we use the verbose API to obtain the predictions for multiple k values. For the latency we use the non-verbose API."
   ]
  },
  {
   "cell_type": "code",
   "execution_count": 18,
   "metadata": {
    "collapsed": true
   },
   "outputs": [],
   "source": [
    "from scipy import stats\n",
    "import matplotlib.pyplot as plt\n",
    "from sklearn.metrics import f1_score, accuracy_score\n",
    "import time\n",
    "\n",
    "def scores_for_ks(test_labels, knn_labels, ks):\n",
    "    f1_weight = []\n",
    "    f1_macro = []\n",
    "    f1_micro = []\n",
    "    acc = []\n",
    "    for k in ks:\n",
    "        pred_k = stats.mode(knn_labels[:,:k], axis=1)[0].reshape((-1,))\n",
    "        f1_weight.append(f1_score(test_labels, pred_k, average='weighted'))\n",
    "        f1_macro.append(f1_score(test_labels, pred_k, average='macro'))\n",
    "        f1_micro.append(f1_score(test_labels, pred_k, average='micro'))\n",
    "        acc.append(accuracy_score(test_labels, pred_k))\n",
    "    return {'f1_weight': f1_weight, 'f1_macro': f1_macro, 'f1_micro': f1_micro, 'accuracy': acc, }\n",
    "\n",
    "def plot_prediction_quality(scores, ks):\n",
    "    colors = ['r-', 'b-', 'g-','y-'][:len(scores)]\n",
    "    for (k,v), color in zip(scores.items(), colors):\n",
    "        plt.plot(ks, v, color, label=k)\n",
    "    plt.legend()\n",
    "    plt.xlabel('k')\n",
    "    plt.ylabel('prediction quality')\n",
    "    plt.show()\n",
    "\n",
    "def evaluate_quality(predictor, test_features, test_labels, model_name, verbose=True, num_batches=100):\n",
    "    \"\"\"\n",
    "    Evaluate quality metrics of a model on a test set. \n",
    "    \"\"\"\n",
    "    # tune the predictor to provide the verbose response\n",
    "    predictor.accept = 'application/json; verbose=true'\n",
    "    \n",
    "    # split the test data set into num_batches batches and evaluate using prediction endpoint. \n",
    "    print('running prediction (quality)...')\n",
    "    batches = np.array_split(test_features, num_batches)\n",
    "    knn_labels = []\n",
    "    for batch in batches:\n",
    "        pred_result = predictor.predict(batch)\n",
    "        cur_knn_labels = np.array([pred_result['predictions'][i]['labels'] for i in range(len(pred_result['predictions']))])\n",
    "        knn_labels.append(cur_knn_labels)\n",
    "    knn_labels = np.concatenate(knn_labels)\n",
    "    print('running prediction (quality)... done')\n",
    "\n",
    "    # figure out different k values\n",
    "    top_k = knn_labels.shape[1]\n",
    "    ks = range(1, top_k+1)\n",
    "    \n",
    "    # compute scores for the quality of the model for each value of k\n",
    "    print('computing scores for all values of k... ')\n",
    "    quality_scores = scores_for_ks(test_labels, knn_labels, ks)\n",
    "    print('computing scores for all values of k... done')\n",
    "    if verbose:\n",
    "        plot_prediction_quality(quality_scores, ks)\n",
    "    \n",
    "    return quality_scores\n",
    "\n",
    "def evaluate_latency(predictor, test_features, test_labels, model_name, verbose=True, num_batches=100):\n",
    "    \"\"\"\n",
    "    Evaluate the run-time of a model on a test set.\n",
    "    \"\"\"\n",
    "    # tune the predictor to provide the non-verbose response\n",
    "    predictor.accept = 'application/json'\n",
    "    \n",
    "    # latency for large batches:\n",
    "    # split the test data set into num_batches batches and evaluate the latencies of the calls to endpoint. \n",
    "    print('running prediction (latency)...')\n",
    "    batches = np.array_split(test_features, num_batches)\n",
    "    test_preds = []\n",
    "    latency_sum = 0\n",
    "    for batch in batches:\n",
    "        start = time.time()\n",
    "        pred_batch = predictor.predict(batch)\n",
    "        latency_sum += time.time() - start\n",
    "    latency_mean = latency_sum / float(num_batches)\n",
    "    avg_batch_size = test_features.shape[0] / num_batches\n",
    "    \n",
    "    # estimate the latency for a batch of size 1\n",
    "    latencies = []\n",
    "    attempts = 2000\n",
    "    for i in range(attempts):\n",
    "        start = time.time()\n",
    "        pred_batch = predictor.predict(test_features[i].reshape((1,-1)))\n",
    "        latencies.append(time.time() - start)\n",
    "\n",
    "    latencies = sorted(latencies)\n",
    "    latency1_mean = sum(latencies) / float(attempts)\n",
    "    latency1_p90 = latencies[int(attempts*0.9)]\n",
    "    latency1_p99 = latencies[int(attempts*0.99)]\n",
    "    print('running prediction (latency)... done')\n",
    "    \n",
    "    if verbose:\n",
    "        print(\"{:<11} {:.3f}\".format('Latency (ms, batch size %d):' % avg_batch_size, latency_mean * 1000))\n",
    "        print(\"{:<11} {:.3f}\".format('Latency (ms) mean for single item:', latency1_mean * 1000))\n",
    "        print(\"{:<11} {:.3f}\".format('Latency (ms) p90 for single item:', latency1_p90 * 1000))\n",
    "        print(\"{:<11} {:.3f}\".format('Latency (ms) p99 for single item:', latency1_p99 * 1000))\n",
    "        \n",
    "    return {'Latency': latency_mean, 'Latency1_mean': latency1_mean, 'Latency1_p90': latency1_p90, \n",
    "            'Latency1_p99': latency1_p99}\n",
    "\n",
    "def evaluate(predictor, test_features, test_labels, model_name, verbose=True, num_batches=100):\n",
    "    eval_result_q = evaluate_quality(pred, test_features, test_labels, model_name=model_name, verbose=verbose, num_batches=num_batches)\n",
    "    eval_result_l = evaluate_latency(pred, test_features, test_labels, model_name=model_name, verbose=verbose, num_batches=num_batches)\n",
    "    return dict(list(eval_result_q.items()) + list(eval_result_l.items()))\n",
    "    \n",
    "    "
   ]
  },
  {
   "cell_type": "markdown",
   "metadata": {},
   "source": [
    "We are now ready to set up the endpoints. The following code will set up 4 endpoints, one for every option of cpu/gpu machine and Flat/IVFPQ index. For a gpu machine we use *ml.p2.xlarge* and for cpu we use *ml.c5.xlarge*. For cases where latency is not an issue, or the dataset is very small, we recommend using *ml.m4.xlarge* machines, as they are cheaper than the machines mentioned above. For the purpose of these notebook, we restrict our attention to compute optimized machines as we are also optimizing for latency. After setting an endpoint we evaluate it and then delete it. If you requires to keep using an endpoint, do not delete it until you are done with it."
   ]
  },
  {
   "cell_type": "code",
   "execution_count": 19,
   "metadata": {},
   "outputs": [
    {
     "name": "stderr",
     "output_type": "stream",
     "text": [
      "INFO:sagemaker:Creating model with name: knn-2018-07-09-18-14-21-396\n"
     ]
    },
    {
     "name": "stdout",
     "output_type": "stream",
     "text": [
      "\n",
      "setting up endpoint for instance_type=ml.c5.xlarge, index_type=flat_l2\n"
     ]
    },
    {
     "name": "stderr",
     "output_type": "stream",
     "text": [
      "INFO:sagemaker:Creating endpoint with name knn-latency-flat-l2-ml-c5-xlarge-1531160061-33923\n"
     ]
    },
    {
     "name": "stdout",
     "output_type": "stream",
     "text": [
      "--------------------------------------------------------------!\n",
      "running prediction (quality)...\n",
      "running prediction (quality)... done\n",
      "computing scores for all values of k... \n",
      "computing scores for all values of k... done\n"
     ]
    },
    {
     "data": {
      "image/png": "[encoded data removed]",
      "text/plain": [
       "<matplotlib.figure.Figure at 0x7fe7baae7c18>"
      ]
     },
     "metadata": {},
     "output_type": "display_data"
    },
    {
     "name": "stdout",
     "output_type": "stream",
     "text": [
      "running prediction (latency)...\n"
     ]
    },
    {
     "name": "stderr",
     "output_type": "stream",
     "text": [
      "INFO:sagemaker:Creating model with name: knn-2018-07-09-18-21-10-712\n"
     ]
    },
    {
     "name": "stdout",
     "output_type": "stream",
     "text": [
      "running prediction (latency)... done\n",
      "Latency (ms, batch size 581): 162.461\n",
      "Latency (ms) mean for single item: 15.111\n",
      "Latency (ms) p90 for single item: 17.213\n",
      "Latency (ms) p99 for single item: 21.190\n",
      "Deleted knn-latency-flat-l2-ml-c5-xlarge-1531160061-33923\n",
      "\n",
      "setting up endpoint for instance_type=ml.p2.xlarge, index_type=flat_l2\n"
     ]
    },
    {
     "name": "stderr",
     "output_type": "stream",
     "text": [
      "INFO:sagemaker:Creating endpoint with name knn-latency-flat-l2-ml-p2-xlarge-1531160470-6527166\n"
     ]
    },
    {
     "name": "stdout",
     "output_type": "stream",
     "text": [
      "----------------------------------------------------------------!\n",
      "running prediction (quality)...\n",
      "running prediction (quality)... done\n",
      "computing scores for all values of k... \n",
      "computing scores for all values of k... done\n"
     ]
    },
    {
     "data": {
      "image/png": "[encoded data removed]",
      "text/plain": [
       "<matplotlib.figure.Figure at 0x7fe7c1f96e48>"
      ]
     },
     "metadata": {},
     "output_type": "display_data"
    },
    {
     "name": "stdout",
     "output_type": "stream",
     "text": [
      "running prediction (latency)...\n"
     ]
    },
    {
     "name": "stderr",
     "output_type": "stream",
     "text": [
      "INFO:sagemaker:Creating model with name: knn-2018-07-09-18-27-34-973\n"
     ]
    },
    {
     "name": "stdout",
     "output_type": "stream",
     "text": [
      "running prediction (latency)... done\n",
      "Latency (ms, batch size 581): 54.523\n",
      "Latency (ms) mean for single item: 8.876\n",
      "Latency (ms) p90 for single item: 9.818\n",
      "Latency (ms) p99 for single item: 11.519\n",
      "Deleted knn-latency-flat-l2-ml-p2-xlarge-1531160470-6527166\n",
      "\n",
      "setting up endpoint for instance_type=ml.c5.xlarge, index_type=ivfpq_l2\n"
     ]
    },
    {
     "name": "stderr",
     "output_type": "stream",
     "text": [
      "INFO:sagemaker:Creating endpoint with name knn-latency-ivfpq-l2-ml-c5-xlarge-1531160854-9199831\n"
     ]
    },
    {
     "name": "stdout",
     "output_type": "stream",
     "text": [
      "------------------------------------------------------------------!\n",
      "running prediction (quality)...\n",
      "running prediction (quality)... done\n",
      "computing scores for all values of k... \n",
      "computing scores for all values of k... done\n"
     ]
    },
    {
     "data": {
      "image/png": "[encoded data removed]",
      "text/plain": [
       "<matplotlib.figure.Figure at 0x7fe7868cecc0>"
      ]
     },
     "metadata": {},
     "output_type": "display_data"
    },
    {
     "name": "stdout",
     "output_type": "stream",
     "text": [
      "running prediction (latency)...\n",
      "running prediction (latency)... done\n",
      "Latency (ms, batch size 581): 57.916\n",
      "Latency (ms) mean for single item: 7.292\n",
      "Latency (ms) p90 for single item: 8.073\n",
      "Latency (ms) p99 for single item: 11.595\n",
      "Deleted knn-latency-ivfpq-l2-ml-c5-xlarge-1531160854-9199831\n",
      "\n",
      "setting up endpoint for instance_type=ml.p2.xlarge, index_type=ivfpq_l2\n"
     ]
    },
    {
     "name": "stderr",
     "output_type": "stream",
     "text": [
      "INFO:sagemaker:Creating model with name: knn-2018-07-09-18-34-09-979\n",
      "INFO:sagemaker:Creating endpoint with name knn-latency-ivfpq-l2-ml-p2-xlarge-1531161249-900856\n"
     ]
    },
    {
     "name": "stdout",
     "output_type": "stream",
     "text": [
      "-----------------------------------------------------------------------!\n",
      "running prediction (quality)...\n",
      "running prediction (quality)... done\n",
      "computing scores for all values of k... \n",
      "computing scores for all values of k... done\n"
     ]
    },
    {
     "data": {
      "image/png": "[encoded data removed]",
      "text/plain": [
       "<matplotlib.figure.Figure at 0x7fe7b4296fd0>"
      ]
     },
     "metadata": {},
     "output_type": "display_data"
    },
    {
     "name": "stdout",
     "output_type": "stream",
     "text": [
      "running prediction (latency)...\n"
     ]
    },
    {
     "name": "stderr",
     "output_type": "stream",
     "text": [
      "INFO:sagemaker:Creating model with name: knn-2018-07-09-18-41-15-426\n"
     ]
    },
    {
     "name": "stdout",
     "output_type": "stream",
     "text": [
      "running prediction (latency)... done\n",
      "Latency (ms, batch size 581): 55.009\n",
      "Latency (ms) mean for single item: 9.396\n",
      "Latency (ms) p90 for single item: 10.859\n",
      "Latency (ms) p99 for single item: 20.781\n",
      "Deleted knn-latency-ivfpq-l2-ml-p2-xlarge-1531161249-900856\n",
      "\n",
      "setting up endpoint for instance_type=ml.c5.xlarge, index_type=flat_l2_large\n"
     ]
    },
    {
     "name": "stderr",
     "output_type": "stream",
     "text": [
      "INFO:sagemaker:Creating endpoint with name knn-latency-flat-l2-large-ml-c5-xlarge-1531161675-3578985\n"
     ]
    },
    {
     "name": "stdout",
     "output_type": "stream",
     "text": [
      "--------------------------------------------------------------------!\n",
      "running prediction (quality)...\n",
      "running prediction (quality)... done\n",
      "computing scores for all values of k... \n",
      "computing scores for all values of k... done\n"
     ]
    },
    {
     "data": {
      "image/png": "[encoded data removed]",
      "text/plain": [
       "<matplotlib.figure.Figure at 0x7fe7b68e1c18>"
      ]
     },
     "metadata": {},
     "output_type": "display_data"
    },
    {
     "name": "stdout",
     "output_type": "stream",
     "text": [
      "running prediction (latency)...\n"
     ]
    },
    {
     "name": "stderr",
     "output_type": "stream",
     "text": [
      "INFO:sagemaker:Creating model with name: knn-2018-07-09-18-49-32-036\n"
     ]
    },
    {
     "name": "stdout",
     "output_type": "stream",
     "text": [
      "running prediction (latency)... done\n",
      "Latency (ms, batch size 581): 357.575\n",
      "Latency (ms) mean for single item: 24.819\n",
      "Latency (ms) p90 for single item: 28.280\n",
      "Latency (ms) p99 for single item: 34.098\n",
      "Deleted knn-latency-flat-l2-large-ml-c5-xlarge-1531161675-3578985\n",
      "\n",
      "setting up endpoint for instance_type=ml.p2.xlarge, index_type=flat_l2_large\n"
     ]
    },
    {
     "name": "stderr",
     "output_type": "stream",
     "text": [
      "INFO:sagemaker:Creating endpoint with name knn-latency-flat-l2-large-ml-p2-xlarge-1531162171-9907093\n"
     ]
    },
    {
     "name": "stdout",
     "output_type": "stream",
     "text": [
      "------------------------------------------------------------------------------------------------------------------!\n",
      "running prediction (quality)...\n",
      "running prediction (quality)... done\n",
      "computing scores for all values of k... \n",
      "computing scores for all values of k... done\n"
     ]
    },
    {
     "data": {
      "image/png": "[encoded data removed]",
      "text/plain": [
       "<matplotlib.figure.Figure at 0x7fe7b4296fd0>"
      ]
     },
     "metadata": {},
     "output_type": "display_data"
    },
    {
     "name": "stdout",
     "output_type": "stream",
     "text": [
      "running prediction (latency)...\n"
     ]
    },
    {
     "name": "stderr",
     "output_type": "stream",
     "text": [
      "INFO:sagemaker:Creating model with name: knn-2018-07-09-19-00-25-338\n"
     ]
    },
    {
     "name": "stdout",
     "output_type": "stream",
     "text": [
      "running prediction (latency)... done\n",
      "Latency (ms, batch size 581): 88.302\n",
      "Latency (ms) mean for single item: 13.194\n",
      "Latency (ms) p90 for single item: 14.175\n",
      "Latency (ms) p99 for single item: 20.207\n",
      "Deleted knn-latency-flat-l2-large-ml-p2-xlarge-1531162171-9907093\n",
      "\n",
      "setting up endpoint for instance_type=ml.c5.xlarge, index_type=ivfpq_l2_large\n"
     ]
    },
    {
     "name": "stderr",
     "output_type": "stream",
     "text": [
      "INFO:sagemaker:Creating endpoint with name knn-latency-ivfpq-l2-large-ml-c5-xlarge-1531162825-275588\n"
     ]
    },
    {
     "name": "stdout",
     "output_type": "stream",
     "text": [
      "--------------------------------------------------------------------------------!\n",
      "running prediction (quality)...\n",
      "running prediction (quality)... done\n",
      "computing scores for all values of k... \n",
      "computing scores for all values of k... done\n"
     ]
    },
    {
     "data": {
      "image/png": "[encoded data removed]",
      "text/plain": [
       "<matplotlib.figure.Figure at 0x7fe78555af60>"
      ]
     },
     "metadata": {},
     "output_type": "display_data"
    },
    {
     "name": "stdout",
     "output_type": "stream",
     "text": [
      "running prediction (latency)...\n",
      "running prediction (latency)... done\n",
      "Latency (ms, batch size 581): 65.183\n",
      "Latency (ms) mean for single item: 8.101\n",
      "Latency (ms) p90 for single item: 9.461\n",
      "Latency (ms) p99 for single item: 16.243\n",
      "Deleted knn-latency-ivfpq-l2-large-ml-c5-xlarge-1531162825-275588\n",
      "\n",
      "setting up endpoint for instance_type=ml.p2.xlarge, index_type=ivfpq_l2_large\n"
     ]
    },
    {
     "name": "stderr",
     "output_type": "stream",
     "text": [
      "INFO:sagemaker:Creating model with name: knn-2018-07-09-19-08-14-045\n",
      "INFO:sagemaker:Creating endpoint with name knn-latency-ivfpq-l2-large-ml-p2-xlarge-1531163293-9468534\n"
     ]
    },
    {
     "name": "stdout",
     "output_type": "stream",
     "text": [
      "------------------------------------------------------------------------------------------!\n",
      "running prediction (quality)...\n",
      "running prediction (quality)... done\n",
      "computing scores for all values of k... \n",
      "computing scores for all values of k... done\n"
     ]
    },
    {
     "data": {
      "image/png": "[encoded data removed]",
      "text/plain": [
       "<matplotlib.figure.Figure at 0x7fe78532e0b8>"
      ]
     },
     "metadata": {},
     "output_type": "display_data"
    },
    {
     "name": "stdout",
     "output_type": "stream",
     "text": [
      "running prediction (latency)...\n",
      "running prediction (latency)... done\n",
      "Latency (ms, batch size 581): 57.388\n",
      "Latency (ms) mean for single item: 8.728\n",
      "Latency (ms) p90 for single item: 10.076\n",
      "Latency (ms) p99 for single item: 17.347\n",
      "Deleted knn-latency-ivfpq-l2-large-ml-p2-xlarge-1531163293-9468534\n"
     ]
    }
   ],
   "source": [
    "import time\n",
    "\n",
    "instance_types = ['ml.c5.xlarge', 'ml.p2.xlarge']\n",
    "index2estimator = {'flat_l2': knn_estimator_flat_l2, 'ivfpq_l2': knn_estimator_ivfpq_l2,\n",
    "                  'flat_l2_large': knn_estimator_flat_l2_large, 'ivfpq_l2_large': knn_estimator_ivfpq_l2_large}\n",
    "\n",
    "eval_results = {}\n",
    "\n",
    "for index in index2estimator:\n",
    "    estimator = index2estimator[index]\n",
    "    eval_results[index] = {}\n",
    "    for instance_type in instance_types:\n",
    "        model_name = 'knn_%s_%s'%(index, instance_type)\n",
    "        endpoint_name = 'knn-latency-%s-%s-%s'%(index.replace('_','-'), instance_type.replace('.','-'),\n",
    "                                               str(time.time()).replace('.','-'))\n",
    "        print('\\nsetting up endpoint for instance_type=%s, index_type=%s' %(instance_type, index))\n",
    "        pred = predictor_from_hyperparams(estimator, index, instance_type, endpoint_name=endpoint_name)\n",
    "        print('')\n",
    "        eval_result = evaluate(pred, test_features, test_labels, model_name=model_name, verbose=True)        \n",
    "        eval_result['instance'] = instance_type \n",
    "        eval_result['index'] = index \n",
    "        eval_results[index][instance_type] = eval_result\n",
    "        delete_endpoint(pred)"
   ]
  },
  {
   "cell_type": "markdown",
   "metadata": {},
   "source": [
    "Looking at the plots it seems that the performance is best for small values of k. Let's view some values in a table to get a clear comparison. Below is a table with rows representing the models and columns, the different measurements. We highlight for every model any accuracy score that is at most 0.25% (relative) away from the maximum accuracy among the different values of k"
   ]
  },
  {
   "cell_type": "code",
   "execution_count": 20,
   "metadata": {},
   "outputs": [
    {
     "data": {
      "text/html": [
       "<style  type=\"text/css\" >\n",
       "    #T_a6732632_83ac_11e8_b9cb_06782d868b86row0_col0 {\n",
       "            background-color:  yellow;\n",
       "        }    #T_a6732632_83ac_11e8_b9cb_06782d868b86row1_col0 {\n",
       "            background-color:  yellow;\n",
       "        }    #T_a6732632_83ac_11e8_b9cb_06782d868b86row2_col0 {\n",
       "            background-color:  yellow;\n",
       "        }    #T_a6732632_83ac_11e8_b9cb_06782d868b86row3_col0 {\n",
       "            background-color:  yellow;\n",
       "        }    #T_a6732632_83ac_11e8_b9cb_06782d868b86row3_col4 {\n",
       "            background-color:  yellow;\n",
       "        }    #T_a6732632_83ac_11e8_b9cb_06782d868b86row4_col2 {\n",
       "            background-color:  yellow;\n",
       "        }    #T_a6732632_83ac_11e8_b9cb_06782d868b86row4_col4 {\n",
       "            background-color:  yellow;\n",
       "        }    #T_a6732632_83ac_11e8_b9cb_06782d868b86row5_col2 {\n",
       "            background-color:  yellow;\n",
       "        }    #T_a6732632_83ac_11e8_b9cb_06782d868b86row5_col4 {\n",
       "            background-color:  yellow;\n",
       "        }    #T_a6732632_83ac_11e8_b9cb_06782d868b86row6_col2 {\n",
       "            background-color:  yellow;\n",
       "        }    #T_a6732632_83ac_11e8_b9cb_06782d868b86row6_col4 {\n",
       "            background-color:  yellow;\n",
       "        }    #T_a6732632_83ac_11e8_b9cb_06782d868b86row6_col5 {\n",
       "            background-color:  yellow;\n",
       "        }    #T_a6732632_83ac_11e8_b9cb_06782d868b86row6_col6 {\n",
       "            background-color:  yellow;\n",
       "        }    #T_a6732632_83ac_11e8_b9cb_06782d868b86row6_col7 {\n",
       "            background-color:  yellow;\n",
       "        }    #T_a6732632_83ac_11e8_b9cb_06782d868b86row6_col8 {\n",
       "            background-color:  yellow;\n",
       "        }    #T_a6732632_83ac_11e8_b9cb_06782d868b86row6_col10 {\n",
       "            background-color:  yellow;\n",
       "        }    #T_a6732632_83ac_11e8_b9cb_06782d868b86row7_col2 {\n",
       "            background-color:  yellow;\n",
       "        }    #T_a6732632_83ac_11e8_b9cb_06782d868b86row7_col4 {\n",
       "            background-color:  yellow;\n",
       "        }    #T_a6732632_83ac_11e8_b9cb_06782d868b86row7_col5 {\n",
       "            background-color:  yellow;\n",
       "        }    #T_a6732632_83ac_11e8_b9cb_06782d868b86row7_col6 {\n",
       "            background-color:  yellow;\n",
       "        }    #T_a6732632_83ac_11e8_b9cb_06782d868b86row7_col7 {\n",
       "            background-color:  yellow;\n",
       "        }    #T_a6732632_83ac_11e8_b9cb_06782d868b86row7_col8 {\n",
       "            background-color:  yellow;\n",
       "        }    #T_a6732632_83ac_11e8_b9cb_06782d868b86row7_col10 {\n",
       "            background-color:  yellow;\n",
       "        }</style>  \n",
       "<table id=\"T_a6732632_83ac_11e8_b9cb_06782d868b86\" > \n",
       "<thead>    <tr> \n",
       "        <th class=\"blank level0\" ></th> \n",
       "        <th class=\"col_heading level0 col0\" >acc_1</th> \n",
       "        <th class=\"col_heading level0 col1\" >acc_2</th> \n",
       "        <th class=\"col_heading level0 col2\" >acc_3</th> \n",
       "        <th class=\"col_heading level0 col3\" >acc_4</th> \n",
       "        <th class=\"col_heading level0 col4\" >acc_5</th> \n",
       "        <th class=\"col_heading level0 col5\" >acc_6</th> \n",
       "        <th class=\"col_heading level0 col6\" >acc_7</th> \n",
       "        <th class=\"col_heading level0 col7\" >acc_8</th> \n",
       "        <th class=\"col_heading level0 col8\" >acc_9</th> \n",
       "        <th class=\"col_heading level0 col9\" >acc_10</th> \n",
       "        <th class=\"col_heading level0 col10\" >acc_11</th> \n",
       "        <th class=\"col_heading level0 col11\" >acc_12</th> \n",
       "    </tr></thead> \n",
       "<tbody>    <tr> \n",
       "        <th id=\"T_a6732632_83ac_11e8_b9cb_06782d868b86level0_row0\" class=\"row_heading level0 row0\" >flat_l2_ml.c5.xlarge</th> \n",
       "        <td id=\"T_a6732632_83ac_11e8_b9cb_06782d868b86row0_col0\" class=\"data row0 col0\" >95</td> \n",
       "        <td id=\"T_a6732632_83ac_11e8_b9cb_06782d868b86row0_col1\" class=\"data row0 col1\" >93.9</td> \n",
       "        <td id=\"T_a6732632_83ac_11e8_b9cb_06782d868b86row0_col2\" class=\"data row0 col2\" >94.3</td> \n",
       "        <td id=\"T_a6732632_83ac_11e8_b9cb_06782d868b86row0_col3\" class=\"data row0 col3\" >93.6</td> \n",
       "        <td id=\"T_a6732632_83ac_11e8_b9cb_06782d868b86row0_col4\" class=\"data row0 col4\" >93.8</td> \n",
       "        <td id=\"T_a6732632_83ac_11e8_b9cb_06782d868b86row0_col5\" class=\"data row0 col5\" >93.2</td> \n",
       "        <td id=\"T_a6732632_83ac_11e8_b9cb_06782d868b86row0_col6\" class=\"data row0 col6\" >93.2</td> \n",
       "        <td id=\"T_a6732632_83ac_11e8_b9cb_06782d868b86row0_col7\" class=\"data row0 col7\" >92.7</td> \n",
       "        <td id=\"T_a6732632_83ac_11e8_b9cb_06782d868b86row0_col8\" class=\"data row0 col8\" >92.5</td> \n",
       "        <td id=\"T_a6732632_83ac_11e8_b9cb_06782d868b86row0_col9\" class=\"data row0 col9\" >92.2</td> \n",
       "        <td id=\"T_a6732632_83ac_11e8_b9cb_06782d868b86row0_col10\" class=\"data row0 col10\" >92.1</td> \n",
       "        <td id=\"T_a6732632_83ac_11e8_b9cb_06782d868b86row0_col11\" class=\"data row0 col11\" >91.7</td> \n",
       "    </tr>    <tr> \n",
       "        <th id=\"T_a6732632_83ac_11e8_b9cb_06782d868b86level0_row1\" class=\"row_heading level0 row1\" >flat_l2_ml.p2.xlarge</th> \n",
       "        <td id=\"T_a6732632_83ac_11e8_b9cb_06782d868b86row1_col0\" class=\"data row1 col0\" >95</td> \n",
       "        <td id=\"T_a6732632_83ac_11e8_b9cb_06782d868b86row1_col1\" class=\"data row1 col1\" >93.9</td> \n",
       "        <td id=\"T_a6732632_83ac_11e8_b9cb_06782d868b86row1_col2\" class=\"data row1 col2\" >94.3</td> \n",
       "        <td id=\"T_a6732632_83ac_11e8_b9cb_06782d868b86row1_col3\" class=\"data row1 col3\" >93.6</td> \n",
       "        <td id=\"T_a6732632_83ac_11e8_b9cb_06782d868b86row1_col4\" class=\"data row1 col4\" >93.8</td> \n",
       "        <td id=\"T_a6732632_83ac_11e8_b9cb_06782d868b86row1_col5\" class=\"data row1 col5\" >93.2</td> \n",
       "        <td id=\"T_a6732632_83ac_11e8_b9cb_06782d868b86row1_col6\" class=\"data row1 col6\" >93.2</td> \n",
       "        <td id=\"T_a6732632_83ac_11e8_b9cb_06782d868b86row1_col7\" class=\"data row1 col7\" >92.7</td> \n",
       "        <td id=\"T_a6732632_83ac_11e8_b9cb_06782d868b86row1_col8\" class=\"data row1 col8\" >92.5</td> \n",
       "        <td id=\"T_a6732632_83ac_11e8_b9cb_06782d868b86row1_col9\" class=\"data row1 col9\" >92.2</td> \n",
       "        <td id=\"T_a6732632_83ac_11e8_b9cb_06782d868b86row1_col10\" class=\"data row1 col10\" >92.1</td> \n",
       "        <td id=\"T_a6732632_83ac_11e8_b9cb_06782d868b86row1_col11\" class=\"data row1 col11\" >91.7</td> \n",
       "    </tr>    <tr> \n",
       "        <th id=\"T_a6732632_83ac_11e8_b9cb_06782d868b86level0_row2\" class=\"row_heading level0 row2\" >ivfpq_l2_ml.c5.xlarge</th> \n",
       "        <td id=\"T_a6732632_83ac_11e8_b9cb_06782d868b86row2_col0\" class=\"data row2 col0\" >90.8</td> \n",
       "        <td id=\"T_a6732632_83ac_11e8_b9cb_06782d868b86row2_col1\" class=\"data row2 col1\" >89.9</td> \n",
       "        <td id=\"T_a6732632_83ac_11e8_b9cb_06782d868b86row2_col2\" class=\"data row2 col2\" >90.5</td> \n",
       "        <td id=\"T_a6732632_83ac_11e8_b9cb_06782d868b86row2_col3\" class=\"data row2 col3\" >90</td> \n",
       "        <td id=\"T_a6732632_83ac_11e8_b9cb_06782d868b86row2_col4\" class=\"data row2 col4\" >90.5</td> \n",
       "        <td id=\"T_a6732632_83ac_11e8_b9cb_06782d868b86row2_col5\" class=\"data row2 col5\" >90.2</td> \n",
       "        <td id=\"T_a6732632_83ac_11e8_b9cb_06782d868b86row2_col6\" class=\"data row2 col6\" >90.4</td> \n",
       "        <td id=\"T_a6732632_83ac_11e8_b9cb_06782d868b86row2_col7\" class=\"data row2 col7\" >90.1</td> \n",
       "        <td id=\"T_a6732632_83ac_11e8_b9cb_06782d868b86row2_col8\" class=\"data row2 col8\" >90.2</td> \n",
       "        <td id=\"T_a6732632_83ac_11e8_b9cb_06782d868b86row2_col9\" class=\"data row2 col9\" >89.8</td> \n",
       "        <td id=\"T_a6732632_83ac_11e8_b9cb_06782d868b86row2_col10\" class=\"data row2 col10\" >89.9</td> \n",
       "        <td id=\"T_a6732632_83ac_11e8_b9cb_06782d868b86row2_col11\" class=\"data row2 col11\" >89.5</td> \n",
       "    </tr>    <tr> \n",
       "        <th id=\"T_a6732632_83ac_11e8_b9cb_06782d868b86level0_row3\" class=\"row_heading level0 row3\" >ivfpq_l2_ml.p2.xlarge</th> \n",
       "        <td id=\"T_a6732632_83ac_11e8_b9cb_06782d868b86row3_col0\" class=\"data row3 col0\" >90.8</td> \n",
       "        <td id=\"T_a6732632_83ac_11e8_b9cb_06782d868b86row3_col1\" class=\"data row3 col1\" >89.9</td> \n",
       "        <td id=\"T_a6732632_83ac_11e8_b9cb_06782d868b86row3_col2\" class=\"data row3 col2\" >90.5</td> \n",
       "        <td id=\"T_a6732632_83ac_11e8_b9cb_06782d868b86row3_col3\" class=\"data row3 col3\" >90</td> \n",
       "        <td id=\"T_a6732632_83ac_11e8_b9cb_06782d868b86row3_col4\" class=\"data row3 col4\" >90.6</td> \n",
       "        <td id=\"T_a6732632_83ac_11e8_b9cb_06782d868b86row3_col5\" class=\"data row3 col5\" >90.2</td> \n",
       "        <td id=\"T_a6732632_83ac_11e8_b9cb_06782d868b86row3_col6\" class=\"data row3 col6\" >90.4</td> \n",
       "        <td id=\"T_a6732632_83ac_11e8_b9cb_06782d868b86row3_col7\" class=\"data row3 col7\" >90.1</td> \n",
       "        <td id=\"T_a6732632_83ac_11e8_b9cb_06782d868b86row3_col8\" class=\"data row3 col8\" >90.2</td> \n",
       "        <td id=\"T_a6732632_83ac_11e8_b9cb_06782d868b86row3_col9\" class=\"data row3 col9\" >89.8</td> \n",
       "        <td id=\"T_a6732632_83ac_11e8_b9cb_06782d868b86row3_col10\" class=\"data row3 col10\" >89.8</td> \n",
       "        <td id=\"T_a6732632_83ac_11e8_b9cb_06782d868b86row3_col11\" class=\"data row3 col11\" >89.5</td> \n",
       "    </tr>    <tr> \n",
       "        <th id=\"T_a6732632_83ac_11e8_b9cb_06782d868b86level0_row4\" class=\"row_heading level0 row4\" >flat_l2_large_ml.c5.xlarge</th> \n",
       "        <td id=\"T_a6732632_83ac_11e8_b9cb_06782d868b86row4_col0\" class=\"data row4 col0\" >96.5</td> \n",
       "        <td id=\"T_a6732632_83ac_11e8_b9cb_06782d868b86row4_col1\" class=\"data row4 col1\" >96.2</td> \n",
       "        <td id=\"T_a6732632_83ac_11e8_b9cb_06782d868b86row4_col2\" class=\"data row4 col2\" >97</td> \n",
       "        <td id=\"T_a6732632_83ac_11e8_b9cb_06782d868b86row4_col3\" class=\"data row4 col3\" >96.6</td> \n",
       "        <td id=\"T_a6732632_83ac_11e8_b9cb_06782d868b86row4_col4\" class=\"data row4 col4\" >96.9</td> \n",
       "        <td id=\"T_a6732632_83ac_11e8_b9cb_06782d868b86row4_col5\" class=\"data row4 col5\" >96.6</td> \n",
       "        <td id=\"T_a6732632_83ac_11e8_b9cb_06782d868b86row4_col6\" class=\"data row4 col6\" >96.7</td> \n",
       "        <td id=\"T_a6732632_83ac_11e8_b9cb_06782d868b86row4_col7\" class=\"data row4 col7\" >96.4</td> \n",
       "        <td id=\"T_a6732632_83ac_11e8_b9cb_06782d868b86row4_col8\" class=\"data row4 col8\" >96.4</td> \n",
       "        <td id=\"T_a6732632_83ac_11e8_b9cb_06782d868b86row4_col9\" class=\"data row4 col9\" >96.2</td> \n",
       "        <td id=\"T_a6732632_83ac_11e8_b9cb_06782d868b86row4_col10\" class=\"data row4 col10\" >96.2</td> \n",
       "        <td id=\"T_a6732632_83ac_11e8_b9cb_06782d868b86row4_col11\" class=\"data row4 col11\" >95.8</td> \n",
       "    </tr>    <tr> \n",
       "        <th id=\"T_a6732632_83ac_11e8_b9cb_06782d868b86level0_row5\" class=\"row_heading level0 row5\" >flat_l2_large_ml.p2.xlarge</th> \n",
       "        <td id=\"T_a6732632_83ac_11e8_b9cb_06782d868b86row5_col0\" class=\"data row5 col0\" >96.5</td> \n",
       "        <td id=\"T_a6732632_83ac_11e8_b9cb_06782d868b86row5_col1\" class=\"data row5 col1\" >96.2</td> \n",
       "        <td id=\"T_a6732632_83ac_11e8_b9cb_06782d868b86row5_col2\" class=\"data row5 col2\" >97</td> \n",
       "        <td id=\"T_a6732632_83ac_11e8_b9cb_06782d868b86row5_col3\" class=\"data row5 col3\" >96.6</td> \n",
       "        <td id=\"T_a6732632_83ac_11e8_b9cb_06782d868b86row5_col4\" class=\"data row5 col4\" >96.9</td> \n",
       "        <td id=\"T_a6732632_83ac_11e8_b9cb_06782d868b86row5_col5\" class=\"data row5 col5\" >96.6</td> \n",
       "        <td id=\"T_a6732632_83ac_11e8_b9cb_06782d868b86row5_col6\" class=\"data row5 col6\" >96.7</td> \n",
       "        <td id=\"T_a6732632_83ac_11e8_b9cb_06782d868b86row5_col7\" class=\"data row5 col7\" >96.4</td> \n",
       "        <td id=\"T_a6732632_83ac_11e8_b9cb_06782d868b86row5_col8\" class=\"data row5 col8\" >96.4</td> \n",
       "        <td id=\"T_a6732632_83ac_11e8_b9cb_06782d868b86row5_col9\" class=\"data row5 col9\" >96.2</td> \n",
       "        <td id=\"T_a6732632_83ac_11e8_b9cb_06782d868b86row5_col10\" class=\"data row5 col10\" >96.2</td> \n",
       "        <td id=\"T_a6732632_83ac_11e8_b9cb_06782d868b86row5_col11\" class=\"data row5 col11\" >95.8</td> \n",
       "    </tr>    <tr> \n",
       "        <th id=\"T_a6732632_83ac_11e8_b9cb_06782d868b86level0_row6\" class=\"row_heading level0 row6\" >ivfpq_l2_large_ml.c5.xlarge</th> \n",
       "        <td id=\"T_a6732632_83ac_11e8_b9cb_06782d868b86row6_col0\" class=\"data row6 col0\" >93.3</td> \n",
       "        <td id=\"T_a6732632_83ac_11e8_b9cb_06782d868b86row6_col1\" class=\"data row6 col1\" >92.7</td> \n",
       "        <td id=\"T_a6732632_83ac_11e8_b9cb_06782d868b86row6_col2\" class=\"data row6 col2\" >93.6</td> \n",
       "        <td id=\"T_a6732632_83ac_11e8_b9cb_06782d868b86row6_col3\" class=\"data row6 col3\" >93.3</td> \n",
       "        <td id=\"T_a6732632_83ac_11e8_b9cb_06782d868b86row6_col4\" class=\"data row6 col4\" >93.7</td> \n",
       "        <td id=\"T_a6732632_83ac_11e8_b9cb_06782d868b86row6_col5\" class=\"data row6 col5\" >93.5</td> \n",
       "        <td id=\"T_a6732632_83ac_11e8_b9cb_06782d868b86row6_col6\" class=\"data row6 col6\" >93.7</td> \n",
       "        <td id=\"T_a6732632_83ac_11e8_b9cb_06782d868b86row6_col7\" class=\"data row6 col7\" >93.5</td> \n",
       "        <td id=\"T_a6732632_83ac_11e8_b9cb_06782d868b86row6_col8\" class=\"data row6 col8\" >93.6</td> \n",
       "        <td id=\"T_a6732632_83ac_11e8_b9cb_06782d868b86row6_col9\" class=\"data row6 col9\" >93.4</td> \n",
       "        <td id=\"T_a6732632_83ac_11e8_b9cb_06782d868b86row6_col10\" class=\"data row6 col10\" >93.5</td> \n",
       "        <td id=\"T_a6732632_83ac_11e8_b9cb_06782d868b86row6_col11\" class=\"data row6 col11\" >93.4</td> \n",
       "    </tr>    <tr> \n",
       "        <th id=\"T_a6732632_83ac_11e8_b9cb_06782d868b86level0_row7\" class=\"row_heading level0 row7\" >ivfpq_l2_large_ml.p2.xlarge</th> \n",
       "        <td id=\"T_a6732632_83ac_11e8_b9cb_06782d868b86row7_col0\" class=\"data row7 col0\" >93.4</td> \n",
       "        <td id=\"T_a6732632_83ac_11e8_b9cb_06782d868b86row7_col1\" class=\"data row7 col1\" >92.7</td> \n",
       "        <td id=\"T_a6732632_83ac_11e8_b9cb_06782d868b86row7_col2\" class=\"data row7 col2\" >93.6</td> \n",
       "        <td id=\"T_a6732632_83ac_11e8_b9cb_06782d868b86row7_col3\" class=\"data row7 col3\" >93.3</td> \n",
       "        <td id=\"T_a6732632_83ac_11e8_b9cb_06782d868b86row7_col4\" class=\"data row7 col4\" >93.7</td> \n",
       "        <td id=\"T_a6732632_83ac_11e8_b9cb_06782d868b86row7_col5\" class=\"data row7 col5\" >93.5</td> \n",
       "        <td id=\"T_a6732632_83ac_11e8_b9cb_06782d868b86row7_col6\" class=\"data row7 col6\" >93.7</td> \n",
       "        <td id=\"T_a6732632_83ac_11e8_b9cb_06782d868b86row7_col7\" class=\"data row7 col7\" >93.5</td> \n",
       "        <td id=\"T_a6732632_83ac_11e8_b9cb_06782d868b86row7_col8\" class=\"data row7 col8\" >93.6</td> \n",
       "        <td id=\"T_a6732632_83ac_11e8_b9cb_06782d868b86row7_col9\" class=\"data row7 col9\" >93.4</td> \n",
       "        <td id=\"T_a6732632_83ac_11e8_b9cb_06782d868b86row7_col10\" class=\"data row7 col10\" >93.5</td> \n",
       "        <td id=\"T_a6732632_83ac_11e8_b9cb_06782d868b86row7_col11\" class=\"data row7 col11\" >93.4</td> \n",
       "    </tr></tbody> \n",
       "</table> "
      ],
      "text/plain": [
       "<pandas.io.formats.style.Styler at 0x7fe75e35c780>"
      ]
     },
     "execution_count": 20,
     "metadata": {},
     "output_type": "execute_result"
    }
   ],
   "source": [
    "import pandas as pd\n",
    "\n",
    "k_range = range(1, 13)\n",
    "df_index = []\n",
    "data = []\n",
    "columns_lat = ['latency1K', 'latency1_mean', 'latency1_p90', 'latency1_p99']\n",
    "columns_acc = ['acc_%d' % k for k in k_range]\n",
    "columns = columns_lat + columns_acc\n",
    "\n",
    "for index, index_res in eval_results.items():\n",
    "    for instance, res in index_res.items():\n",
    "        # for sample size?\n",
    "        df_index.append(index+'_'+instance)\n",
    "        latencies = np.array([res['Latency'], res['Latency1_mean'], res['Latency1_p90'], res['Latency1_p99']])\n",
    "        row = np.concatenate([latencies*10,\n",
    "                             res['accuracy'][k_range[0] - 1:k_range[-1] ]])\n",
    "        row *= 100\n",
    "        data.append(row)\n",
    "\n",
    "df = pd.DataFrame(index=df_index, data=data, columns=columns)\n",
    "df_acc = df[columns_acc]\n",
    "df_lat = df[columns_lat]\n",
    "\n",
    "def highlight_apx_max(row):\n",
    "    '''\n",
    "    highlight the aproximate best (max or min) in a Series yellow.\n",
    "    '''\n",
    "    max_val = row.max()\n",
    "    colors = ['background-color: yellow' if cur_val >= max_val * 0.9975 else '' for cur_val in row]\n",
    "        \n",
    "    return colors\n",
    "\n",
    "df_acc.round(decimals=1).style.apply(highlight_apx_max, axis=1)"
   ]
  },
  {
   "cell_type": "markdown",
   "metadata": {},
   "source": [
    "Let's review the latencies. We'll highlight the latencies that are much worse (20% more) than the median value"
   ]
  },
  {
   "cell_type": "code",
   "execution_count": 21,
   "metadata": {},
   "outputs": [
    {
     "data": {
      "text/html": [
       "<style  type=\"text/css\" >\n",
       "    #T_a6774ece_83ac_11e8_b9cb_06782d868b86row0_col0 {\n",
       "            background-color:  red;\n",
       "        }    #T_a6774ece_83ac_11e8_b9cb_06782d868b86row0_col1 {\n",
       "            background-color:  red;\n",
       "        }    #T_a6774ece_83ac_11e8_b9cb_06782d868b86row0_col2 {\n",
       "            background-color:  red;\n",
       "        }    #T_a6774ece_83ac_11e8_b9cb_06782d868b86row4_col0 {\n",
       "            background-color:  red;\n",
       "        }    #T_a6774ece_83ac_11e8_b9cb_06782d868b86row4_col1 {\n",
       "            background-color:  red;\n",
       "        }    #T_a6774ece_83ac_11e8_b9cb_06782d868b86row4_col2 {\n",
       "            background-color:  red;\n",
       "        }    #T_a6774ece_83ac_11e8_b9cb_06782d868b86row4_col3 {\n",
       "            background-color:  red;\n",
       "        }    #T_a6774ece_83ac_11e8_b9cb_06782d868b86row5_col0 {\n",
       "            background-color:  red;\n",
       "        }    #T_a6774ece_83ac_11e8_b9cb_06782d868b86row5_col1 {\n",
       "            background-color:  red;\n",
       "        }    #T_a6774ece_83ac_11e8_b9cb_06782d868b86row5_col2 {\n",
       "            background-color:  red;\n",
       "        }</style>  \n",
       "<table id=\"T_a6774ece_83ac_11e8_b9cb_06782d868b86\" > \n",
       "<thead>    <tr> \n",
       "        <th class=\"blank level0\" ></th> \n",
       "        <th class=\"col_heading level0 col0\" >latency1K</th> \n",
       "        <th class=\"col_heading level0 col1\" >latency1_mean</th> \n",
       "        <th class=\"col_heading level0 col2\" >latency1_p90</th> \n",
       "        <th class=\"col_heading level0 col3\" >latency1_p99</th> \n",
       "    </tr></thead> \n",
       "<tbody>    <tr> \n",
       "        <th id=\"T_a6774ece_83ac_11e8_b9cb_06782d868b86level0_row0\" class=\"row_heading level0 row0\" >flat_l2_ml.c5.xlarge</th> \n",
       "        <td id=\"T_a6774ece_83ac_11e8_b9cb_06782d868b86row0_col0\" class=\"data row0 col0\" >162.5</td> \n",
       "        <td id=\"T_a6774ece_83ac_11e8_b9cb_06782d868b86row0_col1\" class=\"data row0 col1\" >15.1</td> \n",
       "        <td id=\"T_a6774ece_83ac_11e8_b9cb_06782d868b86row0_col2\" class=\"data row0 col2\" >17.2</td> \n",
       "        <td id=\"T_a6774ece_83ac_11e8_b9cb_06782d868b86row0_col3\" class=\"data row0 col3\" >21.2</td> \n",
       "    </tr>    <tr> \n",
       "        <th id=\"T_a6774ece_83ac_11e8_b9cb_06782d868b86level0_row1\" class=\"row_heading level0 row1\" >flat_l2_ml.p2.xlarge</th> \n",
       "        <td id=\"T_a6774ece_83ac_11e8_b9cb_06782d868b86row1_col0\" class=\"data row1 col0\" >54.5</td> \n",
       "        <td id=\"T_a6774ece_83ac_11e8_b9cb_06782d868b86row1_col1\" class=\"data row1 col1\" >8.9</td> \n",
       "        <td id=\"T_a6774ece_83ac_11e8_b9cb_06782d868b86row1_col2\" class=\"data row1 col2\" >9.8</td> \n",
       "        <td id=\"T_a6774ece_83ac_11e8_b9cb_06782d868b86row1_col3\" class=\"data row1 col3\" >11.5</td> \n",
       "    </tr>    <tr> \n",
       "        <th id=\"T_a6774ece_83ac_11e8_b9cb_06782d868b86level0_row2\" class=\"row_heading level0 row2\" >ivfpq_l2_ml.c5.xlarge</th> \n",
       "        <td id=\"T_a6774ece_83ac_11e8_b9cb_06782d868b86row2_col0\" class=\"data row2 col0\" >57.9</td> \n",
       "        <td id=\"T_a6774ece_83ac_11e8_b9cb_06782d868b86row2_col1\" class=\"data row2 col1\" >7.3</td> \n",
       "        <td id=\"T_a6774ece_83ac_11e8_b9cb_06782d868b86row2_col2\" class=\"data row2 col2\" >8.1</td> \n",
       "        <td id=\"T_a6774ece_83ac_11e8_b9cb_06782d868b86row2_col3\" class=\"data row2 col3\" >11.6</td> \n",
       "    </tr>    <tr> \n",
       "        <th id=\"T_a6774ece_83ac_11e8_b9cb_06782d868b86level0_row3\" class=\"row_heading level0 row3\" >ivfpq_l2_ml.p2.xlarge</th> \n",
       "        <td id=\"T_a6774ece_83ac_11e8_b9cb_06782d868b86row3_col0\" class=\"data row3 col0\" >55</td> \n",
       "        <td id=\"T_a6774ece_83ac_11e8_b9cb_06782d868b86row3_col1\" class=\"data row3 col1\" >9.4</td> \n",
       "        <td id=\"T_a6774ece_83ac_11e8_b9cb_06782d868b86row3_col2\" class=\"data row3 col2\" >10.9</td> \n",
       "        <td id=\"T_a6774ece_83ac_11e8_b9cb_06782d868b86row3_col3\" class=\"data row3 col3\" >20.8</td> \n",
       "    </tr>    <tr> \n",
       "        <th id=\"T_a6774ece_83ac_11e8_b9cb_06782d868b86level0_row4\" class=\"row_heading level0 row4\" >flat_l2_large_ml.c5.xlarge</th> \n",
       "        <td id=\"T_a6774ece_83ac_11e8_b9cb_06782d868b86row4_col0\" class=\"data row4 col0\" >357.6</td> \n",
       "        <td id=\"T_a6774ece_83ac_11e8_b9cb_06782d868b86row4_col1\" class=\"data row4 col1\" >24.8</td> \n",
       "        <td id=\"T_a6774ece_83ac_11e8_b9cb_06782d868b86row4_col2\" class=\"data row4 col2\" >28.3</td> \n",
       "        <td id=\"T_a6774ece_83ac_11e8_b9cb_06782d868b86row4_col3\" class=\"data row4 col3\" >34.1</td> \n",
       "    </tr>    <tr> \n",
       "        <th id=\"T_a6774ece_83ac_11e8_b9cb_06782d868b86level0_row5\" class=\"row_heading level0 row5\" >flat_l2_large_ml.p2.xlarge</th> \n",
       "        <td id=\"T_a6774ece_83ac_11e8_b9cb_06782d868b86row5_col0\" class=\"data row5 col0\" >88.3</td> \n",
       "        <td id=\"T_a6774ece_83ac_11e8_b9cb_06782d868b86row5_col1\" class=\"data row5 col1\" >13.2</td> \n",
       "        <td id=\"T_a6774ece_83ac_11e8_b9cb_06782d868b86row5_col2\" class=\"data row5 col2\" >14.2</td> \n",
       "        <td id=\"T_a6774ece_83ac_11e8_b9cb_06782d868b86row5_col3\" class=\"data row5 col3\" >20.2</td> \n",
       "    </tr>    <tr> \n",
       "        <th id=\"T_a6774ece_83ac_11e8_b9cb_06782d868b86level0_row6\" class=\"row_heading level0 row6\" >ivfpq_l2_large_ml.c5.xlarge</th> \n",
       "        <td id=\"T_a6774ece_83ac_11e8_b9cb_06782d868b86row6_col0\" class=\"data row6 col0\" >65.2</td> \n",
       "        <td id=\"T_a6774ece_83ac_11e8_b9cb_06782d868b86row6_col1\" class=\"data row6 col1\" >8.1</td> \n",
       "        <td id=\"T_a6774ece_83ac_11e8_b9cb_06782d868b86row6_col2\" class=\"data row6 col2\" >9.5</td> \n",
       "        <td id=\"T_a6774ece_83ac_11e8_b9cb_06782d868b86row6_col3\" class=\"data row6 col3\" >16.2</td> \n",
       "    </tr>    <tr> \n",
       "        <th id=\"T_a6774ece_83ac_11e8_b9cb_06782d868b86level0_row7\" class=\"row_heading level0 row7\" >ivfpq_l2_large_ml.p2.xlarge</th> \n",
       "        <td id=\"T_a6774ece_83ac_11e8_b9cb_06782d868b86row7_col0\" class=\"data row7 col0\" >57.4</td> \n",
       "        <td id=\"T_a6774ece_83ac_11e8_b9cb_06782d868b86row7_col1\" class=\"data row7 col1\" >8.7</td> \n",
       "        <td id=\"T_a6774ece_83ac_11e8_b9cb_06782d868b86row7_col2\" class=\"data row7 col2\" >10.1</td> \n",
       "        <td id=\"T_a6774ece_83ac_11e8_b9cb_06782d868b86row7_col3\" class=\"data row7 col3\" >17.3</td> \n",
       "    </tr></tbody> \n",
       "</table> "
      ],
      "text/plain": [
       "<pandas.io.formats.style.Styler at 0x7fe7850d4080>"
      ]
     },
     "execution_count": 21,
     "metadata": {},
     "output_type": "execute_result"
    }
   ],
   "source": [
    "def highlight_far_from_min(row):\n",
    "    '''\n",
    "    highlight the aproximate best (max or min) in a Series yellow.\n",
    "    '''\n",
    "    med_val = row.median()\n",
    "    colors = ['background-color: red' if cur_val >= med_val * 1.2 else '' for cur_val in row]\n",
    "        \n",
    "    return colors\n",
    "\n",
    "df_lat.round(decimals=1).style.apply(highlight_far_from_min, axis=0)"
   ]
  },
  {
   "cell_type": "markdown",
   "metadata": {},
   "source": [
    "#### Accuracy\n",
    "\n",
    "For optimizing accuracy, the results show that for some of the models, k=1 yields the best results. We may want to play it safe and choose a larger value for k. The reason is that if the data slightly changes over time, the results associated with small values of k tend to change faster than those of larger values of k. A reasonable compromise could be choosing k=5. Not surprisingly, the accuracy becomes better if we choose a larger training set and if we use a brute-force index. This leads to 97% accuracy. For comparison, a linear model trained on the covtype dataset achieves roughly 72% accuracy. This is a pretty solid demonstration of the power of the kNN classifier.\n",
    "If we are willing to get slightly less accurate results but at higher speed, we could choose either a large dataset with an approximate index **IVFPQ_l2_large_XX**, or a smaller sample size **flat_l2_ml_XX**. Both achieve roughly 93%-95% precision, yet have much more favorable latency scores.\n",
    "\n",
    "\n",
    "#### Latency\n",
    "\n",
    "We can see a single-query mean latency of under 10ms in most setting and under 20ms in the remaining. Some of this can likely be attributed to typical system overheads, so results may become better over time. One exception is for **flat_l2_large_ml.c5.xlarge**, where we pay for using an exact solution on a large dataset by having a latency of about 25ms. There is much more variance in the latency for a batch of roughly 1K points as the relative overhead there is lower. There, the slowest yet most accurate model requires roughly 360ms to return an answer while for the approximate versions we get over X5 speedup. If one would like to have the best accuracy but reduce latency, another option is to use a GPU machine. **flat_l2_large_ml.p2.xlarge** enjoys the best accuracy while keeping the latency for 1K points at less than 90ms and singe-query p90 latency at 14.2ms. The downside is the dollar cost, since a *ml.p2.xlarge* machine is more expensive than a *ml.c5.xlarge* machine. \n"
   ]
  },
  {
   "cell_type": "markdown",
   "metadata": {},
   "source": [
    "## Concluding Remarks\n",
    "\n",
    "We've seen how to both train and host an inference endpoint for kNN. We've shown the ease of tuning a kNN algorithm and how to experiment with the different parameters, both those required at training and at inference. The experiment on the covtype dataset demonstrates the power of the simple procedure of kNN, especially when considering the final accuracy score of 96.8%, say, compared to linear model that achieves 72.8% accuracy. We explored the tradeoffs between an approximate index, subsampling the data, and using high vs low cost machines. The answer is case dependent and should fit the needs of the particular setup. "
   ]
  }
 ],
 "metadata": {
  "kernelspec": {
   "display_name": "conda_python3",
   "language": "python",
   "name": "conda_python3"
  },
  "language_info": {
   "codemirror_mode": {
    "name": "ipython",
    "version": 3
   },
   "file_extension": ".py",
   "mimetype": "text/x-python",
   "name": "python",
   "nbconvert_exporter": "python",
   "pygments_lexer": "ipython3",
   "version": "3.6.4"
  },
  "notice": "Copyright 2018 Amazon.com, Inc. or its affiliates. All Rights Reserved. Licensed under the Apache License, Version 2.0 (the \"License\"). You may not use this file except in compliance with the License. A copy of the License is located at http://aws.amazon.com/apache2.0/ or in the \"license\" file accompanying this file. This file is distributed on an \"AS IS\" BASIS, WITHOUT WARRANTIES OR CONDITIONS OF ANY KIND, either express or implied. See the License for the specific language governing permissions and limitations under the License."
 },
 "nbformat": 4,
 "nbformat_minor": 2
}
