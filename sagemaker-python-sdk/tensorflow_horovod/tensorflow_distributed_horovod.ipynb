{
 "cells": [
  {
   "cell_type": "markdown",
   "metadata": {},
   "source": [
    "# Horovod Distributed Training with SageMaker TensorFlow script mode."
   ]
  },
  {
   "cell_type": "markdown",
   "metadata": {},
   "source": [
    "Horovod is a distributed training framework based on MPI. You can find more details at [Horovod README](https://github.com/uber/horovod)`.\n",
    "\n",
    "Horovod Distributed Training can be perfomed on SageMaker using the SageMaker Tensorflow container. SageMaker creates the MPI environment and executed the `mpirun` command to execute the training script.\n",
    "\n",
    "MPI environment for Horovod can be configured by following flags in SageMaker SDK:\n",
    "\n",
    "* ``enabled (bool)``: If set to ``True``, the MPI setup is performed and ``mpirun`` command is executed.\n",
    "* ``processes_per_host (int)``: Number of processes MPI should launch on each host. Note, this should not be greater than the available slots on the selected instance type.\n",
    "* ``custom_mpi_options (str)``: Additional command line arguments to pass to ``mpirun``.\n",
    "\n",
    "In this example notebook, we create an mnist horovod training job."
   ]
  },
  {
   "cell_type": "markdown",
   "metadata": {},
   "source": [
    "## Set up the environment"
   ]
  },
  {
   "cell_type": "code",
   "execution_count": null,
   "metadata": {},
   "outputs": [],
   "source": [
    "import sagemaker\n",
    "import os\n",
    "from sagemaker.utils import sagemaker_timestamp\n",
    "from sagemaker.tensorflow import TensorFlow\n",
    "\n",
    "sage_session = sagemaker.Session()\n",
    "\n",
    "from sagemaker import get_execution_role\n",
    "role = get_execution_role()\n",
    "\n",
    "account = sage_session.boto_session.client('sts').get_caller_identity()['Account']\n",
    "region = sage_session.boto_session.region_name\n"
   ]
  },
  {
   "cell_type": "markdown",
   "metadata": {},
   "source": [
    "## Construct a script for horovod distributed training"
   ]
  },
  {
   "cell_type": "code",
   "execution_count": null,
   "metadata": {},
   "outputs": [],
   "source": [
    "!cat 'mnist_hvd.py'"
   ]
  },
  {
   "cell_type": "markdown",
   "metadata": {},
   "source": [
    "## Initialize Job Parameters"
   ]
  },
  {
   "cell_type": "code",
   "execution_count": null,
   "metadata": {},
   "outputs": [],
   "source": [
    "is_local_mode = False \n",
    "\n",
    "processes_per_host = 2\n",
    "instance_count = 2\n",
    "instance_type = \"ml.c4.xlarge\" if not is_local_mode else \"local\""
   ]
  },
  {
   "cell_type": "markdown",
   "metadata": {},
   "source": [
    "## Create a training job using the sagemaker.TensorFlow estimator"
   ]
  },
  {
   "cell_type": "code",
   "execution_count": null,
   "metadata": {},
   "outputs": [],
   "source": [
    "estimator = TensorFlow(entry_point=\"mnist_hvd.py\",\n",
    "                       role='SageMakerRole',\n",
    "                       train_instance_count=instance_count,\n",
    "                       train_instance_type=instance_type,\n",
    "                       sagemaker_session=sage_session,\n",
    "                       script_mode=True,\n",
    "                       framework_version='1.12',\n",
    "                       distributions={\n",
    "                           'mpi': {\n",
    "                               'enabled': True,\n",
    "                               'processes_per_host': 2\n",
    "                           }\n",
    "                       },\n",
    "                       base_job_name='hvd-mnist')\n",
    "\n",
    "estimator.fit()"
   ]
  }
 ],
 "metadata": {
  "kernelspec": {
   "display_name": "Python 3",
   "language": "python",
   "name": "python3"
  },
  "language_info": {
   "codemirror_mode": {
    "name": "ipython",
    "version": 3
   },
   "file_extension": ".py",
   "mimetype": "text/x-python",
   "name": "python",
   "nbconvert_exporter": "python",
   "pygments_lexer": "ipython3",
   "version": "3.7.0"
  }
 },
 "nbformat": 4,
 "nbformat_minor": 2
}
