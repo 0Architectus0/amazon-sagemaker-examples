{
 "cells": [
  {
   "cell_type": "markdown",
   "metadata": {
    "collapsed": true
   },
   "source": [
    "# Traveling Salesman Problem with Reinforcement Learning"
   ]
  },
  {
   "cell_type": "markdown",
   "metadata": {},
   "source": [
    "## Description of Problem\n",
    "\n",
    "The travelling salesman problem (TSP) is a classic algorithmic problem in the field of computer science and operations research. Given a list of cities and the distances between each pair of cities, the problem is to find the shortest possible route that visits each city and returns to the origin city.\n",
    "\n",
    "The problem is NP-complete as the number of combinations of cities grows larger as we add more cities. \n",
    "\n",
    "In the classic version of the problem, the salesman picks a city to start, travels through remaining cities and returns to the original city. \n",
    "\n",
    "In this version, we have slightly modified the problem, presenting it as a restaurant order delivery problem on a 2D gridworld.  The agent (driver) starts at the restaurant, a fixed point on the grid.  Then, delivery orders appear elsewhere on the grid.  The driver needs to visit the orders, and return to the restaurant, to obtain rewards.  Rewards are proportional to the time taken to do this (equivalent to the distance, as each timestep moves one square on the grid)."
   ]
  },
  {
   "cell_type": "markdown",
   "metadata": {},
   "source": [
    "## Why Reinforcement Learning?\n",
    "\n",
    "For canonical Operations problems like this one, we're very interested about RL's potential to push the state of the art.\n",
    "\n",
    "There are a few reasons we think RL offers some unique value for this type of problem:\n",
    "1. RL seems to perform well in high-dimensional spaces, when an approximate solution to a complex problem may be of greater value than an exact/optimal solution to a simpler problem.\n",
    "2. RL can do quite well in partially observed environments.  When there are aspects of a problem we don't know about and therefore can't model, which is often the case in the real-world (and we can pretend is the case with these problems), RL's ability to deal with the messiness is valuable.\n",
    "3. RL may have things to teach us!  We've seen this to be the case with Go, and Dota 2, where the RL agent came up with innovative strategies that have later been adopted by human players.  What if there are clever strategies we can use to solve versions of TSP, Knapsack, Newsvendor, or extensions of any of those?  RL might surprise us."
   ]
  },
  {
   "cell_type": "markdown",
   "metadata": {},
   "source": [
    "## Easy Version of TSP\n",
    "In the Easy Version, we are on a 5x5 grid.  All orders are generated at the start of the episode.  Order locations are fixed, and are invariant (non-random) from episode to episode.  The objective is to visit each order location, and return to the restaurant.  We have a maximum time-limit of 50 steps.  \n",
    "\n",
    "### States\n",
    "At each time step, our agent is aware of the following information:\n",
    "\n",
    "1. For the Restuarant:\n",
    "    1. Location (x,y coordinates)\n",
    "    \n",
    "2. For the Driver\n",
    "    1. Location (x,y coordinates)\n",
    "    2. Is driver at restaurant (yes/no)\n",
    "\n",
    "3. For each Order: \n",
    "    1. Location (x,y coordinates)\n",
    "    2. Status (Delivered or Not Delivered)\n",
    "    3. Time (Time taken to deliver reach order -- incrementing until delivered)\n",
    "4. Miscellaneous\n",
    "    1. Time since start of episode\n",
    "    2. Time remaining until end of episode (i.e. until max time)\n",
    "\n",
    "### Actions\n",
    "At each time step, our agent can take the following steps:\n",
    "- Up - Move one step up in the map\n",
    "- Down - Move one step down in the map\n",
    "- Right - Move one step right in the map\n",
    "- Left - Move one step left in the map\n",
    "\n",
    "### Rewards\n",
    "Agent gets a reward of -1 for each time step. If an order is delivered in that timestep, it gets a positive reward inversely proportional to the time taken to deliver. If all the orders are delivered and the agent is back to the restaurant, it gets an additional reward inversely proportional to time since start of episode. \n"
   ]
  },
  {
   "cell_type": "markdown",
   "metadata": {},
   "source": [
    "## Using AWS SageMaker for RL\n",
    "\n",
    "AWS SageMaker allows you to train your RL agents in cloud machines using docker containers. You do not have to worry about setting up your machines with the RL toolkits and deep learning frameworks. You can easily switch between many different machines setup for you, including powerful GPU machines that give a big speedup. You can also choose to use multiple machines in a cluster to further speedup training, often necessary for production level loads."
   ]
  },
  {
   "cell_type": "markdown",
   "metadata": {},
   "source": [
    "### Prerequisites \n",
    "\n",
    "#### Imports\n",
    "\n",
    "To get started, we'll import the Python libraries we need, set up the environment with a few prerequisites for permissions and configurations."
   ]
  },
  {
   "cell_type": "code",
   "execution_count": 1,
   "metadata": {},
   "outputs": [],
   "source": [
    "import sagemaker\n",
    "import boto3\n",
    "import sys\n",
    "import os\n",
    "import glob\n",
    "import re\n",
    "import subprocess\n",
    "from IPython.display import HTML\n",
    "import time\n",
    "from time import gmtime, strftime\n",
    "sys.path.append(\"common\")\n",
    "from misc import get_execution_role, wait_for_s3_object\n",
    "from sagemaker.rl import RLEstimator, RLToolkit, RLFramework"
   ]
  },
  {
   "cell_type": "markdown",
   "metadata": {},
   "source": [
    "#### Settings\n",
    "\n",
    "You can run this notebook from your local host or from a SageMaker notebook instance. In both of these scenarios, you can run the following in either local or SageMaker modes. The local mode uses the SageMaker Python SDK to run your code in a local container before deploying to SageMaker. This can speed up iterative testing and debugging while using the same familiar Python SDK interface. You just need to set local_mode = True."
   ]
  },
  {
   "cell_type": "code",
   "execution_count": 2,
   "metadata": {},
   "outputs": [
    {
     "name": "stdout",
     "output_type": "stream",
     "text": [
      "S3 bucket path: s3://sagemaker-us-west-2-609956480270/\n"
     ]
    }
   ],
   "source": [
    "# run in local mode?\n",
    "local_mode = False\n",
    "\n",
    "env_type = 'tsp-easy'\n",
    "\n",
    "# create unique job name \n",
    "job_name_prefix = 'rl-' + env_type\n",
    "\n",
    "# S3 bucket\n",
    "sage_session = sagemaker.session.Session()\n",
    "s3_bucket = sage_session.default_bucket()  \n",
    "s3_output_path = 's3://{}/'.format(s3_bucket)\n",
    "print(\"S3 bucket path: {}\".format(s3_output_path))"
   ]
  },
  {
   "cell_type": "markdown",
   "metadata": {},
   "source": [
    "#### Install docker for `local` mode\n",
    "\n",
    "In order to work in `local` mode, you need to have docker installed. When running from you local machine, please make sure that you have docker or docker-compose (for local CPU machines) and nvidia-docker (for local GPU machines) installed. Alternatively, when running from a SageMaker notebook instance, you can simply run the following script to install dependenceis.\n",
    "\n",
    "Note, you can only run a single local notebook at one time."
   ]
  },
  {
   "cell_type": "code",
   "execution_count": 3,
   "metadata": {},
   "outputs": [],
   "source": [
    "# only run from SageMaker notebook instance\n",
    "if local_mode:\n",
    "    !/bin/bash common/setup.sh"
   ]
  },
  {
   "cell_type": "markdown",
   "metadata": {},
   "source": [
    "#### Create an IAM role\n",
    "Either get the execution role when running from a SageMaker notebook `role = sagemaker.get_execution_role()` or, when running from local machine, use utils method `role = get_execution_role('role_name')` to create an execution role."
   ]
  },
  {
   "cell_type": "code",
   "execution_count": 4,
   "metadata": {},
   "outputs": [
    {
     "name": "stdout",
     "output_type": "stream",
     "text": [
      "Using IAM role arn: arn:aws:iam::609956480270:role/service-role/AmazonSageMaker-ExecutionRole-20181128T031491\n"
     ]
    }
   ],
   "source": [
    "try:\n",
    "    role = sagemaker.get_execution_role()\n",
    "except:\n",
    "    role = get_execution_role()\n",
    "\n",
    "print(\"Using IAM role arn: {}\".format(role))"
   ]
  },
  {
   "cell_type": "markdown",
   "metadata": {},
   "source": [
    "#### Setup the environment\n",
    "\n",
    "The environment is defined in a Python file called “TSP_env.py” and the file is uploaded on /src directory. \n",
    "\n",
    "The environment also implements the init(), step(), reset() and render() functions that describe how the environment behaves. This is consistent with Open AI Gym interfaces for defining an environment. \n",
    "\n",
    "\n",
    "1. Init() - initialize the environment in a pre-defined state\n",
    "2. Step() - take an action on the environment\n",
    "3. reset()- restart the environment on a new episode\n",
    "4. render() - get a rendered image of the environment in its current state"
   ]
  },
  {
   "cell_type": "markdown",
   "metadata": {},
   "source": [
    "#### Configure the presets for RL algorithm \n",
    "\n",
    "The presets that configure the RL training jobs are defined in the “preset-tsp-easy.py” file which is also uploaded on the /src directory. Using the preset file, you can define agent parameters to select the specific agent algorithm. You can also set the environment parameters, define the schedule and visualization parameters, and define the graph manager. The schedule presets will define the number of heat up steps, periodic evaluation steps, training steps between evaluations.\n",
    "\n",
    "These can be overridden at runtime by specifying the RLCOACH_PRESET hyperparameter. Additionally, it can be used to define custom hyperparameters. "
   ]
  },
  {
   "cell_type": "code",
   "execution_count": 5,
   "metadata": {},
   "outputs": [
    {
     "name": "stdout",
     "output_type": "stream",
     "text": [
      "\u001b[34mfrom\u001b[39;49;00m \u001b[04m\u001b[36mrl_coach.agents.clipped_ppo_agent\u001b[39;49;00m \u001b[34mimport\u001b[39;49;00m ClippedPPOAgentParameters\r\n",
      "\u001b[34mfrom\u001b[39;49;00m \u001b[04m\u001b[36mrl_coach.environments.gym_environment\u001b[39;49;00m \u001b[34mimport\u001b[39;49;00m GymVectorEnvironment\r\n",
      "\u001b[34mfrom\u001b[39;49;00m \u001b[04m\u001b[36mrl_coach.graph_managers.basic_rl_graph_manager\u001b[39;49;00m \u001b[34mimport\u001b[39;49;00m BasicRLGraphManager\r\n",
      "\u001b[34mfrom\u001b[39;49;00m \u001b[04m\u001b[36mrl_coach.graph_managers.graph_manager\u001b[39;49;00m \u001b[34mimport\u001b[39;49;00m SimpleSchedule\r\n",
      "\u001b[34mfrom\u001b[39;49;00m \u001b[04m\u001b[36mrl_coach.core_types\u001b[39;49;00m \u001b[34mimport\u001b[39;49;00m *\r\n",
      "\u001b[37m#from rl_coach.environments.environment import SelectedPhaseOnlyDumpMethod, MaxDumpMethod\u001b[39;49;00m\r\n",
      "\u001b[34mfrom\u001b[39;49;00m \u001b[04m\u001b[36mrl_coach\u001b[39;49;00m \u001b[34mimport\u001b[39;49;00m logger\r\n",
      "\u001b[34mfrom\u001b[39;49;00m \u001b[04m\u001b[36mrl_coach.base_parameters\u001b[39;49;00m \u001b[34mimport\u001b[39;49;00m TaskParameters\r\n",
      "\u001b[34mfrom\u001b[39;49;00m \u001b[04m\u001b[36mrl_coach.base_parameters\u001b[39;49;00m \u001b[34mimport\u001b[39;49;00m VisualizationParameters\r\n",
      "\r\n",
      "\u001b[37m################\u001b[39;49;00m\r\n",
      "\u001b[37m#  Environment #\u001b[39;49;00m\r\n",
      "\u001b[37m################\u001b[39;49;00m\r\n",
      "\r\n",
      "env_params = GymVectorEnvironment(level=\u001b[33m'\u001b[39;49;00m\u001b[33mTSP_env:TSPEasyEnv\u001b[39;49;00m\u001b[33m'\u001b[39;49;00m)\r\n",
      "\r\n",
      "\u001b[37m#########\u001b[39;49;00m\r\n",
      "\u001b[37m# Agent #\u001b[39;49;00m\r\n",
      "\u001b[37m#########\u001b[39;49;00m\r\n",
      "\r\n",
      "agent_params = ClippedPPOAgentParameters()\r\n",
      "\r\n",
      "\u001b[37m#################\u001b[39;49;00m\r\n",
      "\u001b[37m# Visualization #\u001b[39;49;00m\r\n",
      "\u001b[37m#################\u001b[39;49;00m\r\n",
      "\r\n",
      "env_params.frame_skip = \u001b[34m5\u001b[39;49;00m \u001b[37m#to make sure the gifs work without skipping steps\u001b[39;49;00m\r\n",
      "\r\n",
      "vis_params = VisualizationParameters()\r\n",
      "vis_params.dump_gifs=\u001b[36mTrue\u001b[39;49;00m\r\n",
      "\u001b[37m#vis_params.video_dump_methods = [SelectedPhaseOnlyDumpMethod(RunPhase.TEST), MaxDumpMethod()]\u001b[39;49;00m\r\n",
      "\r\n",
      "\u001b[37m#experiment_name = \"TSPEasy\"\u001b[39;49;00m\r\n",
      "\u001b[37m#experiment_name = logger.get_experiment_name(experiment_name)\u001b[39;49;00m\r\n",
      "\u001b[37m#experiment_path = logger.get_experiment_path(experiment_name)\u001b[39;49;00m\r\n",
      "\r\n",
      "\u001b[37m#task_params = TaskParameters(experiment_path=experiment_path)\u001b[39;49;00m\r\n",
      "\r\n",
      "\u001b[37m####################\u001b[39;49;00m\r\n",
      "\u001b[37m# Graph Scheduling #\u001b[39;49;00m\r\n",
      "\u001b[37m####################\u001b[39;49;00m\r\n",
      "\r\n",
      "schedule_params=SimpleSchedule()\r\n",
      "schedule_params.improve_steps = TrainingSteps(\u001b[34m100000\u001b[39;49;00m)\r\n",
      "schedule_params.steps_between_evaluation_periods = EnvironmentEpisodes(\u001b[34m20\u001b[39;49;00m)\r\n",
      "schedule_params.evaluation_steps = EnvironmentEpisodes(\u001b[34m5\u001b[39;49;00m)\r\n",
      "schedule_params.heatup_steps = EnvironmentSteps(\u001b[34m1000\u001b[39;49;00m)\r\n",
      "\r\n",
      "graph_manager = BasicRLGraphManager(\r\n",
      "    agent_params= agent_params,\r\n",
      "    env_params=env_params,\r\n",
      "    schedule_params=schedule_params,\r\n",
      "    vis_params=vis_params\r\n",
      "    )\r\n",
      "\r\n",
      "\u001b[37m#graph_manager = graph_manager.create_graph(task_parameters=task_params)\u001b[39;49;00m\r\n",
      "\r\n",
      "\u001b[37m#graph_manager.improve()\u001b[39;49;00m\r\n"
     ]
    }
   ],
   "source": [
    "!pygmentize src/preset-tsp-easy.py"
   ]
  },
  {
   "cell_type": "markdown",
   "metadata": {},
   "source": [
    "#### Write the Training Code \n",
    "\n",
    "The training code is written in the file “train-coach.py” which is uploaded in the /src directory. \n",
    "First import the environment files and the preset files, and then define the main() function. "
   ]
  },
  {
   "cell_type": "code",
   "execution_count": 6,
   "metadata": {},
   "outputs": [
    {
     "name": "stdout",
     "output_type": "stream",
     "text": [
      "\u001b[34mfrom\u001b[39;49;00m \u001b[04m\u001b[36msagemaker_rl.coach_launcher\u001b[39;49;00m \u001b[34mimport\u001b[39;49;00m SageMakerCoachPresetLauncher\r\n",
      "\r\n",
      "\r\n",
      "\u001b[34mclass\u001b[39;49;00m \u001b[04m\u001b[32mMyLauncher\u001b[39;49;00m(SageMakerCoachPresetLauncher):\r\n",
      "\r\n",
      "    \u001b[34mdef\u001b[39;49;00m \u001b[32mdefault_preset_name\u001b[39;49;00m(\u001b[36mself\u001b[39;49;00m):\r\n",
      "        \u001b[33m\"\"\"This points to a .py file that configures everything about the RL job.\u001b[39;49;00m\r\n",
      "\u001b[33m        It can be overridden at runtime by specifying the RLCOACH_PRESET hyperparameter.\u001b[39;49;00m\r\n",
      "\u001b[33m        \"\"\"\u001b[39;49;00m\r\n",
      "        \u001b[34mreturn\u001b[39;49;00m \u001b[33m'\u001b[39;49;00m\u001b[33mpreset-tsp-easy\u001b[39;49;00m\u001b[33m'\u001b[39;49;00m\r\n",
      "\r\n",
      "    \u001b[34mdef\u001b[39;49;00m \u001b[32mmap_hyperparameter\u001b[39;49;00m(\u001b[36mself\u001b[39;49;00m, name, value):\r\n",
      "        \u001b[33m\"\"\"Here we configure some shortcut names for hyperparameters that we expect to use frequently.\u001b[39;49;00m\r\n",
      "\u001b[33m        Essentially anything in the preset file can be overridden through a hyperparameter with a name \u001b[39;49;00m\r\n",
      "\u001b[33m        like \"rl.agent_params.algorithm.etc\".  \u001b[39;49;00m\r\n",
      "\u001b[33m        \"\"\"\u001b[39;49;00m\r\n",
      "        \u001b[37m# maps from alias (key) to fully qualified coach parameter (value)\u001b[39;49;00m\r\n",
      "        mapping = {\r\n",
      "                      \u001b[33m\"\u001b[39;49;00m\u001b[33mdiscount\u001b[39;49;00m\u001b[33m\"\u001b[39;49;00m: \u001b[33m\"\u001b[39;49;00m\u001b[33mrl.agent_params.algorithm.discount\u001b[39;49;00m\u001b[33m\"\u001b[39;49;00m,\r\n",
      "                      \u001b[33m\"\u001b[39;49;00m\u001b[33mevaluation_episodes\u001b[39;49;00m\u001b[33m\"\u001b[39;49;00m: \u001b[33m\"\u001b[39;49;00m\u001b[33mrl.evaluation_steps:EnvironmentEpisodes\u001b[39;49;00m\u001b[33m\"\u001b[39;49;00m,\r\n",
      "                      \u001b[33m\"\u001b[39;49;00m\u001b[33mimprove_steps\u001b[39;49;00m\u001b[33m\"\u001b[39;49;00m: \u001b[33m\"\u001b[39;49;00m\u001b[33mrl.improve_steps:TrainingSteps\u001b[39;49;00m\u001b[33m\"\u001b[39;49;00m\r\n",
      "                  }\r\n",
      "        \u001b[34mif\u001b[39;49;00m name \u001b[35min\u001b[39;49;00m mapping:\r\n",
      "            \u001b[36mself\u001b[39;49;00m.apply_hyperparameter(mapping[name], value)\r\n",
      "        \u001b[34melse\u001b[39;49;00m:\r\n",
      "            \u001b[36msuper\u001b[39;49;00m().map_hyperparameter(name, value)\r\n",
      "    \r\n",
      "    \r\n",
      "\u001b[34mif\u001b[39;49;00m \u001b[31m__name__\u001b[39;49;00m == \u001b[33m'\u001b[39;49;00m\u001b[33m__main__\u001b[39;49;00m\u001b[33m'\u001b[39;49;00m:\r\n",
      "    MyLauncher.train_main()\r\n"
     ]
    }
   ],
   "source": [
    "!pygmentize src/train-coach.py"
   ]
  },
  {
   "cell_type": "markdown",
   "metadata": {},
   "source": [
    "### Train the RL model using the Python SDK Script mode\n",
    "\n",
    "If you are using local mode, the training will run on the notebook instance. When using SageMaker for training, you can select a GPU or CPU instance. The RLEstimator is used for training RL jobs. \n",
    "\n",
    "1. Specify the source directory where the environment, presets and training code is uploaded.\n",
    "2. Specify the entry point as the training code \n",
    "3. Specify the choice of RL toolkit and framework. This automatically resolves to the ECR path for the RL Container. \n",
    "4. Define the training parameters such as the instance count, job name, S3 path for output and job name. \n",
    "5. Specify the hyperparameters for the RL agent algorithm. The RLCOACH_PRESET or the RLRAY_PRESET can be used to specify the RL agent algorithm you want to use. \n",
    "6. Define the metrics definitions that you are interested in capturing in your logs. These can also be visualized in CloudWatch and SageMaker Notebooks. "
   ]
  },
  {
   "cell_type": "code",
   "execution_count": 7,
   "metadata": {},
   "outputs": [
    {
     "name": "stderr",
     "output_type": "stream",
     "text": [
      "INFO:sagemaker:Creating training-job with name: rl-tsp-easy-2019-04-18-17-51-05-645\n"
     ]
    },
    {
     "name": "stdout",
     "output_type": "stream",
     "text": [
      "CPU times: user 154 ms, sys: 0 ns, total: 154 ms\n",
      "Wall time: 1.12 s\n"
     ]
    }
   ],
   "source": [
    "%%time\n",
    "\n",
    "if local_mode:\n",
    "    instance_type = 'local'\n",
    "else:\n",
    "    instance_type = \"ml.m4.4xlarge\"\n",
    "    \n",
    "estimator = RLEstimator(entry_point=\"train-coach.py\",\n",
    "                        source_dir='src',\n",
    "                        dependencies = [\"common/sagemaker_rl\"],\n",
    "                        toolkit=RLToolkit.COACH,\n",
    "                        toolkit_version='0.11.0',\n",
    "                        framework=RLFramework.TENSORFLOW,\n",
    "                        role=role,\n",
    "                        train_instance_type=instance_type,\n",
    "                        train_instance_count=1,\n",
    "                        output_path=s3_output_path,\n",
    "                        base_job_name=job_name_prefix,\n",
    "                        hyperparameters = {\n",
    "                          #expected run time 12 mins for TSP Easy  \n",
    "                          \"RLCOACH_PRESET\": \"preset-\" + env_type, \n",
    "                        }\n",
    "                    )\n",
    "\n",
    "estimator.fit(wait=local_mode)"
   ]
  },
  {
   "cell_type": "markdown",
   "metadata": {},
   "source": [
    "### Store intermediate training output and model checkpoints \n",
    "\n",
    "The output from the training job above is stored on S3. The intermediate folder contains gifs and metadata of the training."
   ]
  },
  {
   "cell_type": "code",
   "execution_count": 8,
   "metadata": {},
   "outputs": [
    {
     "name": "stdout",
     "output_type": "stream",
     "text": [
      "Job name: rl-tsp-easy-2019-04-18-17-51-05-645\n",
      "S3 job path: s3://sagemaker-us-west-2-609956480270/rl-tsp-easy-2019-04-18-17-51-05-645\n",
      "Output.tar.gz location: s3://sagemaker-us-west-2-609956480270/rl-tsp-easy-2019-04-18-17-51-05-645/output/output.tar.gz\n",
      "Intermediate folder path: s3://sagemaker-us-west-2-609956480270/rl-tsp-easy-2019-04-18-17-51-05-645/output/intermediate\n",
      "Create local folder /tmp/rl-tsp-easy-2019-04-18-17-51-05-645\n"
     ]
    }
   ],
   "source": [
    "job_name=estimator._current_job_name\n",
    "print(\"Job name: {}\".format(job_name))\n",
    "\n",
    "s3_url = \"s3://{}/{}\".format(s3_bucket,job_name)\n",
    "\n",
    "if local_mode:\n",
    "    output_tar_key = \"{}/output.tar.gz\".format(job_name)\n",
    "else:\n",
    "    output_tar_key = \"{}/output/output.tar.gz\".format(job_name)\n",
    "\n",
    "intermediate_folder_key = \"{}/output/intermediate\".format(job_name)\n",
    "output_url = \"s3://{}/{}\".format(s3_bucket, output_tar_key)\n",
    "intermediate_url = \"s3://{}/{}\".format(s3_bucket, intermediate_folder_key)\n",
    "\n",
    "print(\"S3 job path: {}\".format(s3_url))\n",
    "print(\"Output.tar.gz location: {}\".format(output_url))\n",
    "print(\"Intermediate folder path: {}\".format(intermediate_url))\n",
    "    \n",
    "tmp_dir = \"/tmp/{}\".format(job_name)\n",
    "os.system(\"mkdir {}\".format(tmp_dir))\n",
    "print(\"Create local folder {}\".format(tmp_dir))"
   ]
  },
  {
   "cell_type": "markdown",
   "metadata": {},
   "source": [
    "### Visualization"
   ]
  },
  {
   "cell_type": "markdown",
   "metadata": {},
   "source": [
    "#### Comparing against a baseline policy"
   ]
  },
  {
   "cell_type": "code",
   "execution_count": 9,
   "metadata": {},
   "outputs": [
    {
     "name": "stdout",
     "output_type": "stream",
     "text": [
      "Requirement already satisfied: gym in /home/ec2-user/anaconda3/envs/tensorflow_p36/lib/python3.6/site-packages (0.12.0)\n",
      "Requirement already satisfied: pyglet>=1.2.0 in /home/ec2-user/anaconda3/envs/tensorflow_p36/lib/python3.6/site-packages (from gym) (1.3.2)\n",
      "Requirement already satisfied: six in /home/ec2-user/anaconda3/envs/tensorflow_p36/lib/python3.6/site-packages (from gym) (1.11.0)\n",
      "Requirement already satisfied: numpy>=1.10.4 in /home/ec2-user/anaconda3/envs/tensorflow_p36/lib/python3.6/site-packages (from gym) (1.14.5)\n",
      "Requirement already satisfied: scipy in /home/ec2-user/anaconda3/envs/tensorflow_p36/lib/python3.6/site-packages (from gym) (1.1.0)\n",
      "Requirement already satisfied: requests>=2.0 in /home/ec2-user/anaconda3/envs/tensorflow_p36/lib/python3.6/site-packages (from gym) (2.20.1)\n",
      "Requirement already satisfied: future in /home/ec2-user/anaconda3/envs/tensorflow_p36/lib/python3.6/site-packages (from pyglet>=1.2.0->gym) (0.17.1)\n",
      "Requirement already satisfied: idna<2.8,>=2.5 in /home/ec2-user/anaconda3/envs/tensorflow_p36/lib/python3.6/site-packages (from requests>=2.0->gym) (2.6)\n",
      "Requirement already satisfied: urllib3<1.25,>=1.21.1 in /home/ec2-user/anaconda3/envs/tensorflow_p36/lib/python3.6/site-packages (from requests>=2.0->gym) (1.22)\n",
      "Requirement already satisfied: certifi>=2017.4.17 in /home/ec2-user/anaconda3/envs/tensorflow_p36/lib/python3.6/site-packages (from requests>=2.0->gym) (2018.11.29)\n",
      "Requirement already satisfied: chardet<3.1.0,>=3.0.2 in /home/ec2-user/anaconda3/envs/tensorflow_p36/lib/python3.6/site-packages (from requests>=2.0->gym) (3.0.4)\n"
     ]
    }
   ],
   "source": [
    "!pip install gym"
   ]
  },
  {
   "cell_type": "code",
   "execution_count": 10,
   "metadata": {},
   "outputs": [
    {
     "name": "stdout",
     "output_type": "stream",
     "text": [
      "Requirement already satisfied: pygame in /home/ec2-user/anaconda3/envs/tensorflow_p36/lib/python3.6/site-packages (1.9.5)\r\n"
     ]
    }
   ],
   "source": [
    "!pip install pygame"
   ]
  },
  {
   "cell_type": "code",
   "execution_count": 11,
   "metadata": {},
   "outputs": [],
   "source": [
    "os.chdir(\"src\")"
   ]
  },
  {
   "cell_type": "code",
   "execution_count": 12,
   "metadata": {},
   "outputs": [
    {
     "name": "stdout",
     "output_type": "stream",
     "text": [
      "pygame 1.9.5\n",
      "Hello from the pygame community. https://www.pygame.org/contribute.html\n",
      "70.35936056092389 0.0\n"
     ]
    }
   ],
   "source": [
    "# Get baseline reward\n",
    "from TSP_env import TSPEasyEnv\n",
    "from TSP_baseline import get_mean_baseline_reward\n",
    "baseline_mean, baseline_std_dev = get_mean_baseline_reward(env=TSPEasyEnv(),num_of_episodes=1)\n",
    "print(baseline_mean,baseline_std_dev)"
   ]
  },
  {
   "cell_type": "code",
   "execution_count": 13,
   "metadata": {},
   "outputs": [],
   "source": [
    "os.chdir(\"../\")"
   ]
  },
  {
   "cell_type": "markdown",
   "metadata": {},
   "source": [
    "#### Plot metrics for training job\n",
    "We can pull the reward metric of the training and plot it to see the performance of the model over time."
   ]
  },
  {
   "cell_type": "code",
   "execution_count": 14,
   "metadata": {
    "scrolled": true
   },
   "outputs": [
    {
     "name": "stdout",
     "output_type": "stream",
     "text": [
      "Waiting for s3://sagemaker-us-west-2-609956480270/rl-tsp-easy-2019-04-18-17-51-05-645/output/intermediate/worker_0.simple_rl_graph.main_level.main_level.agent_0.csv...\n",
      "Downloading rl-tsp-easy-2019-04-18-17-51-05-645/output/intermediate/worker_0.simple_rl_graph.main_level.main_level.agent_0.csv\n"
     ]
    },
    {
     "name": "stderr",
     "output_type": "stream",
     "text": [
      "/home/ec2-user/anaconda3/envs/tensorflow_p36/lib/python3.6/site-packages/pandas/plotting/_core.py:1716: UserWarning: Pandas doesn't allow columns to be created via a new attribute name - see https://pandas.pydata.org/pandas-docs/stable/indexing.html#attribute-access\n",
      "  series.name = label\n"
     ]
    },
    {
     "data": {
      "text/plain": [
       "Text(0.5,0,'Episode #')"
      ]
     },
     "execution_count": 14,
     "metadata": {},
     "output_type": "execute_result"
    },
    {
     "data": {
      "image/png": "[encoded data removed]",
      "text/plain": [
       "<Figure size 1296x432 with 1 Axes>"
      ]
     },
     "metadata": {},
     "output_type": "display_data"
    }
   ],
   "source": [
    "import pandas as pd\n",
    "import matplotlib\n",
    "%matplotlib inline\n",
    "\n",
    "# csv_file has all the RL training metrics\n",
    "# csv_file = \"{}/worker_0.simple_rl_graph.main_level.main_level.agent_0.csv\".format(tmp_dir)\n",
    "csv_file_name = \"worker_0.simple_rl_graph.main_level.main_level.agent_0.csv\"\n",
    "key = intermediate_folder_key + \"/\" + csv_file_name\n",
    "wait_for_s3_object(s3_bucket, key, tmp_dir)\n",
    "\n",
    "csv_file = \"{}/{}\".format(tmp_dir, csv_file_name)\n",
    "df = pd.read_csv(csv_file)\n",
    "x_axis = 'Episode #'\n",
    "y_axis_rl = 'Training Reward'\n",
    "y_axis_base = 'Baseline Reward'\n",
    "df[y_axis_rl] = df[y_axis_rl].rolling(5).mean()\n",
    "df[y_axis_base] = baseline_mean\n",
    "y_axes = [y_axis_rl]\n",
    "ax = df.plot(x=x_axis,y=[y_axis_rl,y_axis_base], figsize=(18,6), fontsize=18, legend=True, color=['b','r'])\n",
    "fig = ax.get_figure()\n",
    "ax.set_xlabel(x_axis,fontsize=20)\n",
    "#ax.set_ylabel(y_axis,fontsize=20)\n",
    "#fig.savefig('training_reward_vs_wall_clock_time.pdf')"
   ]
  },
  {
   "cell_type": "markdown",
   "metadata": {},
   "source": [
    "#### Visualize the rendered gifs\n",
    "The latest gif file found in the gifs directory is displayed. You can replace the tmp.gif file below to visualize other files generated."
   ]
  },
  {
   "cell_type": "code",
   "execution_count": 15,
   "metadata": {},
   "outputs": [
    {
     "name": "stdout",
     "output_type": "stream",
     "text": [
      "Waiting for s3://sagemaker-us-west-2-609956480270/rl-tsp-easy-2019-04-18-17-51-05-645/output/intermediate/gifs...\n",
      "Only downloading 20 of 22 files\n",
      "Downloading rl-tsp-easy-2019-04-18-17-51-05-645/output/intermediate/gifs/2019-04-18-17-54-01_episode-166_score-2.377297714175519.gif\n",
      "Downloading rl-tsp-easy-2019-04-18-17-51-05-645/output/intermediate/gifs/2019-04-18-17-54-09_episode-216_score-4.540413723466152.gif\n",
      "Downloading rl-tsp-easy-2019-04-18-17-51-05-645/output/intermediate/gifs/2019-04-18-17-54-39_episode-416_score-22.624327996616614.gif\n",
      "Downloading rl-tsp-easy-2019-04-18-17-51-05-645/output/intermediate/gifs/2019-04-18-17-54-47_episode-466_score-32.314733923990474.gif\n",
      "Downloading rl-tsp-easy-2019-04-18-17-51-05-645/output/intermediate/gifs/2019-04-18-17-54-56_episode-541_score-51.35936056092389.gif\n",
      "Downloading rl-tsp-easy-2019-04-18-17-51-05-645/output/intermediate/gifs/2019-04-18-17-55-03_episode-591_score-52.35936056092389.gif\n",
      "Downloading rl-tsp-easy-2019-04-18-17-51-05-645/output/intermediate/gifs/2019-04-18-17-55-27_episode-791_score-53.35936056092389.gif\n",
      "Downloading rl-tsp-easy-2019-04-18-17-51-05-645/output/intermediate/gifs/2019-04-18-17-55-45_episode-941_score-54.35936056092389.gif\n",
      "Downloading rl-tsp-easy-2019-04-18-17-51-05-645/output/intermediate/gifs/2019-04-18-17-56-03_episode-1116_score-55.35936056092389.gif\n",
      "Downloading rl-tsp-easy-2019-04-18-17-51-05-645/output/intermediate/gifs/2019-04-18-17-56-12_episode-1191_score-58.35936056092389.gif\n",
      "Downloading rl-tsp-easy-2019-04-18-17-51-05-645/output/intermediate/gifs/2019-04-18-17-56-22_episode-1291_score-59.35936056092389.gif\n",
      "Downloading rl-tsp-easy-2019-04-18-17-51-05-645/output/intermediate/gifs/2019-04-18-17-56-30_episode-1366_score-60.35936056092389.gif\n",
      "Downloading rl-tsp-easy-2019-04-18-17-51-05-645/output/intermediate/gifs/2019-04-18-17-56-40_episode-1466_score-61.35936056092389.gif\n",
      "Downloading rl-tsp-easy-2019-04-18-17-51-05-645/output/intermediate/gifs/2019-04-18-17-56-52_episode-1591_score-63.35936056092389.gif\n",
      "Downloading rl-tsp-easy-2019-04-18-17-51-05-645/output/intermediate/gifs/2019-04-18-17-57-01_episode-1691_score-65.35936056092389.gif\n",
      "Downloading rl-tsp-easy-2019-04-18-17-51-05-645/output/intermediate/gifs/2019-04-18-17-57-34_episode-2066_score-66.35936056092389.gif\n",
      "Downloading rl-tsp-easy-2019-04-18-17-51-05-645/output/intermediate/gifs/2019-04-18-17-57-56_episode-2316_score-67.35936056092389.gif\n",
      "Downloading rl-tsp-easy-2019-04-18-17-51-05-645/output/intermediate/gifs/2019-04-18-17-59-29_episode-3266_score-68.35936056092389.gif\n",
      "Downloading rl-tsp-easy-2019-04-18-17-51-05-645/output/intermediate/gifs/2019-04-18-18-00-29_episode-3966_score-69.35936056092389.gif\n",
      "Downloading rl-tsp-easy-2019-04-18-17-51-05-645/output/intermediate/gifs/2019-04-18-18-01-23_episode-4616_score-70.35936056092389.gif\n",
      "Copied gifs files to /tmp/rl-tsp-easy-2019-04-18-17-51-05-645\n",
      "GIFs found:\n",
      "2019-04-18-17-54-01_episode-166_score-2.377297714175519.gif\n",
      "2019-04-18-17-54-09_episode-216_score-4.540413723466152.gif\n",
      "2019-04-18-17-54-39_episode-416_score-22.624327996616614.gif\n",
      "2019-04-18-17-54-47_episode-466_score-32.314733923990474.gif\n",
      "2019-04-18-17-54-56_episode-541_score-51.35936056092389.gif\n",
      "2019-04-18-17-55-03_episode-591_score-52.35936056092389.gif\n",
      "2019-04-18-17-55-27_episode-791_score-53.35936056092389.gif\n",
      "2019-04-18-17-55-45_episode-941_score-54.35936056092389.gif\n",
      "2019-04-18-17-56-03_episode-1116_score-55.35936056092389.gif\n",
      "2019-04-18-17-56-12_episode-1191_score-58.35936056092389.gif\n",
      "2019-04-18-17-56-22_episode-1291_score-59.35936056092389.gif\n",
      "2019-04-18-17-56-30_episode-1366_score-60.35936056092389.gif\n",
      "2019-04-18-17-56-40_episode-1466_score-61.35936056092389.gif\n",
      "2019-04-18-17-56-52_episode-1591_score-63.35936056092389.gif\n",
      "2019-04-18-17-57-01_episode-1691_score-65.35936056092389.gif\n",
      "2019-04-18-17-57-34_episode-2066_score-66.35936056092389.gif\n",
      "2019-04-18-17-57-56_episode-2316_score-67.35936056092389.gif\n",
      "2019-04-18-17-59-29_episode-3266_score-68.35936056092389.gif\n",
      "2019-04-18-18-00-29_episode-3966_score-69.35936056092389.gif\n",
      "2019-04-18-18-01-23_episode-4616_score-70.35936056092389.gif\n",
      "Selected GIF: 2019-04-18-18-01-23_episode-4616_score-70.35936056092389.gif\n"
     ]
    },
    {
     "data": {
      "text/html": [
       "<img src=\"./src/tmp_render/2019-04-18-18-01-23_episode-4616_score-70.35936056092389.gif.gif\">"
      ],
      "text/plain": [
       "<IPython.core.display.HTML object>"
      ]
     },
     "execution_count": 15,
     "metadata": {},
     "output_type": "execute_result"
    }
   ],
   "source": [
    "key = intermediate_folder_key + '/gifs'\n",
    "wait_for_s3_object(s3_bucket, key, tmp_dir)    \n",
    "print(\"Copied gifs files to {}\".format(tmp_dir))\n",
    "\n",
    "glob_pattern = os.path.join(\"{}/*.gif\".format(tmp_dir))\n",
    "gifs = [file for file in glob.iglob(glob_pattern, recursive=True)]\n",
    "extract_episode = lambda string: int(re.search('.*episode-(\\d*)_.*', string, re.IGNORECASE).group(1))\n",
    "gifs.sort(key=extract_episode)\n",
    "print(\"GIFs found:\\n{}\".format(\"\\n\".join([os.path.basename(gif) for gif in gifs])))    \n",
    "\n",
    "# visualize a specific episode\n",
    "gif_index = -1 # since we want last gif\n",
    "gif_filepath = gifs[gif_index]\n",
    "gif_filename = os.path.basename(gif_filepath)\n",
    "print(\"Selected GIF: {}\".format(gif_filename))\n",
    "os.system(\"mkdir -p ./src/tmp_render/ && cp {} ./src/tmp_render/{}.gif\".format(gif_filepath, gif_filename))\n",
    "HTML('<img src=\"./src/tmp_render/{}.gif\">'.format(gif_filename))"
   ]
  },
  {
   "cell_type": "markdown",
   "metadata": {},
   "source": [
    "### Evaluation of RL models\n",
    "\n",
    "We use the last checkpointed model to run evaluation for the RL Agent. \n",
    "\n",
    "#### Load checkpointed model\n",
    "\n",
    "Checkpointed data from the previously trained models will be passed on for evaluation / inference in the checkpoint channel. In local mode, we can simply use the local directory, whereas in the SageMaker mode, it needs to be moved to S3 first."
   ]
  },
  {
   "cell_type": "code",
   "execution_count": 16,
   "metadata": {},
   "outputs": [
    {
     "name": "stdout",
     "output_type": "stream",
     "text": [
      "Waiting for s3://sagemaker-us-west-2-609956480270/rl-tsp-easy-2019-04-18-17-51-05-645/output/output.tar.gz...\n",
      "Downloading rl-tsp-easy-2019-04-18-17-51-05-645/output/output.tar.gz\n",
      "Checkpoint directory /tmp/rl-tsp-easy-2019-04-18-17-51-05-645/checkpoint\n",
      "CPU times: user 90.8 ms, sys: 137 ms, total: 228 ms\n",
      "Wall time: 1.03 s\n"
     ]
    }
   ],
   "source": [
    "%%time\n",
    "\n",
    "wait_for_s3_object(s3_bucket, output_tar_key, tmp_dir)  \n",
    "\n",
    "if not os.path.isfile(\"{}/output.tar.gz\".format(tmp_dir)):\n",
    "    raise FileNotFoundError(\"File output.tar.gz not found\")\n",
    "os.system(\"tar -xvzf {}/output.tar.gz -C {}\".format(tmp_dir, tmp_dir))\n",
    "\n",
    "if local_mode:\n",
    "    checkpoint_dir = \"{}/data/checkpoint\".format(tmp_dir)\n",
    "else:\n",
    "    checkpoint_dir = \"{}/checkpoint\".format(tmp_dir)\n",
    "\n",
    "print(\"Checkpoint directory {}\".format(checkpoint_dir))"
   ]
  },
  {
   "cell_type": "code",
   "execution_count": 17,
   "metadata": {},
   "outputs": [
    {
     "name": "stdout",
     "output_type": "stream",
     "text": [
      "S3 checkpoint file path: s3://sagemaker-us-west-2-609956480270/rl-tsp-easy-2019-04-18-17-51-05-645/checkpoint/\n",
      "CPU times: user 0 ns, sys: 5.98 ms, total: 5.98 ms\n",
      "Wall time: 1.23 s\n"
     ]
    }
   ],
   "source": [
    "%%time\n",
    "\n",
    "if local_mode:\n",
    "    checkpoint_path = 'file://{}'.format(checkpoint_dir)\n",
    "    print(\"Local checkpoint file path: {}\".format(checkpoint_path))\n",
    "else:\n",
    "    checkpoint_path = \"s3://{}/{}/checkpoint/\".format(s3_bucket, job_name)\n",
    "    if not os.listdir(checkpoint_dir):\n",
    "        raise FileNotFoundError(\"Checkpoint files not found under the path\")\n",
    "    os.system(\"aws s3 cp --recursive {} {}\".format(checkpoint_dir, checkpoint_path))\n",
    "    print(\"S3 checkpoint file path: {}\".format(checkpoint_path))"
   ]
  },
  {
   "cell_type": "markdown",
   "metadata": {},
   "source": [
    "#### Run the evaluation step\n",
    "\n",
    "Use the checkpointed model to run the evaluation step. "
   ]
  },
  {
   "cell_type": "code",
   "execution_count": 18,
   "metadata": {},
   "outputs": [
    {
     "name": "stderr",
     "output_type": "stream",
     "text": [
      "INFO:sagemaker:Creating training-job with name: sagemaker-rl-tensorflow-2019-04-18-18-20-17-295\n"
     ]
    },
    {
     "name": "stdout",
     "output_type": "stream",
     "text": [
      "2019-04-18 18:20:18 Starting - Starting the training job...\n",
      "2019-04-18 18:20:21 Starting - Launching requested ML instances......\n",
      "2019-04-18 18:21:29 Starting - Preparing the instances for training......\n",
      "2019-04-18 18:22:36 Downloading - Downloading input data\n",
      "2019-04-18 18:22:36 Training - Training image download completed. Training in progress.\n",
      "\u001b[31mbash: cannot set terminal process group (-1): Inappropriate ioctl for device\u001b[0m\n",
      "\u001b[31mbash: no job control in this shell\u001b[0m\n",
      "\u001b[31m2019-04-18 18:22:37,644 sagemaker-containers INFO     Imported framework sagemaker_tensorflow_container.training\u001b[0m\n",
      "\u001b[31m2019-04-18 18:22:37,647 sagemaker-containers INFO     No GPUs detected (normal if no gpus installed)\u001b[0m\n",
      "\u001b[31m2019-04-18 18:22:37,792 sagemaker-containers INFO     No GPUs detected (normal if no gpus installed)\u001b[0m\n",
      "\u001b[31m2019-04-18 18:22:37,806 sagemaker-containers INFO     Invoking user script\n",
      "\u001b[0m\n",
      "\u001b[31mTraining Env:\n",
      "\u001b[0m\n",
      "\u001b[31m{\n",
      "    \"additional_framework_parameters\": {\n",
      "        \"sagemaker_estimator\": \"RLEstimator\"\n",
      "    },\n",
      "    \"channel_input_dirs\": {\n",
      "        \"checkpoint\": \"/opt/ml/input/data/checkpoint\"\n",
      "    },\n",
      "    \"current_host\": \"algo-1\",\n",
      "    \"framework_module\": \"sagemaker_tensorflow_container.training:main\",\n",
      "    \"hosts\": [\n",
      "        \"algo-1\"\n",
      "    ],\n",
      "    \"hyperparameters\": {\n",
      "        \"RLCOACH_PRESET\": \"preset-tsp-easy\",\n",
      "        \"evaluate_steps\": 200\n",
      "    },\n",
      "    \"input_config_dir\": \"/opt/ml/input/config\",\n",
      "    \"input_data_config\": {\n",
      "        \"checkpoint\": {\n",
      "            \"TrainingInputMode\": \"File\",\n",
      "            \"S3DistributionType\": \"FullyReplicated\",\n",
      "            \"RecordWrapperType\": \"None\"\n",
      "        }\n",
      "    },\n",
      "    \"input_dir\": \"/opt/ml/input\",\n",
      "    \"job_name\": \"sagemaker-rl-tensorflow-2019-04-18-18-20-17-295\",\n",
      "    \"log_level\": 20,\n",
      "    \"model_dir\": \"/opt/ml/model\",\n",
      "    \"module_dir\": \"s3://sagemaker-us-west-2-609956480270/sagemaker-rl-tensorflow-2019-04-18-18-20-17-295/source/sourcedir.tar.gz\",\n",
      "    \"module_name\": \"evaluate-coach\",\n",
      "    \"network_interface_name\": \"ethwe\",\n",
      "    \"num_cpus\": 16,\n",
      "    \"num_gpus\": 0,\n",
      "    \"output_data_dir\": \"/opt/ml/output/data\",\n",
      "    \"output_dir\": \"/opt/ml/output\",\n",
      "    \"output_intermediate_dir\": \"/opt/ml/output/intermediate\",\n",
      "    \"resource_config\": {\n",
      "        \"current_host\": \"algo-1\",\n",
      "        \"hosts\": [\n",
      "            \"algo-1\"\n",
      "        ],\n",
      "        \"network_interface_name\": \"ethwe\"\n",
      "    },\n",
      "    \"user_entry_point\": \"evaluate-coach.py\"\u001b[0m\n",
      "\u001b[31m}\n",
      "\u001b[0m\n",
      "\u001b[31mEnvironment variables:\n",
      "\u001b[0m\n",
      "\u001b[31mSM_HOSTS=[\"algo-1\"]\u001b[0m\n",
      "\u001b[31mSM_NETWORK_INTERFACE_NAME=ethwe\u001b[0m\n",
      "\u001b[31mSM_HPS={\"RLCOACH_PRESET\":\"preset-tsp-easy\",\"evaluate_steps\":200}\u001b[0m\n",
      "\u001b[31mSM_USER_ENTRY_POINT=evaluate-coach.py\u001b[0m\n",
      "\u001b[31mSM_FRAMEWORK_PARAMS={\"sagemaker_estimator\":\"RLEstimator\"}\u001b[0m\n",
      "\u001b[31mSM_RESOURCE_CONFIG={\"current_host\":\"algo-1\",\"hosts\":[\"algo-1\"],\"network_interface_name\":\"ethwe\"}\u001b[0m\n",
      "\u001b[31mSM_INPUT_DATA_CONFIG={\"checkpoint\":{\"RecordWrapperType\":\"None\",\"S3DistributionType\":\"FullyReplicated\",\"TrainingInputMode\":\"File\"}}\u001b[0m\n",
      "\u001b[31mSM_OUTPUT_DATA_DIR=/opt/ml/output/data\u001b[0m\n",
      "\u001b[31mSM_CHANNELS=[\"checkpoint\"]\u001b[0m\n",
      "\u001b[31mSM_CURRENT_HOST=algo-1\u001b[0m\n",
      "\u001b[31mSM_MODULE_NAME=evaluate-coach\u001b[0m\n",
      "\u001b[31mSM_LOG_LEVEL=20\u001b[0m\n",
      "\u001b[31mSM_FRAMEWORK_MODULE=sagemaker_tensorflow_container.training:main\u001b[0m\n",
      "\u001b[31mSM_INPUT_DIR=/opt/ml/input\u001b[0m\n",
      "\u001b[31mSM_INPUT_CONFIG_DIR=/opt/ml/input/config\u001b[0m\n",
      "\u001b[31mSM_OUTPUT_DIR=/opt/ml/output\u001b[0m\n",
      "\u001b[31mSM_NUM_CPUS=16\u001b[0m\n",
      "\u001b[31mSM_NUM_GPUS=0\u001b[0m\n",
      "\u001b[31mSM_MODEL_DIR=/opt/ml/model\u001b[0m\n",
      "\u001b[31mSM_MODULE_DIR=s3://sagemaker-us-west-2-609956480270/sagemaker-rl-tensorflow-2019-04-18-18-20-17-295/source/sourcedir.tar.gz\u001b[0m\n",
      "\u001b[31mSM_TRAINING_ENV={\"additional_framework_parameters\":{\"sagemaker_estimator\":\"RLEstimator\"},\"channel_input_dirs\":{\"checkpoint\":\"/opt/ml/input/data/checkpoint\"},\"current_host\":\"algo-1\",\"framework_module\":\"sagemaker_tensorflow_container.training:main\",\"hosts\":[\"algo-1\"],\"hyperparameters\":{\"RLCOACH_PRESET\":\"preset-tsp-easy\",\"evaluate_steps\":200},\"input_config_dir\":\"/opt/ml/input/config\",\"input_data_config\":{\"checkpoint\":{\"RecordWrapperType\":\"None\",\"S3DistributionType\":\"FullyReplicated\",\"TrainingInputMode\":\"File\"}},\"input_dir\":\"/opt/ml/input\",\"job_name\":\"sagemaker-rl-tensorflow-2019-04-18-18-20-17-295\",\"log_level\":20,\"model_dir\":\"/opt/ml/model\",\"module_dir\":\"s3://sagemaker-us-west-2-609956480270/sagemaker-rl-tensorflow-2019-04-18-18-20-17-295/source/sourcedir.tar.gz\",\"module_name\":\"evaluate-coach\",\"network_interface_name\":\"ethwe\",\"num_cpus\":16,\"num_gpus\":0,\"output_data_dir\":\"/opt/ml/output/data\",\"output_dir\":\"/opt/ml/output\",\"output_intermediate_dir\":\"/opt/ml/output/intermediate\",\"resource_config\":{\"current_host\":\"algo-1\",\"hosts\":[\"algo-1\"],\"network_interface_name\":\"ethwe\"},\"user_entry_point\":\"evaluate-coach.py\"}\u001b[0m\n",
      "\u001b[31mSM_USER_ARGS=[\"--RLCOACH_PRESET\",\"preset-tsp-easy\",\"--evaluate_steps\",\"200\"]\u001b[0m\n",
      "\u001b[31mSM_OUTPUT_INTERMEDIATE_DIR=/opt/ml/output/intermediate\u001b[0m\n",
      "\u001b[31mSM_CHANNEL_CHECKPOINT=/opt/ml/input/data/checkpoint\u001b[0m\n",
      "\u001b[31mSM_HP_RLCOACH_PRESET=preset-tsp-easy\u001b[0m\n",
      "\u001b[31mSM_HP_EVALUATE_STEPS=200\u001b[0m\n",
      "\u001b[31mPYTHONPATH=/opt/ml/code:/usr/local/bin:/usr/lib/python36.zip:/usr/lib/python3.6:/usr/lib/python3.6/lib-dynload:/usr/local/lib/python3.6/dist-packages:/usr/lib/python3/dist-packages\n",
      "\u001b[0m\n",
      "\u001b[31mInvoking script with the following command:\n",
      "\u001b[0m\n",
      "\u001b[31m/usr/bin/python evaluate-coach.py --RLCOACH_PRESET preset-tsp-easy --evaluate_steps 200\n",
      "\n",
      "\u001b[0m\n",
      "\u001b[31m#033[93mWarning: failed to import the following packages - mxnet#033[0m\u001b[0m\n",
      "\u001b[31mLoading preset preset-tsp-easy from /opt/ml/code\u001b[0m\n",
      "\u001b[31m## Creating graph - name: BasicRLGraphManager\u001b[0m\n",
      "\u001b[31m## Creating agent - name: agent\u001b[0m\n",
      "\u001b[31m## Loading checkpoint: /opt/ml/input/data/checkpoint/./46_Step-99756.ckpt\u001b[0m\n",
      "\u001b[31m## agent: Starting evaluation phase\u001b[0m\n",
      "\u001b[31mALSA lib confmisc.c:768:(parse_card) cannot find card '0'\u001b[0m\n",
      "\u001b[31mALSA lib conf.c:4292:(_snd_config_evaluate) function snd_func_card_driver returned error: No such file or directory\u001b[0m\n",
      "\u001b[31mALSA lib confmisc.c:392:(snd_func_concat) error evaluating strings\u001b[0m\n",
      "\u001b[31mALSA lib conf.c:4292:(_snd_config_evaluate) function snd_func_concat returned error: No such file or directory\u001b[0m\n",
      "\u001b[31mALSA lib confmisc.c:1251:(snd_func_refer) error evaluating name\u001b[0m\n",
      "\u001b[31mALSA lib conf.c:4292:(_snd_config_evaluate) function snd_func_refer returned error: No such file or directory\u001b[0m\n",
      "\u001b[31mALSA lib conf.c:4771:(snd_config_expand) Evaluate error: No such file or directory\u001b[0m\n",
      "\u001b[31mALSA lib pcm.c:2266:(snd_pcm_open_noupdate) Unknown PCM default\u001b[0m\n",
      "\u001b[31mTesting> Name=main_level/agent, Worker=0, Episode=1, Total reward=70.36, Steps=14, Training iteration=0\u001b[0m\n",
      "\u001b[31mTesting> Name=main_level/agent, Worker=0, Episode=2, Total reward=70.36, Steps=28, Training iteration=0\u001b[0m\n",
      "\u001b[31mTesting> Name=main_level/agent, Worker=0, Episode=3, Total reward=70.36, Steps=42, Training iteration=0\u001b[0m\n",
      "\u001b[31mTesting> Name=main_level/agent, Worker=0, Episode=4, Total reward=70.36, Steps=56, Training iteration=0\u001b[0m\n",
      "\u001b[31mTesting> Name=main_level/agent, Worker=0, Episode=5, Total reward=70.36, Steps=70, Training iteration=0\u001b[0m\n",
      "\u001b[31mTesting> Name=main_level/agent, Worker=0, Episode=6, Total reward=70.36, Steps=84, Training iteration=0\u001b[0m\n",
      "\u001b[31mTesting> Name=main_level/agent, Worker=0, Episode=7, Total reward=70.36, Steps=98, Training iteration=0\u001b[0m\n",
      "\u001b[31mTesting> Name=main_level/agent, Worker=0, Episode=8, Total reward=70.36, Steps=112, Training iteration=0\u001b[0m\n",
      "\u001b[31mTesting> Name=main_level/agent, Worker=0, Episode=9, Total reward=70.36, Steps=126, Training iteration=0\u001b[0m\n",
      "\u001b[31mTesting> Name=main_level/agent, Worker=0, Episode=10, Total reward=70.36, Steps=140, Training iteration=0\u001b[0m\n",
      "\u001b[31mTesting> Name=main_level/agent, Worker=0, Episode=11, Total reward=70.36, Steps=154, Training iteration=0\u001b[0m\n",
      "\u001b[31mTesting> Name=main_level/agent, Worker=0, Episode=12, Total reward=70.36, Steps=168, Training iteration=0\u001b[0m\n",
      "\u001b[31mTesting> Name=main_level/agent, Worker=0, Episode=13, Total reward=70.36, Steps=182, Training iteration=0\u001b[0m\n",
      "\u001b[31mTesting> Name=main_level/agent, Worker=0, Episode=14, Total reward=70.36, Steps=196, Training iteration=0\u001b[0m\n",
      "\u001b[31mTesting> Name=main_level/agent, Worker=0, Episode=15, Total reward=70.36, Steps=210, Training iteration=0\u001b[0m\n",
      "\u001b[31m## agent: Finished evaluation phase. Success rate = 0.0, Avg Total Reward = 70.36\u001b[0m\n",
      "\u001b[31m2019-04-18 18:22:48,606 sagemaker-containers INFO     Reporting training SUCCESS\u001b[0m\n"
     ]
    },
    {
     "name": "stdout",
     "output_type": "stream",
     "text": [
      "\n",
      "2019-04-18 18:22:53 Uploading - Uploading generated training model\n",
      "2019-04-18 18:22:53 Completed - Training job completed\n",
      "Billable seconds: 32\n"
     ]
    }
   ],
   "source": [
    "estimator_eval = RLEstimator(role=role,\n",
    "                             source_dir='src/',\n",
    "                             dependencies = [\"common/sagemaker_rl\"],\n",
    "                             toolkit=RLToolkit.COACH,\n",
    "                             toolkit_version='0.11.0',\n",
    "                             framework=RLFramework.TENSORFLOW,\n",
    "                             entry_point=\"evaluate-coach.py\",\n",
    "                             train_instance_count=1,\n",
    "                             train_instance_type=instance_type,\n",
    "                             hyperparameters = {\n",
    "                                 \"RLCOACH_PRESET\": \"preset-tsp-easy\",\n",
    "                                 \"evaluate_steps\": 200, #max 4 episodes\n",
    "                             }\n",
    "                            )\n",
    "\n",
    "estimator_eval.fit({'checkpoint': checkpoint_path})"
   ]
  },
  {
   "cell_type": "markdown",
   "metadata": {},
   "source": [
    "## Medium version of TSP <a name=\"TSP-Medium\"></a>\n",
    "We make the problem much harder in this version by randomizing the location of destiations each episode. Hence, RL agent has to come up with a general strategy to navigate the grid. Parameters, states, actions, and rewards are identical to the Easy version of TSP.\n",
    "\n",
    "### States\n",
    "At each time step, our agent is aware of the following information:\n",
    "\n",
    "1. For the Restuarant:\n",
    "    1. Location (x,y coordinates)\n",
    "    \n",
    "2. For the Driver\n",
    "    1. Location (x,y coordinates)\n",
    "    2. Is driver at restaurant (yes/no)\n",
    "\n",
    "3. For each Order: \n",
    "    1. Location (x,y coordinates)\n",
    "    2. Status (Delivered or Not Delivered)\n",
    "    3. Time (Time taken to deliver reach order -- incrementing until delivered)\n",
    "4. Miscellaneous\n",
    "    1. Time since start of episode\n",
    "    2. Time remaining until end of episode (i.e. until max time)\n",
    "\n",
    "\n",
    "### Actions\n",
    "At each time step, our agent can take the following steps:\n",
    "- Up - Move one step up in the map\n",
    "- Down - Move one step down in the map\n",
    "- Right - Move one step right in the map\n",
    "- Left - Move one step left in the map\n",
    "\n",
    "### Rewards\n",
    "Agent gets a reward of -1 for each time step. If an order is delivered in that timestep, it gets a positive reward inversely proportional to the time taken to deliver. If all the orders are delivered and the agent is back to the restaurant, it gets an additional reward inversely proportional to time since start of episode."
   ]
  },
  {
   "cell_type": "markdown",
   "metadata": {},
   "source": [
    "## Using AWS SageMaker for RL <a name=\"SM-TSP-Medium\"></a>\n",
    "\n",
    "### Train the model using Python SDK/Script mode\n",
    "\n",
    "Skipping through the basic setup, assuming you did that already for the easy version. For good results, we suggest you train for at least 1,000,000 steps. You can edit this either as a hyperparameter in the cell or directly change the preset file."
   ]
  },
  {
   "cell_type": "code",
   "execution_count": null,
   "metadata": {},
   "outputs": [],
   "source": [
    "%%time\n",
    "\n",
    "# run in local mode?\n",
    "local_mode = False\n",
    "\n",
    "# create unique job name \n",
    "job_name_prefix = 'rl-tsp-medium'"
   ]
  },
  {
   "cell_type": "code",
   "execution_count": null,
   "metadata": {},
   "outputs": [],
   "source": [
    "%%time\n",
    "\n",
    "if local_mode:\n",
    "    instance_type = 'local'\n",
    "else:\n",
    "    instance_type = \"ml.m4.4xlarge\"\n",
    "    \n",
    "estimator = RLEstimator(entry_point=\"train-coach.py\",\n",
    "                        source_dir='src',\n",
    "                        dependencies = [\"common/sagemaker_rl\"],\n",
    "                        toolkit=RLToolkit.COACH,\n",
    "                        toolkit_version='0.11.0',\n",
    "                        framework=RLFramework.TENSORFLOW,\n",
    "                        role=role,\n",
    "                        train_instance_type=instance_type,\n",
    "                        train_instance_count=1,\n",
    "                        output_path=s3_output_path,\n",
    "                        base_job_name=job_name_prefix,\n",
    "                        hyperparameters = {\n",
    "                          \"RLCOACH_PRESET\": \"preset-tsp-medium\",\n",
    "                        }\n",
    "                    )\n",
    "\n",
    "estimator.fit(wait=local_mode)"
   ]
  },
  {
   "cell_type": "markdown",
   "metadata": {},
   "source": [
    "## Visualize, Compare with Baseline and Evaluate\n",
    "\n",
    "You can follow the same set of code used for TSP easy version."
   ]
  },
  {
   "cell_type": "markdown",
   "metadata": {},
   "source": [
    "# Vehicle Routing Problem with Reinforcement Learning <a name=\"VRP-Easy\"></a>\n",
    "\n",
    "Vehicle Routing Problem (VRP) is a similar problem where the algorithm optimizes the movement of a fleet of vehicles. Our VRP formulation is a bit different, we have a delivery driver who accepts orders from customers, picks up food from a restaurant and delivers it to the customer. The driver optimizes to increase the number of successful deliveries within a time limit.\n",
    "\n",
    "Key differences from TSP: \n",
    "\n",
    "- Pathing is now automatic.  Instead of choosing \"left, right, up, down\", now you just select your destination as your action.  The environment will get you there in the fewest steps possible.\n",
    "- Since the routing/pathing is now taken care of, we add in complexity elsewhere...\n",
    "- There can be more than one restaurant, each with a different type of order (e.g. Pizzas vs. Burritos).  Each order will have a different type, and you have to visit the correct restuarant to pick up an order before dropping it off.\n",
    "- Drivers have a limited capacity; they cannot pick up an infinite number of orders.  Instead, they can only have (e.g. 5) orders in the car at any given time.  This means they will have to return to the restaurant(s) in between deliveries to pick up more supply.\n",
    "- Orders now come in dynamically over time, rather than all being known at time zero.  Each time step, there is some probability that an order will be generated.  \n",
    "- As the driver/agent, we now have the choice to fulfill an order or not -- there's no penalty associated with not accepting an order, but a potential penalty if we accept an order and fail to deliver it before Timeout.\n",
    "\n",
    "### States\n",
    "At each time step, our agent is aware of the following information:\n",
    "\n",
    "1. For each Restuarant:\n",
    "    1. Location (x,y coordinates)\n",
    "    \n",
    "1. For the Driver\n",
    "    1. Location (x,y coordinates)\n",
    "    2. Capacity (maximum # of orders you can carry, at one time, on the driver)\n",
    "    3. Used Capacity (# of orders you currently carry on the driver)\n",
    "\n",
    "1. For each Order: \n",
    "    1. Location (x,y coordinates)\n",
    "    2. Status (Accepted, Not Accepted, Delivered, Not Delivered)\n",
    "    3. Type (Which restuarant the order belongs to, like Pizza, or Burrito)\n",
    "    4. Time (Time since order was generated)\n",
    "    5. Promise (If you deliver the order by this time, you get a bonus reward)\n",
    "    6. Timeout (If you deliver the order after this time, you get a penalty)\n",
    "\n",
    "### Actions\n",
    "At each time step, our agent can do ONE of the following:\n",
    "- Choose a restaurant to visit (incremental step L,R,U,D, will be auto-pathed)\n",
    "- Choose an order to visit (incremental step L,R,U,D, will be auto-pathed)\n",
    "- Accept an order (no movement will occur)\n",
    "- Do nothing\n",
    "\n",
    "### Rewards\n",
    "- Driver gets a reward of -1 for each time step. \n",
    "- If driver delivers order, get a reward proportional to the time taken to deliver (extra bonus for beating Promise time)\n",
    "- If order expires (reaches Timeout), get a penalty"
   ]
  },
  {
   "cell_type": "markdown",
   "metadata": {},
   "source": [
    "## Using AWS SageMaker RL <a name=\"SM-VRP-Easy\"></a>\n",
    "\n",
    "### Train the model using Python SDK/Script mode\n",
    "\n",
    "Skipping through the basic setup, assuming you did that already for the easy version. For good results, we suggest a minimum of 5,000,000 steps of training."
   ]
  },
  {
   "cell_type": "code",
   "execution_count": null,
   "metadata": {},
   "outputs": [],
   "source": [
    "%%time\n",
    "\n",
    "# run in local mode?\n",
    "local_mode = False\n",
    "\n",
    "# create unique job name \n",
    "job_name_prefix = 'rl-vrp-easy'"
   ]
  },
  {
   "cell_type": "code",
   "execution_count": null,
   "metadata": {},
   "outputs": [],
   "source": [
    "%%time\n",
    "\n",
    "if local_mode:\n",
    "    instance_type = 'local'\n",
    "else:\n",
    "    instance_type = \"ml.m4.4xlarge\"\n",
    "    \n",
    "estimator = RLEstimator(entry_point=\"train-coach.py\",\n",
    "                        source_dir='src',\n",
    "                        dependencies = [\"common/sagemaker_rl\"],\n",
    "                        toolkit=RLToolkit.COACH,\n",
    "                        toolkit_version='0.11.0',\n",
    "                        framework=RLFramework.TENSORFLOW,\n",
    "                        role=role,\n",
    "                        train_instance_type=instance_type,\n",
    "                        train_instance_count=1,\n",
    "                        output_path=s3_output_path,\n",
    "                        base_job_name=job_name_prefix,\n",
    "                        hyperparameters = {\n",
    "                          \"RLCOACH_PRESET\": \"preset-vrp-easy\",\n",
    "                        }\n",
    "                    )\n",
    "\n",
    "estimator.fit(wait=local_mode)"
   ]
  },
  {
   "cell_type": "markdown",
   "metadata": {},
   "source": [
    "## Visualize, Compare with Baseline and Evaluate\n",
    "\n",
    "You can follow the same set of code used for TSP easy version."
   ]
  }
 ],
 "metadata": {
  "kernelspec": {
   "display_name": "conda_tensorflow_p36",
   "language": "python",
   "name": "conda_tensorflow_p36"
  },
  "language_info": {
   "codemirror_mode": {
    "name": "ipython",
    "version": 3
   },
   "file_extension": ".py",
   "mimetype": "text/x-python",
   "name": "python",
   "nbconvert_exporter": "python",
   "pygments_lexer": "ipython3",
   "version": "3.6.5"
  },
  "notice": "Copyright 2018 Amazon.com, Inc. or its affiliates. All Rights Reserved. Licensed under the Apache License, Version 2.0 (the \"License\"). You may not use this file except in compliance with the License. A copy of the License is located at http://aws.amazon.com/apache2.0/ or in the \"license\" file accompanying this file. This file is distributed on an \"AS IS\" BASIS, WITHOUT WARRANTIES OR CONDITIONS OF ANY KIND, either express or implied. See the License for the specific language governing permissions and limitations under the License."
 },
 "nbformat": 4,
 "nbformat_minor": 1
}
